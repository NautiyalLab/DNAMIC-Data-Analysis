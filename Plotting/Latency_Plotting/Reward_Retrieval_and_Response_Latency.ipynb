{
 "cells": [
  {
   "cell_type": "markdown",
   "metadata": {},
   "source": [
    "# Latency Plotting Code Boilerplate Notebook\n",
    "\n",
    "Author: Jun Ho Lee  \n",
    "Last Update: 10/6/2019\n"
   ]
  },
  {
   "cell_type": "markdown",
   "metadata": {},
   "source": [
    "____\n",
    "<a id='Goals'></a>\n",
    "\n",
    "### General Objective:\n",
    "Calculate the latencies and plot the cdf (cumulative distribution function)\n",
    "\n",
    "### Important Note:\n",
    "\n",
    "> Do **NOT** save or modify the original csv file!!! \n",
    "Modifying the csv file will lead to truncation of leading zeros in the file, which will mess up the analysis! \n"
   ]
  },
  {
   "cell_type": "markdown",
   "metadata": {},
   "source": [
    "<a id='Table of Contents'></a>\n",
    "___\n",
    "* * * * * * * * * \n",
    "\n",
    "0. <a href='#Goals'>Objectives and Pipeline</a>\n",
    "\n",
    "## Table of Contents\n",
    "\n",
    "\n",
    "1. <a href='#Function List'>List of Functions</a>\n",
    "\n",
    "2. <a href='#data wrangling'>Initial Data Wrangling</a>\n",
    "\n",
    "3. <a href='#metric output'>Metric Output</a>\n",
    "\n",
    "3. <a href='#metric checkpoint'>Save Metric Output to CSV (Checkpoint)</a>\n",
    "\n",
    "\n",
    "\n",
    "**Appendix:**  \n",
    "1. <a href='#Event Code'>Event Codes</a> (Run this First!!)"
   ]
  },
  {
   "cell_type": "markdown",
   "metadata": {},
   "source": [
    "<a id='Function List'></a>\n",
    "___\n",
    "    \n",
    "### 1. List of Functions\n",
    "\n",
    "*A. <a href='#data extraction'>Data Extraction and Parsing</a>*\n",
    "1. <a href='#return_header_dict'>return-multi-header-dict</a>\n",
    "2. <a href='#return_body_df'>return-multi-body-df</a>\n",
    "3. <a href='#get_start_end_time'>get-start-end-time</a>\n",
    "4. <a href='#return_multi_dt'>return-multi-dt-df</a> \n",
    "5. <a href='#fill_counter_datetime_col'>fill-counter-datetime-col</a> \n",
    "6. <a href='#return_multi_parsed_dt'>return-multi-parsed-dt-df</a>\n",
    "7. <a href='#final wrapper function'>final-m-header-and-parsed-dt-df</a>\n",
    "\n",
    "\n",
    "*B. <a href='#metric calculation'>Metric Calculations</a>*\n",
    "1. <a href='#counts_during_window'>counts-during-window</a>\n",
    "2. <a href='#count_events'>count-events</a>\n",
    "\n"
   ]
  },
  {
   "cell_type": "markdown",
   "metadata": {},
   "source": [
    "### *For Function Testing Purposes*\n",
    "\n",
    "###### Import Basic Libraries"
   ]
  },
  {
   "cell_type": "code",
   "execution_count": 1,
   "metadata": {},
   "outputs": [],
   "source": [
    "import numpy as np\n",
    "import pandas as pd\n",
    "from natsort import natsorted, ns\n",
    "from datetime import datetime\n",
    "# import matplotlib.pyplot as plt\n",
    "# import seaborn as sns\n",
    "\n",
    "file = \"../0923 TIR.csv\" \n",
    "test_multi_df = pd.read_csv(file, header=[0,1], index_col=[0])\n",
    "\n",
    "# # To test out the effect of saving on a csv file \n",
    "# file1 = \"0903 w_delay.csv\" \n",
    "# test1 = pd.read_csv(file1, header=[0,1], index_col=[0])"
   ]
  },
  {
   "cell_type": "code",
   "execution_count": 2,
   "metadata": {},
   "outputs": [],
   "source": [
    "# df_test1 = test1['6']\n",
    "# df_test1.head(10)\n",
    "# test1.info()"
   ]
  },
  {
   "cell_type": "markdown",
   "metadata": {},
   "source": [
    "<a id='data extraction'></a>\n",
    "___\n",
    "#### A. Data Extraction and Parsing\n"
   ]
  },
  {
   "cell_type": "markdown",
   "metadata": {},
   "source": [
    "<a id='return_header_dict'></a>\n",
    "\n",
    "**1: return_multi_header_dict (multi_df)**\n",
    "\n",
    "- :**multi_df:** multilevel dataframe that we created from \"import_files.py\"\n",
    "- **:return:** `m_head_dict`: nested dictionary of headers $\\rightarrow$ {box number(keys): {header info(values)}}"
   ]
  },
  {
   "cell_type": "code",
   "execution_count": 3,
   "metadata": {},
   "outputs": [],
   "source": [
    "# # Will only need the initial \"MultiLevel Dataframe\" to run subsequent codes!!\n",
    "def return_multi_header_dict(multi_df):\n",
    "    \n",
    "    m_head_dict = {}\n",
    "    box_numbers = multi_df.columns.levels[0]  # Returns a \"Frozen List\" \n",
    "    sorted_box_nums = natsorted(box_numbers) # outputs a list of sorted box numbers\n",
    "\n",
    "    for i in range(len(sorted_box_nums)):\n",
    "        box_num = sorted_box_nums[i]\n",
    "        ind_df = multi_df.loc[:, box_num]  # individual dataframe (box is type 'string')\n",
    "\n",
    "        ind_df = ind_df.dropna(how='all')\n",
    "\n",
    "        start_code_idx = ind_df.index[ind_df.event_code == '0113'].tolist()[0]  # the list will only contain ONE element\n",
    "        end_date_info = ind_df[-2:]  # last two rows will always be end date info\n",
    "\n",
    "        head = ind_df[:start_code_idx]\n",
    "\n",
    "        ind_head = pd.concat([head, end_date_info], axis=0)   # header dictionary requires end date/time info so need to concatenate the top and bottom dfs\n",
    "        ind_head['timestamp'] = ind_head['timestamp'].str.strip()\n",
    "\n",
    "        # # {first column: second column}\n",
    "        ind_header_dict = {row[0]: row[1] for row in ind_head.values}  # .values --> transforms into numpy array\n",
    "\n",
    "        m_head_dict[box_num] = ind_header_dict\n",
    "\n",
    "    return m_head_dict\n"
   ]
  },
  {
   "cell_type": "code",
   "execution_count": 4,
   "metadata": {},
   "outputs": [],
   "source": [
    "test_m_head_dict = return_multi_header_dict(test_multi_df)"
   ]
  },
  {
   "cell_type": "markdown",
   "metadata": {},
   "source": [
    "<a href='#Function List'>Back to List of Functions</a>"
   ]
  },
  {
   "cell_type": "code",
   "execution_count": 5,
   "metadata": {},
   "outputs": [],
   "source": [
    "# test_multi_df\n",
    "# pd.DataFrame.from_dict(test_m_head_dict, orient='index')"
   ]
  },
  {
   "cell_type": "markdown",
   "metadata": {},
   "source": [
    "<a id='return_body_df'></a>\n",
    "\n",
    "**2: return_multi_body_df (multi_df):**\n",
    "\n",
    "- **:multi_df:** multilevel dataframe that we created from \"import_files.py\"\n",
    "- **:returns:** `m_body_df`: multilevel dataframe of the BODY portion of data  \n",
    "\n",
    "*BODY*: FROM the first IR initialization (9070) TO the second to last row of the original dataframe (excluding end date/time)"
   ]
  },
  {
   "cell_type": "code",
   "execution_count": 8,
   "metadata": {},
   "outputs": [],
   "source": [
    "# Will only need the initial \"MultiLevel Dataframe\" to run subsequent codes!!\n",
    "\n",
    "def return_multi_body_df(multi_df, columns):\n",
    "\n",
    "    result = []; box_arr = []\n",
    "    box_numbers = multi_df.columns.levels[0]\n",
    "    sorted_box_nums = natsorted(box_numbers) # outputs a list of sorted box numbers\n",
    "    \n",
    "    for i in range(len(sorted_box_nums)):  # for all the boxes, (outermost index is box number)\n",
    "        box_num = sorted_box_nums[i]\n",
    "        ind_df = multi_df.loc[:, box_num]  # individual dataframe\n",
    "\n",
    "        ind_df = ind_df.dropna(how='all')\n",
    "#         ind_df['event_code'] = ind_df['event_code'].astype('str')  # Changed\n",
    "\n",
    "        # Extracting ACTUAL BODY\n",
    "        header_end_idx = ind_df.loc[ind_df[ind_df.columns[0]] == '9070'].index[0]\n",
    "        body_start_idx = header_end_idx + 1\n",
    "\n",
    "        body = ind_df[body_start_idx:-2].reset_index(drop=True)\n",
    "        body.loc[:,'timestamp'] = pd.to_numeric(body['timestamp'])\n",
    "        body['event_string'] = body['event_code'].map(event_code_dict)\n",
    "\n",
    "        body = body[columns]  # 4 columns or 3 columns\n",
    "\n",
    "        box_arr.append(box_num)\n",
    "        result.append(body)\n",
    "\n",
    "    m_body_df = pd.concat(result, axis=1, keys=box_arr, names=['Box Number', 'Columns'])\n",
    "\n",
    "    return m_body_df\n"
   ]
  },
  {
   "cell_type": "markdown",
   "metadata": {},
   "source": [
    "<a href='#Event Code'>Event Codes</a> (Run this First!!)"
   ]
  },
  {
   "cell_type": "code",
   "execution_count": 9,
   "metadata": {},
   "outputs": [],
   "source": [
    " \n",
    "# # Use this for TIR (paradigms that have counter values)  - double :: \n",
    "columns = ['event_string', 'event_code', 'timestamp', 'counter'] \n",
    "# columns = ['event_code', 'timestamp', 'counter']   # # --> inclusion of 'event_string' is up to the user\n",
    "\n",
    "test_m_body_df = return_multi_body_df(test_multi_df, columns)"
   ]
  },
  {
   "cell_type": "code",
   "execution_count": 10,
   "metadata": {},
   "outputs": [],
   "source": [
    "# test_m_body_df.head()"
   ]
  },
  {
   "cell_type": "markdown",
   "metadata": {},
   "source": [
    "<a href='#Function List'>Back to List of Functions</a>"
   ]
  },
  {
   "cell_type": "markdown",
   "metadata": {},
   "source": [
    "<a id='get_start_end_time'></a>\n",
    "\n",
    "**3. get_start_end_time (m_head_dict):**\n",
    "\n",
    "- **:m_head_dict:** nested dictionary of headers for all boxes\n",
    "- **:returns:** `start_end_time_dict`: dictionary of datetime tuples {box_num: (start_time, end_time)}\n"
   ]
  },
  {
   "cell_type": "code",
   "execution_count": 11,
   "metadata": {},
   "outputs": [],
   "source": [
    "def get_start_end_time(m_head_dict):\n",
    "\n",
    "    start_end_time_dict = {}\n",
    "\n",
    "    box_numbers = list(m_head_dict)   # keys of the header dictionary --> box numbers\n",
    "    for i in range(len(box_numbers)):\n",
    "        box_num = box_numbers[i]\n",
    "        \n",
    "        # Start Datetime\n",
    "        start_datetime = m_head_dict[box_num]['Start Date'] + \" \" + m_head_dict[box_num]['Start Time']\n",
    "        start_datetime = start_datetime.replace(\"-\",\":\")\n",
    "\n",
    "        # End Datetime\n",
    "        end_datetime = m_head_dict[box_num]['End Date']  + \" \" + m_head_dict[box_num]['End Time']\n",
    "        end_datetime = end_datetime.replace(\"-\",\":\")\n",
    "\n",
    "        start_time = datetime.strptime(start_datetime, '%m/%d/%Y %H:%M:%S')\n",
    "        end_time = datetime.strptime(end_datetime, '%m/%d/%Y %H:%M:%S')\n",
    "\n",
    "        start_end_time_dict[box_num] = (start_time, end_time)  # saves it as a tuple of datetimes\n",
    "        # print(start_time, end_time)\n",
    "\n",
    "    return start_end_time_dict\n",
    "    "
   ]
  },
  {
   "cell_type": "code",
   "execution_count": 12,
   "metadata": {},
   "outputs": [],
   "source": [
    "test_start_end_time_dict = get_start_end_time(test_m_head_dict)"
   ]
  },
  {
   "cell_type": "markdown",
   "metadata": {},
   "source": [
    "<a href='#Function List'>Back to List of Functions</a>"
   ]
  },
  {
   "cell_type": "markdown",
   "metadata": {},
   "source": [
    "<a id='return_multi_dt'></a>\n",
    "\n",
    "**4. return_multi_dt_df (m_head_dict, m_body_df, start_end_time_dict):**\n",
    "- **:m_head_dict:** dictionary for all boxes\n",
    "- **:m_body_df:** multilevel dataframe of the BODY\n",
    "- **:start_end_time_dict:** nested dictionary of start/end time tuples\n",
    "- **:returns:** `m_dt_df`: multilevel datetime dataframe\n"
   ]
  },
  {
   "cell_type": "code",
   "execution_count": 13,
   "metadata": {},
   "outputs": [],
   "source": [
    "\n",
    "def return_multi_dt_df(m_head_dict, m_body_df, start_end_time_dict):\n",
    "\n",
    "    result = []; box_arr = list(m_body_df.columns.levels[0])\n",
    "    midx_shape = m_body_df.columns.levshape   # (returns a tuple)\n",
    "    \n",
    "    # # # Exception Handling \n",
    "    if (len(m_head_dict) != midx_shape[0]):   # This indicates the number of boxes\n",
    "        raise ValueError('Number of boxes in dictionary and dataframe does not match')\n",
    "\n",
    "    for i in range(len(box_arr)):  # for all the boxes in box_array\n",
    "        box_num = box_arr[i]    \n",
    "        ind_df = m_body_df.loc[:, box_num]  # individual dataframe / box_num --> class 'string'\n",
    "    \n",
    "        ind_df = ind_df.dropna(how='all')\n",
    "        \n",
    "        start_time = start_end_time_dict[box_num][0]\n",
    "        end_time = start_end_time_dict[box_num][1]\n",
    "        \n",
    "        # # Broadcast new columns \n",
    "        ind_df['datetime_realtime'] = start_time + pd.to_timedelta(pd.to_numeric(ind_df['timestamp']), unit='ms')\n",
    "        ind_df['day'] = ind_df['datetime_realtime'].dt.day\n",
    "        ind_df['hour'] = ind_df['datetime_realtime'].dt.hour  # using the .dt accessor to access datetime object\n",
    "    \n",
    "        # box_arr.append(box_num)\n",
    "        result.append(ind_df)\n",
    "    \n",
    "    m_dt_df = pd.concat(result, axis=1, keys=box_arr, names=['Box Number', 'Columns'])\n",
    "    \n",
    "    return m_dt_df\n",
    "    "
   ]
  },
  {
   "cell_type": "code",
   "execution_count": 14,
   "metadata": {},
   "outputs": [],
   "source": [
    "test_m_dt_df = return_multi_dt_df(test_m_head_dict, test_m_body_df, test_start_end_time_dict)\n",
    "# test_m_dt_df"
   ]
  },
  {
   "cell_type": "markdown",
   "metadata": {},
   "source": [
    "<a href='#Function List'>Back to List of Functions</a>"
   ]
  },
  {
   "cell_type": "markdown",
   "metadata": {},
   "source": [
    "<a id='fill_counter_datetime_col'></a>\n",
    "\n",
    "**5. fill_counter_datetime_col (m_dt_df):**\n",
    "- **:m_dt_df:** multilevel datetime dataframe\n",
    "- **:returns:** `m_dt_df_impute`: multilevel dataframe after datetime imputation (backfilled + ffilled) \n",
    "\n",
    "\n",
    "#### This is a necessary imputation step since counter values don't have timestamps! (and indexing will be impossible without valid timestamps) \n",
    "- Will use ffill if last row in the parsed dataframe is a counter value \n",
    "- Will use bfill if first row in the parsed dataframe is a counter value\n",
    "\n",
    "(without this step, tried to parse the dataframe according to the indices, but that ran into problems as well... -> thought it would be easier to just bfill / ffill the missing datetime values for the counters) \n"
   ]
  },
  {
   "cell_type": "code",
   "execution_count": 15,
   "metadata": {},
   "outputs": [],
   "source": [
    "\n",
    "def return_multi_imputed_dt_df(m_dt_df):\n",
    "    \n",
    "    result = []; box_arr = list(m_dt_df.columns.levels[0])\n",
    "#     midx_shape = m_dt_df.columns.levshape   # (returns a tuple)\n",
    "    \n",
    "    for i in range(len(box_arr)):  # for all the boxes in box_array\n",
    "        box_num = box_arr[i]    \n",
    "        ind_df = m_dt_df.loc[:, box_num]  # individual dataframe / box_num --> class 'string'\n",
    "    \n",
    "        ind_df = ind_df.dropna(how='all')\n",
    "        \n",
    "        first_row_timestamp = ind_df.iloc[0]['timestamp']  \n",
    "        last_row_timestamp = ind_df.iloc[-1]['timestamp'] \n",
    "        \n",
    "        ind_df_impute = ind_df.copy()\n",
    "\n",
    "        # # Two if statements to ensure columns get filled in every case \n",
    "        # # Even if BOTH first row and last row are NaN values\n",
    "        \n",
    "        if pd.isnull(first_row_timestamp):\n",
    "            ind_df_impute['datetime_filled'] = ind_df_impute.datetime_realtime.fillna(method='bfill')\n",
    "\n",
    "        # # Column updating! \n",
    "        if pd.isnull(last_row_timestamp): \n",
    "            ind_df_impute['datetime_filled'] = ind_df_impute['datetime_filled'].fillna(method='ffill')\n",
    "            \n",
    "        # # If none of the first/last rows are none, just use bfill method\n",
    "        else:\n",
    "            ind_df_impute['datetime_filled'] = ind_df_impute.datetime_realtime.fillna(method='bfill')\n",
    "\n",
    "        result.append(ind_df_impute)\n",
    "    \n",
    "    # box_arr from above (before the for loop)\n",
    "    m_dt_df_imputed = pd.concat(result, axis=1, keys=box_arr, names=['Box Number', 'Columns'])\n",
    "            \n",
    "    return m_dt_df_imputed\n",
    "    "
   ]
  },
  {
   "cell_type": "code",
   "execution_count": 16,
   "metadata": {},
   "outputs": [],
   "source": [
    "test_m_dt_df_imputed = return_multi_imputed_dt_df(test_m_dt_df)\n",
    "# test_m_dt_df_imputed"
   ]
  },
  {
   "cell_type": "markdown",
   "metadata": {},
   "source": [
    "<a href='#Function List'>Back to List of Functions</a>"
   ]
  },
  {
   "cell_type": "markdown",
   "metadata": {},
   "source": [
    "<a id='return_multi_parsed_dt'></a>\n",
    "\n",
    "**6. return_multi_parsed_dt_df (m_head_dict, m_dt_df_imputed, start_parsetime, end_parsetime):**\n",
    "- **:m_head_dict:** dictionary for all boxes\n",
    "- **:m_dt_df_imputed:** multilevel datetime dataframe after imputation\n",
    "- **:start_parsetime:** start of parsetime\n",
    "- **:end_parsetime:** end of parsetime\n",
    "- **:returns:** `m_parsed_dt_df`: multilevel parsed datetime dataframe (parsed by start/end times)\n"
   ]
  },
  {
   "cell_type": "code",
   "execution_count": 17,
   "metadata": {},
   "outputs": [],
   "source": [
    "def return_multi_parsed_dt_df(m_head_dict, m_dt_df_imputed, start_parsetime, end_parsetime):\n",
    "    \n",
    "    # # Parse Time Criteria for all files (boxes)\n",
    "    start_dt = datetime.strptime(start_parsetime, '%Y/%m/%d %H:%M')\n",
    "    end_dt = datetime.strptime(end_parsetime, '%Y/%m/%d %H:%M')\n",
    "    \n",
    "    # # Boilerplate for Multilevel Dataframe\n",
    "    result = []; box_arr = list(m_dt_df_imputed.columns.levels[0])\n",
    "\n",
    "    for i in range(len(box_arr)):  \n",
    "        box_num = box_arr[i]\n",
    "        ind_df = m_dt_df_imputed.loc[:, box_num]  # individual dataframe\n",
    "        # No need for conversion to str(box_num) since box_num is already string \n",
    "\n",
    "        ind_df = ind_df.dropna(how='all')\n",
    "        \n",
    "        # 1. Parse by time\n",
    "        # # : Problem --> counter values don't have timestamps, thus need to index the dataframe\n",
    "        # # : Problem solved by imputing datetimes\n",
    "        p_body = ind_df[(ind_df['datetime_filled'] >= start_dt) & (ind_df['datetime_filled'] <= end_dt)]\n",
    "        \n",
    "        result.append(p_body)\n",
    "        \n",
    "    m_parsed_dt_df = pd.concat(result, axis=1, keys=box_arr, names=['Box Number', 'Columns'])\n",
    "        \n",
    "    return m_parsed_dt_df\n",
    "\n"
   ]
  },
  {
   "cell_type": "code",
   "execution_count": 18,
   "metadata": {},
   "outputs": [
    {
     "name": "stdout",
     "output_type": "stream",
     "text": [
      "09/23/2019\n",
      "16-41-18\n"
     ]
    }
   ],
   "source": [
    "print(test_m_head_dict['1']['Start Date'])\n",
    "print(test_m_head_dict['1']['Start Time'])\n"
   ]
  },
  {
   "cell_type": "code",
   "execution_count": 19,
   "metadata": {},
   "outputs": [],
   "source": [
    "\n",
    "start_parsetime = '2019/09/23 18:00'\n",
    "end_parsetime = '2019/09/24 06:00'\n",
    "test_m_parsed_dt_df = return_multi_parsed_dt_df(test_m_head_dict, test_m_dt_df_imputed, start_parsetime, end_parsetime)\n",
    "# test_m_parsed_dt_df\n",
    "\n",
    "# test_m_parsed_dt_df['10'].dropna(how='all')"
   ]
  },
  {
   "cell_type": "markdown",
   "metadata": {},
   "source": [
    "<a href='#Function List'>Back to List of Functions</a>"
   ]
  },
  {
   "cell_type": "markdown",
   "metadata": {},
   "source": [
    "<a id='final wrapper function'></a>\n",
    "\n",
    "### Wrapper Function (of the above 6 functions)!\n",
    "\n",
    "**7. final_m_header_and_parsed_dt_df (file, start_parsetime, end_parsetime):**\n",
    "- **:file:** name of csv file saved from Pycharm\n",
    "- **:start_parsetime:** start of parsetime\n",
    "- **:end_parsetime:** end of parsetime\n",
    "- **:returns:** a tuple *(`m_head_dict, m_parsed_dt_df`)*   \n",
    "    Note this function returns `m_parsed_dt_df`! (output from last function)\n"
   ]
  },
  {
   "cell_type": "code",
   "execution_count": 20,
   "metadata": {},
   "outputs": [],
   "source": [
    "def final_m_header_and_parsed_dt_df(file, columns, start_parsetime, end_parsetime):\n",
    "\n",
    "    # # Reading in multilevel dataframe \n",
    "    multi_df = pd.read_csv(file, header=[0,1], index_col=[0], low_memory=False)\n",
    "    \n",
    "    m_head_dict = return_multi_header_dict(multi_df)\n",
    "    m_body_df = return_multi_body_df(multi_df, columns)\n",
    "    \n",
    "    # # Dictinoary of start/end time tuples\n",
    "    m_start_end_time_dict = get_start_end_time(m_head_dict)\n",
    "    \n",
    "    # # Returns dataframe with imputed datetime \n",
    "    m_dt_df = return_multi_dt_df(m_head_dict, m_body_df, m_start_end_time_dict)\n",
    "    m_dt_df_imputed = return_multi_imputed_dt_df(m_dt_df)\n",
    "    \n",
    "    m_parsed_dt_df = return_multi_parsed_dt_df(m_head_dict, m_dt_df_imputed, start_parsetime, end_parsetime)\n",
    "    \n",
    "    return m_head_dict, m_parsed_dt_df\n"
   ]
  },
  {
   "cell_type": "markdown",
   "metadata": {},
   "source": [
    "No Test Output for this function\n",
    "\n",
    "<a href='#Function List'>Back to List of Functions</a>"
   ]
  },
  {
   "cell_type": "markdown",
   "metadata": {},
   "source": [
    "<a id='metric calculation'></a>\n",
    "___\n",
    "#### B. Metric Calculations\n"
   ]
  },
  {
   "cell_type": "markdown",
   "metadata": {},
   "source": [
    "<a id='counts_during_window'></a>\n",
    "\n",
    "**1: counts_during_window (m_parsed_dt_df, start_parsetime, window_of_interest):**\n",
    "- **:m_parsed_dt_df:** multilevel dataframe PARSED by inputted time window\n",
    "- **:start_parsetime:** start of parsetime $\\rightarrow$ date for metrics gets extracted from here! \n",
    "- **:window_of_interest:** list of window counters event codes\n",
    "- **:returns:** `m_window_counter_df`: multilevel window counter dataframe with metric code as index"
   ]
  },
  {
   "cell_type": "code",
   "execution_count": 21,
   "metadata": {},
   "outputs": [],
   "source": [
    "\n",
    "def counts_during_window(m_parsed_dt_df, start_parsetime, window_of_interest):\n",
    "\n",
    "    result = []; box_arr = list(m_parsed_dt_df.columns.levels[0])\n",
    "    # No need to check for ValueError (length of boxes in dict and dataframe since it's already been checked once above)\n",
    "\n",
    "    for i in range(len(box_arr)):  # for all the boxes, (outermost index is box number)\n",
    "        box_num = box_arr[i]\n",
    "        ind_df = m_parsed_dt_df.loc[:, box_num]  # individual dataframe\n",
    "        \n",
    "        # individual dataframe!! \n",
    "        ind_df = ind_df.dropna(how='all')\n",
    "        \n",
    "#         ind_df['event_code'] = ind_df['event_code'].astype('str')  # CHANGED to string dtype (for event_code )\n",
    "        \n",
    "        window_df = ind_df[ind_df.event_code.isin(window_of_interest)]\n",
    "        final_df = window_df[['event_code','counter']]\n",
    "        \n",
    "        # Pivot the counter dataframe (so that L/M/R becomes columns) \n",
    "        # Replace np.nan with empty strings\n",
    "        pivoted = final_df.pivot(index=None, columns='event_code', values='counter')\n",
    "        pivoted.replace(np.nan, '')\n",
    "        \n",
    "        L_count = pivoted[window_of_interest[0]].sum()\n",
    "        M_count = pivoted[window_of_interest[1]].sum()\n",
    "        R_count = pivoted[window_of_interest[2]].sum()\n",
    "        T_count = L_count + M_count + R_count\n",
    "\n",
    "        # date \n",
    "        m_date = start_parsetime[5:10]  # Use parsetime value to extract dates! (since each file can have data for multiple days )\n",
    "        # Metric Code: will become the name of index (for dataframe)\n",
    "        metric_code = m_date + \" code: oo\" + window_of_interest[0][-2:]  # last two digits of counter_code\n",
    "\n",
    "        # make it into a dataframe so that L/M/R is in the column!! \n",
    "        # (pass L/M/R with double brackets [[]])\n",
    "        # Shape is (1, 4)\n",
    "        window_counter_df = pd.DataFrame([[L_count, M_count, R_count, T_count]], index=[metric_code], columns=['Left','Middle','Right','Total'])\n",
    "        result.append(window_counter_df)\n",
    "    \n",
    "    m_window_counter_df = pd.concat(result, axis=1, keys=box_arr, names=['Box Number', 'Columns'])\n",
    "    \n",
    "    return m_window_counter_df"
   ]
  },
  {
   "cell_type": "code",
   "execution_count": 22,
   "metadata": {},
   "outputs": [],
   "source": [
    "# window = ['7529', '8529', '9529']\n",
    "# counts_during_window(test_m_parsed_dt_df, start_parsetime, window)\n"
   ]
  },
  {
   "cell_type": "markdown",
   "metadata": {},
   "source": [
    "<a href='#Function List'>Back to List of Functions</a>"
   ]
  },
  {
   "cell_type": "markdown",
   "metadata": {},
   "source": [
    "<a id='count_events'></a>\n",
    "\n",
    "**2: count_events (m_parsed_dt_df, start_parsetime, code_of_interest):**\n",
    "- **:m_parsed_dt_df:** multilevel dataframe PARSED by inputted time window\n",
    "- **:start_parsetime:** start of parsetime $\\rightarrow$ date for metrics gets extracted from here! \n",
    "- **:code_of_interest:** list of event codes to count\n",
    "- **:returns:** `m_event_counter_df`: multilevel event counter dataframe with event code as index"
   ]
  },
  {
   "cell_type": "code",
   "execution_count": 23,
   "metadata": {},
   "outputs": [],
   "source": [
    "\n",
    "def count_events(m_parsed_dt_df, start_parsetime, code_of_interest):\n",
    "    result = []; box_arr = list(m_parsed_dt_df.columns.levels[0])\n",
    "    # No need to check for ValueError (length of boxes in dict and dataframe since it's already been checked once above)\n",
    "\n",
    "    for i in range(len(box_arr)):  # for all the boxes, (outermost index is box number)\n",
    "        box_num = box_arr[i]\n",
    "        ind_df = m_parsed_dt_df.loc[:, box_num]  # individual dataframe\n",
    "        \n",
    "        # individual dataframe!! \n",
    "        ind_df = ind_df.dropna(how='all')\n",
    "        \n",
    "        # filtered by the event codes in the array: \n",
    "        filtered = ind_df[ind_df.event_code.isin(code_of_interest)]\n",
    "        \n",
    "        # # Use (length of the index array at which dataframe evals to true) to count # of event occurences\n",
    "        # # This method will be more robust (logic similar to np.where()) and generalizable \n",
    "        left = len(filtered[filtered.event_code == code_of_interest[0]].index)\n",
    "        middle = len(filtered[filtered.event_code == code_of_interest[1]].index)\n",
    "        right = len(filtered[filtered.event_code == code_of_interest[2]].index)\n",
    "        total = left + middle + right\n",
    "        \n",
    "        # date \n",
    "        m_date = start_parsetime[5:10]  # Use parsetime value to extract dates! (since each file can have data for multiple days )\n",
    "        # Metric Code: will become the name of index (for dataframe)\n",
    "        metric_code = m_date + \" event_cts: x\" + code_of_interest[0][-3:]  # last three digits of event_code\n",
    "        \n",
    "        event_counter_df = pd.DataFrame([[left, middle, right, total]], index=[metric_code], columns=['Left','Middle','Right', 'Total'])\n",
    "        result.append(event_counter_df)\n",
    "            \n",
    "    m_event_counter_df = pd.concat(result, axis=1, keys=box_arr, names=['Box Number', 'Columns'])\n",
    "    \n",
    "    return m_event_counter_df\n",
    "    "
   ]
  },
  {
   "cell_type": "code",
   "execution_count": 24,
   "metadata": {},
   "outputs": [
    {
     "data": {
      "text/html": [
       "<div>\n",
       "<style scoped>\n",
       "    .dataframe tbody tr th:only-of-type {\n",
       "        vertical-align: middle;\n",
       "    }\n",
       "\n",
       "    .dataframe tbody tr th {\n",
       "        vertical-align: top;\n",
       "    }\n",
       "\n",
       "    .dataframe thead tr th {\n",
       "        text-align: left;\n",
       "    }\n",
       "</style>\n",
       "<table border=\"1\" class=\"dataframe\">\n",
       "  <thead>\n",
       "    <tr>\n",
       "      <th>Box Number</th>\n",
       "      <th colspan=\"4\" halign=\"left\">1</th>\n",
       "      <th colspan=\"4\" halign=\"left\">2</th>\n",
       "      <th colspan=\"2\" halign=\"left\">3</th>\n",
       "      <th>...</th>\n",
       "      <th colspan=\"2\" halign=\"left\">8</th>\n",
       "      <th colspan=\"4\" halign=\"left\">9</th>\n",
       "      <th colspan=\"4\" halign=\"left\">10</th>\n",
       "    </tr>\n",
       "    <tr>\n",
       "      <th>Columns</th>\n",
       "      <th>Left</th>\n",
       "      <th>Middle</th>\n",
       "      <th>Right</th>\n",
       "      <th>Total</th>\n",
       "      <th>Left</th>\n",
       "      <th>Middle</th>\n",
       "      <th>Right</th>\n",
       "      <th>Total</th>\n",
       "      <th>Left</th>\n",
       "      <th>Middle</th>\n",
       "      <th>...</th>\n",
       "      <th>Right</th>\n",
       "      <th>Total</th>\n",
       "      <th>Left</th>\n",
       "      <th>Middle</th>\n",
       "      <th>Right</th>\n",
       "      <th>Total</th>\n",
       "      <th>Left</th>\n",
       "      <th>Middle</th>\n",
       "      <th>Right</th>\n",
       "      <th>Total</th>\n",
       "    </tr>\n",
       "  </thead>\n",
       "  <tbody>\n",
       "    <tr>\n",
       "      <th>09/23 event_cts: x540</th>\n",
       "      <td>0</td>\n",
       "      <td>0</td>\n",
       "      <td>0</td>\n",
       "      <td>0</td>\n",
       "      <td>0</td>\n",
       "      <td>0</td>\n",
       "      <td>0</td>\n",
       "      <td>0</td>\n",
       "      <td>0</td>\n",
       "      <td>0</td>\n",
       "      <td>...</td>\n",
       "      <td>0</td>\n",
       "      <td>0</td>\n",
       "      <td>0</td>\n",
       "      <td>0</td>\n",
       "      <td>0</td>\n",
       "      <td>0</td>\n",
       "      <td>0</td>\n",
       "      <td>0</td>\n",
       "      <td>0</td>\n",
       "      <td>0</td>\n",
       "    </tr>\n",
       "  </tbody>\n",
       "</table>\n",
       "<p>1 rows × 40 columns</p>\n",
       "</div>"
      ],
      "text/plain": [
       "Box Number               1                       2                       3  \\\n",
       "Columns               Left Middle Right Total Left Middle Right Total Left   \n",
       "09/23 event_cts: x540    0      0     0     0    0      0     0     0    0   \n",
       "\n",
       "Box Number                    ...     8          9                      10  \\\n",
       "Columns               Middle  ... Right Total Left Middle Right Total Left   \n",
       "09/23 event_cts: x540      0  ...     0     0    0      0     0     0    0   \n",
       "\n",
       "Box Number                                \n",
       "Columns               Middle Right Total  \n",
       "09/23 event_cts: x540      0     0     0  \n",
       "\n",
       "[1 rows x 40 columns]"
      ]
     },
     "execution_count": 24,
     "metadata": {},
     "output_type": "execute_result"
    }
   ],
   "source": [
    "# # Omission Trial Counts\n",
    "omission_trials = ['7540','8540','9540']\n",
    "count_events(test_m_parsed_dt_df, start_parsetime, omission_trials)\n"
   ]
  },
  {
   "cell_type": "markdown",
   "metadata": {},
   "source": [
    "<a href='#Function List'>Back to List of Functions</a>"
   ]
  },
  {
   "cell_type": "markdown",
   "metadata": {},
   "source": [
    "<a href='#Table of Contents'>Back to Table of Contents</a>"
   ]
  },
  {
   "cell_type": "markdown",
   "metadata": {},
   "source": [
    "<a id='data wrangling'></a>\n",
    "___\n",
    "### 2. Initial Data Wrangling "
   ]
  },
  {
   "cell_type": "markdown",
   "metadata": {},
   "source": [
    "**Import Basic Libraries**"
   ]
  },
  {
   "cell_type": "code",
   "execution_count": 25,
   "metadata": {},
   "outputs": [],
   "source": [
    "# import os\n",
    "import numpy as np\n",
    "import pandas as pd\n",
    "from datetime import datetime\n",
    "import matplotlib.pyplot as plt \n",
    "import seaborn as sns"
   ]
  },
  {
   "cell_type": "markdown",
   "metadata": {},
   "source": [
    "<a href='#Event Code'>Event Codes</a> (Run this First!!)"
   ]
  },
  {
   "cell_type": "markdown",
   "metadata": {},
   "source": [
    "**Run the final Wrapper Function**"
   ]
  },
  {
   "cell_type": "markdown",
   "metadata": {},
   "source": [
    "<a href='#Table of Contents'>Back to Table of Contents</a>"
   ]
  },
  {
   "cell_type": "code",
   "execution_count": 26,
   "metadata": {},
   "outputs": [
    {
     "name": "stdout",
     "output_type": "stream",
     "text": [
      "09/23/2019\n",
      "16-41-18\n"
     ]
    }
   ],
   "source": [
    "print(test_m_head_dict['1']['Start Date'])\n",
    "print(test_m_head_dict['1']['Start Time'])\n"
   ]
  },
  {
   "cell_type": "code",
   "execution_count": 27,
   "metadata": {},
   "outputs": [],
   "source": [
    "# # # Arguments \n",
    "\n",
    "# Use this for TIR (paradigms that have counter values)  - double :: \n",
    "columns = ['event_string', 'event_code', 'timestamp', 'counter'] \n",
    "\n",
    "file = \"../1107 TIR_test_4.csv\"      # Change Here! \n",
    " \n",
    "start_parsetime = '2019/11/07 18:00'    # Change Here! \n",
    "end_parsetime = '2019/11/08 06:00'      # Change Here! \n",
    "\n",
    "# # Final Function \n",
    "(m_head_dict, m_parsed_dt_df) = final_m_header_and_parsed_dt_df(file, columns, start_parsetime, end_parsetime)\n",
    " \n"
   ]
  },
  {
   "cell_type": "code",
   "execution_count": 28,
   "metadata": {},
   "outputs": [
    {
     "name": "stdout",
     "output_type": "stream",
     "text": [
      "11/07/2019\n",
      "10-29-21\n",
      "11/08/2019\n",
      "09-19-17\n"
     ]
    }
   ],
   "source": [
    "print(m_head_dict['1']['Start Date'])\n",
    "print(m_head_dict['1']['Start Time'])\n",
    "print(m_head_dict['1']['End Date'])\n",
    "print(m_head_dict['1']['End Time'])"
   ]
  },
  {
   "cell_type": "code",
   "execution_count": 29,
   "metadata": {},
   "outputs": [],
   "source": [
    "# m_parsed_dt_df"
   ]
  },
  {
   "cell_type": "markdown",
   "metadata": {},
   "source": [
    "<a id='latency_df'></a>\n",
    "___\n",
    "### 3. Multi Latency dataframe and cdf"
   ]
  },
  {
   "cell_type": "markdown",
   "metadata": {},
   "source": [
    "#### function for getting individual latency\n",
    "\n",
    "- Currently only makes sense for TIR-1 \n",
    "- will work with TIR-2/3 due to inclusion of \"omission counts counter value\" (xx40)\n",
    "- but currently CAN NOT plot omission latencies (will be 5 seconds anyway - or whatever the omission duration is) - so maybe there is no need to include this feature? \n",
    "\n",
    "\n",
    "Measures: valid/invalid response latency (similar to reward_retrieval latency since the reward is dispensed at left/right port anyways)"
   ]
  },
  {
   "cell_type": "code",
   "execution_count": 30,
   "metadata": {},
   "outputs": [],
   "source": [
    "# # Only need the event codes! to determine trial type and trial location\n",
    "# # Also, 'end_event_codes' uniquely determine the trial type and port location\n",
    "# # one to many relationship in terms of (start) --> (end)\n",
    "\n",
    "def get_i_response_latency(i_df, start_array, end_array):    \n",
    "    \n",
    "    \"\"\"\n",
    "    - ****** will only work for global latencies (such as trial latency etc.)\n",
    "    - will not contain port information nor valid, invalid information\n",
    "    - basically use this if start_array and end array have on elements each! \n",
    "    \n",
    "    - will now have all of the above information! (10/8)\n",
    "    \n",
    "    :i_df: individual dataframe parsed out from the multi-level dataframe\n",
    "    :start_array: start time code\n",
    "    :end_array: end time code\n",
    "    \"\"\"\n",
    "\n",
    "    # make dataframes out of trial start / trial end \n",
    "    start_code_df = i_df.loc[i_df.event_code.isin(start_array)]\n",
    "    end_code_df = i_df.loc[i_df.event_code.isin(end_array)]\n",
    "    \n",
    "    # OUTER IF --> determines FIRST ROW modification\n",
    "    if (start_code_df.iloc[0]['timestamp'] <= end_code_df.iloc[0]['timestamp']): \n",
    "        \n",
    "        # INNER IF --> determines LAST ROW modification\n",
    "        # Case 1 (no modifications)  \n",
    "        if (start_code_df.iloc[-1]['timestamp'] <= end_code_df.iloc[-1]['timestamp']):\n",
    "            start_time = start_code_df.timestamp.tolist()\n",
    "            end_time = end_code_df.timestamp.tolist()\n",
    "            event_code = end_code_df.event_code.tolist()\n",
    "#             print(\"case 1\")\n",
    "\n",
    "        # Case 2 (Drop LAST row in START)\n",
    "        elif (start_code_df.iloc[-1]['timestamp'] > end_code_df.iloc[-1]['timestamp']):\n",
    "            start_time = start_code_df[:-1].timestamp.tolist()  # drop the last row of start\n",
    "            end_time = end_code_df.timestamp.tolist()\n",
    "            event_code = end_code_df.event_code.tolist()\n",
    "#             print(\"case 2\")\n",
    "    \n",
    "    # OUTER IF --> determines FIRST ROW modification\n",
    "    elif (start_code_df.iloc[0]['timestamp'] > end_code_df.iloc[0]['timestamp']):\n",
    "\n",
    "        # INNER IF --> determines LAST ROW modification\n",
    "        # Case 3 (Drop FIRST row in END)\n",
    "        if start_code_df.iloc[-1]['timestamp'] <= end_code_df.iloc[-1]['timestamp']:\n",
    "            start_time = start_code_df.timestamp.tolist()\n",
    "            end_time = end_code_df[1:].timestamp.tolist()   # drop the first row of end\n",
    "            event_code = end_code_df[1:].event_code.tolist()\n",
    "#             print(\"case 3\")\n",
    "            \n",
    "        # Case 4 (Drop FIRST row in END) + (Drop LAST row in START)\n",
    "        elif (start_code_df.iloc[-1]['timestamp'] > end_code_df.iloc[-1]['timestamp']):\n",
    "            start_time = start_code_df[:-1].timestamp.tolist()  # drop the last row of start\n",
    "            end_time = end_code_df[1:].timestamp.tolist()   # drop the first row of end\n",
    "            event_code = end_code_df[1:].event_code.tolist()\n",
    "#             print(\"case 4\")\n",
    "\n",
    "    \n",
    "    latency_df = pd.DataFrame(zip(start_time, end_time, event_code), columns=['start_time','end_time','event_code'])\n",
    "    latency_df['latency'] = latency_df.end_time - latency_df.start_time\n",
    "    latency_df['location'] = latency_df.event_code.str[0]\n",
    "    \n",
    "    \n",
    "    code_info_latency = latency_df[['event_code','latency','location']]\n",
    "\n",
    "    return code_info_latency\n",
    "    "
   ]
  },
  {
   "cell_type": "code",
   "execution_count": null,
   "metadata": {},
   "outputs": [],
   "source": []
  },
  {
   "cell_type": "markdown",
   "metadata": {},
   "source": [
    "#### get multi latency dataframe\n",
    "\n",
    "- Using the function from above (for individual latencies) "
   ]
  },
  {
   "cell_type": "code",
   "execution_count": 31,
   "metadata": {},
   "outputs": [],
   "source": [
    "\n",
    "\n",
    "def return_multi_response_latency_df(m_body_df, start_array, end_array):\n",
    "\n",
    "    result = []; box_arr = list(m_body_df.columns.levels[0])\n",
    "    midx_shape = m_body_df.columns.levshape   # (returns a tuple)\n",
    "\n",
    "    for i in range(len(box_arr)):  # for all the boxes in box_array\n",
    "        box_num = box_arr[i]    \n",
    "        ind_df = m_body_df.loc[:, box_num]  # individual dataframe / box_num --> class 'string'\n",
    "    \n",
    "        ind_df = ind_df.dropna(how='all')\n",
    "        \n",
    "        latency_only = get_i_response_latency(ind_df, start_array, end_array)  # Custom function!! \n",
    "        \n",
    "        # box_arr.append(box_num)\n",
    "        result.append(latency_only)\n",
    "    \n",
    "    m_latency_df = pd.concat(result, axis=1, keys=box_arr, names=['Box Number', 'Latency'])\n",
    "    \n",
    "    return m_latency_df"
   ]
  },
  {
   "cell_type": "markdown",
   "metadata": {},
   "source": [
    "#### ecdf function\n"
   ]
  },
  {
   "cell_type": "code",
   "execution_count": 32,
   "metadata": {},
   "outputs": [],
   "source": [
    "def ecdf(data):\n",
    "    \"\"\"Compute ECDF for a one-dimensional array of measurements.\"\"\"\n",
    "\n",
    "    # x-data for the ECDF after dropping nan values: x\n",
    "    x = np.sort(data)\n",
    "    n = len(data)    \n",
    "    \n",
    "    # # percentage values \n",
    "    y = np.arange(1, n+1) / n\n",
    "\n",
    "    return x, y"
   ]
  },
  {
   "cell_type": "markdown",
   "metadata": {},
   "source": [
    "#### Custom Error Handling Class Definitions"
   ]
  },
  {
   "cell_type": "code",
   "execution_count": 33,
   "metadata": {},
   "outputs": [],
   "source": [
    "class Error(Exception):\n",
    "    \"\"\"Base class for exceptions in this module.\"\"\"\n",
    "    pass\n",
    "\n",
    "class InputError(Error):\n",
    "    \"\"\"Exception raised for errors in the input.\n",
    "\n",
    "    Attributes:\n",
    "        expression -- input expression in which the error occurred\n",
    "        message -- explanation of the error\n",
    "    \"\"\"\n",
    "\n",
    "    def __init__(self, expression, message):\n",
    "        self.expression = expression\n",
    "        self.message = message"
   ]
  },
  {
   "cell_type": "code",
   "execution_count": null,
   "metadata": {},
   "outputs": [],
   "source": []
  },
  {
   "cell_type": "markdown",
   "metadata": {},
   "source": [
    "#### Plotting Function (Only for Valid/Invalid Trials latency) \n",
    "\n",
    "Arguments:  \n",
    "box_num  \n",
    "threshold  \n",
    "valid_trials  \n",
    "horizontal  \n",
    "vertical  \n",
    "port_loc  \n",
    "save_fig  "
   ]
  },
  {
   "cell_type": "code",
   "execution_count": 34,
   "metadata": {},
   "outputs": [
    {
     "data": {
      "text/plain": [
       "'11/07'"
      ]
     },
     "execution_count": 34,
     "metadata": {},
     "output_type": "execute_result"
    }
   ],
   "source": [
    "a = m_head_dict['1']['Start Date'][:5]\n",
    "a.replace(\"/\",\"-\")\n",
    "\n",
    "start_parsetime[5:10]"
   ]
  },
  {
   "cell_type": "code",
   "execution_count": 35,
   "metadata": {},
   "outputs": [],
   "source": [
    "# # If box_num is None, select ALL boxes\n",
    "\n",
    "def plot_m_latency_cdf(m_latency_df, start_time, box_num=\"all\", threshold=5000, valid_trials=True, horizontal=0.9, vertical=0, port_loc='all', save_fig=False):\n",
    "\n",
    "    date = start_parsetime[5:10]\n",
    "    date = date.replace(\"/\",\"-\")\n",
    "    \"\"\"\n",
    "    box_num: input as a list of box numbers\n",
    "    \"\"\"\n",
    "    if type(box_num) is str:\n",
    "        if box_num.lower() == \"all\": \n",
    "            box_arr = list(m_latency_df.columns.levels[0])\n",
    "            age = \"(All Subjects)\"\n",
    "        elif box_num.lower() == 'adults':\n",
    "            box_arr = ['1','2','3','4','5']\n",
    "            age = \"(Adults)\"\n",
    "        elif box_num.lower() == 'adols':       \n",
    "            box_arr = ['6','7','8','9','10']\n",
    "            age = \"(Adolescents)\"\n",
    "    else: \n",
    "        box_arr = box_num\n",
    "        age = \"\"\n",
    "    \n",
    "    \n",
    "    plt.figure(figsize=(8,6))\n",
    "    for i in range(len(box_arr)):  # for all the boxes in box_array\n",
    "        box_num = box_arr[i]\n",
    "           \n",
    "        ind_df = m_latency_df.loc[:, box_num]\n",
    "        ind_df = ind_df.dropna(how='all')\n",
    "        \n",
    "        # # Filter by threshold first\n",
    "        filtered_latency_df = ind_df[ind_df.latency < int(threshold)]\n",
    "        \n",
    "        \n",
    "        # # Filter by valid / invalid trials\n",
    "        if valid_trials:\n",
    "            valid_trials_df = filtered_latency_df[filtered_latency_df.event_code.str[-2:] == '70']\n",
    "            \n",
    "            if port_loc.lower() =='all':\n",
    "                x, y = ecdf(valid_trials_df.latency)\n",
    "                title_string = \"(Valid) Trials - (All) Ports\"\n",
    "                \n",
    "            elif port_loc.lower() =='left':\n",
    "                left_df = valid_trials_df[valid_trials_df.location == '7']\n",
    "                x, y = ecdf(left_df.latency)\n",
    "                title_string = \"(Valid) Trials - (Left) Port\"\n",
    "                \n",
    "            elif port_loc.lower() =='right':\n",
    "                right_df = valid_trials_df[valid_trials_df.location == '9']\n",
    "                x, y = ecdf(right_df.latency)\n",
    "                title_string = \"(Valid) Trials - (Right) Port\"\n",
    "            else: \n",
    "                raise InputError(\"Invalid Port Input:\",\"Select valid port location\")\n",
    "                   \n",
    "                \n",
    "        else: \n",
    "            invalid_trials_df = filtered_latency_df[filtered_latency_df.event_code.str[-2:] == '60']\n",
    "            \n",
    "            if port_loc.lower() =='all':\n",
    "                x, y = ecdf(invalid_trials_df.latency)\n",
    "                title_string = \"(Invalid) Trials - (All) Ports\"\n",
    "                \n",
    "            elif port_loc.lower() =='left':\n",
    "                left_df = invalid_trials_df[invalid_trials_df.location == '7']\n",
    "                x, y = ecdf(left_df.latency)\n",
    "                title_string = \"(Invalid) Trials - (Left) Port\"\n",
    "                \n",
    "            elif port_loc.lower() =='right':\n",
    "                right_df = invalid_trials_df[invalid_trials_df.location == '9']\n",
    "                x, y = ecdf(right_df.latency)\n",
    "                title_string = \"(Invalid) Trials - (Right) Port\"\n",
    "            else: \n",
    "                raise InputError(\"Invalid Port Input:\",\"Select valid port location\")\n",
    "        \n",
    "        adults = {'1','2','3','4','5'}  # using a set\n",
    "        adolescents = {'6','7','8','9','10'}\n",
    "\n",
    "        if box_num in adults:\n",
    "            # colors = plt.cm.Blues(np.linspace(0,1,5*len(adults)))  # color map test\n",
    "            plt.plot(x, y, marker='.', linestyle= 'none', ms= 5, color='red', label=box_num)\n",
    "        elif box_num in adolescents:\n",
    "            plt.plot(x, y, marker='.', linestyle= 'none', ms= 5, color='blue', label=box_num)\n",
    "\n",
    "    plt.axhline(float(horizontal), linewidth=1)\n",
    "    plt.axvline(float(vertical), linewidth=1)\n",
    "    plt.legend(loc='best',bbox_to_anchor = (1.01, 1.01))\n",
    "    plt.ylabel(\"Cumulative Density\", fontsize=14)\n",
    "    plt.xlabel(\"Latency (ms)\", fontsize=14)\n",
    "\n",
    "    plt.title(\"'{}' CDF of {} Latency - {}\".format(date, title_string, age), fontsize=16)\n",
    "    plt.xlim([0, int(threshold)])\n",
    "    \n",
    "    filename = date + \".png\"\n",
    "    \n",
    "    if save_fig:\n",
    "        plt.tight_layout()\n",
    "        plt.savefig(filename)\n",
    "    else: \n",
    "        plt.show()\n",
    "\n",
    "#     return len(x)\n"
   ]
  },
  {
   "cell_type": "code",
   "execution_count": 36,
   "metadata": {},
   "outputs": [
    {
     "data": {
      "text/plain": [
       "<Figure size 432x288 with 0 Axes>"
      ]
     },
     "metadata": {},
     "output_type": "display_data"
    }
   ],
   "source": [
    "plt.savefig(\".png\")"
   ]
  },
  {
   "cell_type": "markdown",
   "metadata": {},
   "source": [
    "## Actual Plotting (Calling the plotting function above)"
   ]
  },
  {
   "cell_type": "code",
   "execution_count": null,
   "metadata": {},
   "outputs": [],
   "source": []
  },
  {
   "cell_type": "code",
   "execution_count": 37,
   "metadata": {},
   "outputs": [],
   "source": [
    "## Valid Trials!! \n",
    "\n",
    "tir_start = ['7171','8171','9171']\n",
    "tir_1_end = ['7170','7160','8170','8160','9170','9160']\n",
    "tir_2_end = ['7170','7160','7540','8170','8160','8540','9170','9160','9540']  # includes omission trials \n",
    "tir_3_end = ['7170','7160','7540','8170','8160','8540','9170','9160','9540']  # includes omission trials "
   ]
  },
  {
   "cell_type": "code",
   "execution_count": 38,
   "metadata": {},
   "outputs": [
    {
     "data": {
      "text/plain": [
       "'11/07/2019'"
      ]
     },
     "execution_count": 38,
     "metadata": {},
     "output_type": "execute_result"
    }
   ],
   "source": [
    "m_latency_df = return_multi_response_latency_df(m_parsed_dt_df, tir_start, tir_3_end)\n",
    "# m_latency_df.tail(20)\n",
    "m_head_dict['1']['Start Date']"
   ]
  },
  {
   "cell_type": "code",
   "execution_count": 39,
   "metadata": {},
   "outputs": [
    {
     "data": {
      "image/png": "[encoded data removed]",
      "text/plain": [
       "<Figure size 576x432 with 1 Axes>"
      ]
     },
     "metadata": {
      "needs_background": "light"
     },
     "output_type": "display_data"
    }
   ],
   "source": [
    "plot_m_latency_cdf(m_latency_df, start_parsetime, box_num=\"all\", threshold=750, valid_trials=True, horizontal=0.9, port_loc='all', save_fig=True)\n"
   ]
  },
  {
   "cell_type": "code",
   "execution_count": null,
   "metadata": {},
   "outputs": [],
   "source": []
  },
  {
   "cell_type": "code",
   "execution_count": null,
   "metadata": {},
   "outputs": [],
   "source": []
  },
  {
   "cell_type": "markdown",
   "metadata": {},
   "source": [
    "### Reward Retrieval Latency: \n",
    "\n",
    "(needed for TIR-2 and after) ex: TIR-3\n",
    "- necessary verification step that mouse received reward in the MIDDLE port after their response in the left/right port \n",
    "- calculates the latency between the end of solenoid delivery (8270) and FIRST poke in middle port (8071) \n",
    "\n",
    "-- Note: should I be doing 7170 / 9170 as the starting reference point? (to be consistent with the response latency calculations above? \n",
    "\n",
    "> **Current Logic:**  \n",
    "Start --> 8270 (end of reward)   \n",
    "End --> 8271 (FIRST poke in) \n",
    "\n"
   ]
  },
  {
   "cell_type": "markdown",
   "metadata": {},
   "source": [
    "## TESTTEST"
   ]
  },
  {
   "cell_type": "code",
   "execution_count": 40,
   "metadata": {},
   "outputs": [],
   "source": [
    "# # Only need the event codes! to determine trial type and trial location\n",
    "# # Also, 'end_event_codes' uniquely determine the trial type and port location\n",
    "# # one to many relationship in terms of (start) --> (end)\n",
    "\n",
    "def get_i_response_latency(i_df, start_array, end_array):    \n",
    "    \n",
    "    \"\"\"\n",
    "    - ****** will only work for global latencies (such as trial latency etc.)\n",
    "    - will not contain port information nor valid, invalid information\n",
    "    - basically use this if start_array and end array have on elements each! \n",
    "    \n",
    "    - will now have all of the above information! (10/8)\n",
    "    \n",
    "    :i_df: individual dataframe parsed out from the multi-level dataframe\n",
    "    :start_array: start time code\n",
    "    :end_array: end time code\n",
    "    \"\"\"\n",
    "\n",
    "    # make dataframes out of trial start / trial end \n",
    "    start_code_df = i_df.loc[i_df.event_code.isin(start_array)]\n",
    "    end_code_df = i_df.loc[i_df.event_code.isin(end_array)]\n",
    "    \n",
    "    # OUTER IF --> determines FIRST ROW modification\n",
    "    if (start_code_df.iloc[0]['timestamp'] <= end_code_df.iloc[0]['timestamp']): \n",
    "        \n",
    "        # INNER IF --> determines LAST ROW modification\n",
    "        # Case 1 (no modifications)  \n",
    "        if (start_code_df.iloc[-1]['timestamp'] <= end_code_df.iloc[-1]['timestamp']):\n",
    "            start_time = start_code_df.timestamp.tolist()\n",
    "            end_time = end_code_df.timestamp.tolist()\n",
    "            event_code = end_code_df.event_code.tolist()\n",
    "#             print(\"case 1\")\n",
    "\n",
    "        # Case 2 (Drop LAST row in START)\n",
    "        elif (start_code_df.iloc[-1]['timestamp'] > end_code_df.iloc[-1]['timestamp']):\n",
    "            start_time = start_code_df[:-1].timestamp.tolist()  # drop the last row of start\n",
    "            end_time = end_code_df.timestamp.tolist()\n",
    "            event_code = end_code_df.event_code.tolist()\n",
    "#             print(\"case 2\")\n",
    "    \n",
    "    # OUTER IF --> determines FIRST ROW modification\n",
    "    elif (start_code_df.iloc[0]['timestamp'] > end_code_df.iloc[0]['timestamp']):\n",
    "\n",
    "        # INNER IF --> determines LAST ROW modification\n",
    "        # Case 3 (Drop FIRST row in END)\n",
    "        if start_code_df.iloc[-1]['timestamp'] <= end_code_df.iloc[-1]['timestamp']:\n",
    "            start_time = start_code_df.timestamp.tolist()\n",
    "            end_time = end_code_df[1:].timestamp.tolist()   # drop the first row of end\n",
    "            event_code = end_code_df[1:].event_code.tolist()\n",
    "#             print(\"case 3\")\n",
    "            \n",
    "        # Case 4 (Drop FIRST row in END) + (Drop LAST row in START)\n",
    "        elif (start_code_df.iloc[-1]['timestamp'] > end_code_df.iloc[-1]['timestamp']):\n",
    "            start_time = start_code_df[:-1].timestamp.tolist()  # drop the last row of start\n",
    "            end_time = end_code_df[1:].timestamp.tolist()   # drop the first row of end\n",
    "            event_code = end_code_df[1:].event_code.tolist()\n",
    "#             print(\"case 4\")\n",
    "\n",
    "    \n",
    "    latency_df = pd.DataFrame(zip(start_time, end_time, event_code), columns=['start_time','end_time','event_code'])\n",
    "    latency_df['latency'] = latency_df.end_time - latency_df.start_time\n",
    "    latency_df['location'] = latency_df.event_code.str[0]\n",
    "    \n",
    "    \n",
    "    code_info_latency = latency_df[['event_code','latency','location']]\n",
    "\n",
    "    return code_info_latency\n",
    "    "
   ]
  },
  {
   "cell_type": "code",
   "execution_count": null,
   "metadata": {},
   "outputs": [],
   "source": []
  },
  {
   "cell_type": "code",
   "execution_count": null,
   "metadata": {},
   "outputs": [],
   "source": []
  },
  {
   "cell_type": "code",
   "execution_count": 41,
   "metadata": {},
   "outputs": [],
   "source": [
    "start_point = ['8270']   # end of solenoid reward\n",
    "end_point = ['8071']     # poke in @ middle port "
   ]
  },
  {
   "cell_type": "code",
   "execution_count": 42,
   "metadata": {},
   "outputs": [],
   "source": [
    "## rr = reward retrieval latency \n",
    "## individual reward retrieval latency \n",
    "\n",
    "def get_i_rr_latency(i_df, start_point, end_point):\n",
    "    \n",
    "    reward_df = i_df[i_df.event_code.isin(start_point)]\n",
    "    reward_index = reward_df.index\n",
    "    poke_in_df = i_df[i_df.event_code.isin(end_point)]\n",
    "    poke_index = poke_in_df.index\n",
    "    \n",
    "    first_poke_array = []\n",
    "    \n",
    "    for i in reward_index:\n",
    "\n",
    "        boolean_arrays = np.where(poke_index > i)[0]  # returns the true values where the poke in mid follows end of reward! \n",
    "        first_poke = boolean_arrays[0]                # from the true value array, returns the first index (first poke) \n",
    "        first_poke_array.append(first_poke)\n",
    "\n",
    "    retrieval_idx = poke_index[first_poke_array]                      # map it to original poke index to get the REAL index \n",
    "    \n",
    "    return (reward_index, retrieval_idx) #poke_in_df.index[-5:]"
   ]
  },
  {
   "cell_type": "code",
   "execution_count": null,
   "metadata": {},
   "outputs": [],
   "source": []
  },
  {
   "cell_type": "code",
   "execution_count": null,
   "metadata": {},
   "outputs": [],
   "source": []
  },
  {
   "cell_type": "code",
   "execution_count": null,
   "metadata": {},
   "outputs": [],
   "source": []
  },
  {
   "cell_type": "code",
   "execution_count": 44,
   "metadata": {},
   "outputs": [],
   "source": [
    "# a,b=get_i_rr_latency(tir2_box3, start_point, end_point)"
   ]
  },
  {
   "cell_type": "code",
   "execution_count": null,
   "metadata": {},
   "outputs": [],
   "source": [
    "a"
   ]
  },
  {
   "cell_type": "code",
   "execution_count": null,
   "metadata": {},
   "outputs": [],
   "source": [
    "b"
   ]
  },
  {
   "cell_type": "code",
   "execution_count": null,
   "metadata": {},
   "outputs": [],
   "source": []
  },
  {
   "cell_type": "code",
   "execution_count": null,
   "metadata": {},
   "outputs": [],
   "source": []
  },
  {
   "cell_type": "code",
   "execution_count": null,
   "metadata": {},
   "outputs": [],
   "source": []
  },
  {
   "cell_type": "code",
   "execution_count": null,
   "metadata": {},
   "outputs": [],
   "source": [
    "## Get the Reward Index  --> This will be the reference timer (starting point)!! (will stay the same!! )\n",
    "\n",
    "reward_df = tir2_box3[tir2_box3.event_code == '8270']   # solenoid off code \n",
    "reward_df.shape\n",
    "# reward_off_df.head(3)\n",
    "reward_index = reward_df.index\n",
    "# len(reward_index)"
   ]
  },
  {
   "cell_type": "code",
   "execution_count": null,
   "metadata": {},
   "outputs": [],
   "source": [
    "## Get the Retrieval Index  --> This will be dependent on Reward Index (since reward index is the reference point)\n",
    "\n",
    "poke_in_df = tir2_box3[tir2_box3.event_code == '8071']   # Middle port poke in code \n",
    "poke_in_df.shape\n",
    "# poke_in_df.head(3)\n",
    "poke_index = poke_in_df.index\n",
    "# len(poke_index)"
   ]
  },
  {
   "cell_type": "code",
   "execution_count": null,
   "metadata": {},
   "outputs": [],
   "source": []
  },
  {
   "cell_type": "code",
   "execution_count": null,
   "metadata": {},
   "outputs": [],
   "source": []
  },
  {
   "cell_type": "code",
   "execution_count": null,
   "metadata": {},
   "outputs": [],
   "source": [
    "reward_index[:10]"
   ]
  },
  {
   "cell_type": "code",
   "execution_count": null,
   "metadata": {},
   "outputs": [],
   "source": [
    "poke_index[-5:]"
   ]
  },
  {
   "cell_type": "markdown",
   "metadata": {},
   "source": [
    "### NOTES\n",
    "Reward Retrieval is defined by the FIRST poke in middle port following the END of reward delivery.\n",
    "In example above, \n",
    "1. 2699 (end of reward) --> 2701 (FIRST Poke in mid port) \n",
    "2. 2744 (end of reward) --> 2747 (FIRST Poke in mid port) \n",
    "3. 2783 (end of reward) --> 2785 (FIRST Poke in mid port)    \n",
    "\n",
    "Mouse CAN retrieve reward or NOT! (mouse doesn't have to receive the reward, so don't assume that a poke will always be present. It could be zero too!! \n",
    "\n",
    "- thus need to get the index in between "
   ]
  },
  {
   "cell_type": "code",
   "execution_count": null,
   "metadata": {},
   "outputs": [],
   "source": [
    "# tir2_box3.loc[2780:2800]"
   ]
  },
  {
   "cell_type": "code",
   "execution_count": null,
   "metadata": {},
   "outputs": [],
   "source": [
    "reward_index"
   ]
  },
  {
   "cell_type": "code",
   "execution_count": null,
   "metadata": {},
   "outputs": [],
   "source": [
    "retrieval_idx"
   ]
  },
  {
   "cell_type": "code",
   "execution_count": null,
   "metadata": {},
   "outputs": [],
   "source": []
  },
  {
   "cell_type": "code",
   "execution_count": null,
   "metadata": {},
   "outputs": [],
   "source": []
  },
  {
   "cell_type": "code",
   "execution_count": null,
   "metadata": {},
   "outputs": [],
   "source": []
  },
  {
   "cell_type": "code",
   "execution_count": null,
   "metadata": {},
   "outputs": [],
   "source": []
  },
  {
   "cell_type": "code",
   "execution_count": null,
   "metadata": {},
   "outputs": [],
   "source": []
  },
  {
   "cell_type": "code",
   "execution_count": 45,
   "metadata": {},
   "outputs": [
    {
     "ename": "NameError",
     "evalue": "name 'reward_index' is not defined",
     "output_type": "error",
     "traceback": [
      "\u001b[0;31m---------------------------------------------------------------------------\u001b[0m",
      "\u001b[0;31mNameError\u001b[0m                                 Traceback (most recent call last)",
      "\u001b[0;32m<ipython-input-45-2a2759a3f94d>\u001b[0m in \u001b[0;36m<module>\u001b[0;34m\u001b[0m\n\u001b[1;32m      1\u001b[0m \u001b[0mfirst_poke_array\u001b[0m \u001b[0;34m=\u001b[0m \u001b[0;34m[\u001b[0m\u001b[0;34m]\u001b[0m\u001b[0;34m\u001b[0m\u001b[0;34m\u001b[0m\u001b[0m\n\u001b[0;32m----> 2\u001b[0;31m \u001b[0;32mfor\u001b[0m \u001b[0mi\u001b[0m \u001b[0;32min\u001b[0m \u001b[0mreward_index\u001b[0m\u001b[0;34m:\u001b[0m\u001b[0;34m\u001b[0m\u001b[0;34m\u001b[0m\u001b[0m\n\u001b[0m\u001b[1;32m      3\u001b[0m \u001b[0;34m\u001b[0m\u001b[0m\n\u001b[1;32m      4\u001b[0m     \u001b[0mboolean_arrays\u001b[0m \u001b[0;34m=\u001b[0m \u001b[0mnp\u001b[0m\u001b[0;34m.\u001b[0m\u001b[0mwhere\u001b[0m\u001b[0;34m(\u001b[0m\u001b[0mpoke_index\u001b[0m \u001b[0;34m>\u001b[0m \u001b[0mi\u001b[0m\u001b[0;34m)\u001b[0m\u001b[0;34m[\u001b[0m\u001b[0;36m0\u001b[0m\u001b[0;34m]\u001b[0m  \u001b[0;31m# returns the true values where the poke in mid follows end of reward!\u001b[0m\u001b[0;34m\u001b[0m\u001b[0;34m\u001b[0m\u001b[0m\n\u001b[1;32m      5\u001b[0m     \u001b[0mfirst_poke\u001b[0m \u001b[0;34m=\u001b[0m \u001b[0mboolean_arrays\u001b[0m\u001b[0;34m[\u001b[0m\u001b[0;36m0\u001b[0m\u001b[0;34m]\u001b[0m                \u001b[0;31m# from the true value array, returns the first index (first poke)\u001b[0m\u001b[0;34m\u001b[0m\u001b[0;34m\u001b[0m\u001b[0m\n",
      "\u001b[0;31mNameError\u001b[0m: name 'reward_index' is not defined"
     ]
    }
   ],
   "source": [
    "first_poke_array = []\n",
    "for i in reward_index:\n",
    "\n",
    "    boolean_arrays = np.where(poke_index > i)[0]  # returns the true values where the poke in mid follows end of reward! \n",
    "    first_poke = boolean_arrays[0]                # from the true value array, returns the first index (first poke) \n",
    "    first_poke_array.append(first_poke)\n",
    "    \n",
    "    \n",
    "retrieval_idx = poke_index[first_poke_array]                      # map it to original poke index to get the REAL index "
   ]
  },
  {
   "cell_type": "code",
   "execution_count": null,
   "metadata": {},
   "outputs": [],
   "source": [
    "def latency_idx_check(self):\n",
    "    assert len(reward_index) != len(retrieval_idx)\n",
    "    print(\"pass\")"
   ]
  },
  {
   "cell_type": "code",
   "execution_count": null,
   "metadata": {},
   "outputs": [],
   "source": []
  },
  {
   "cell_type": "code",
   "execution_count": null,
   "metadata": {},
   "outputs": [],
   "source": []
  },
  {
   "cell_type": "markdown",
   "metadata": {},
   "source": [
    "#### Reward DF and FIRST poke DF (retrieval)"
   ]
  },
  {
   "cell_type": "code",
   "execution_count": null,
   "metadata": {},
   "outputs": [],
   "source": [
    "reward_df = tir2_box3[tir2_box3.event_code == '8270']\n",
    "reward_df.head()"
   ]
  },
  {
   "cell_type": "code",
   "execution_count": null,
   "metadata": {},
   "outputs": [],
   "source": []
  },
  {
   "cell_type": "code",
   "execution_count": null,
   "metadata": {},
   "outputs": [],
   "source": [
    "28600971.0 - 28602904.0"
   ]
  },
  {
   "cell_type": "code",
   "execution_count": null,
   "metadata": {},
   "outputs": [],
   "source": [
    "reward_index"
   ]
  },
  {
   "cell_type": "code",
   "execution_count": null,
   "metadata": {},
   "outputs": [],
   "source": [
    "# tir2_box3[120:150]"
   ]
  },
  {
   "cell_type": "code",
   "execution_count": null,
   "metadata": {},
   "outputs": [],
   "source": [
    "retrieval_df = tir2_box3.loc[retrieval_idx]"
   ]
  },
  {
   "cell_type": "code",
   "execution_count": null,
   "metadata": {},
   "outputs": [],
   "source": []
  },
  {
   "cell_type": "code",
   "execution_count": null,
   "metadata": {},
   "outputs": [],
   "source": []
  },
  {
   "cell_type": "code",
   "execution_count": null,
   "metadata": {},
   "outputs": [],
   "source": [
    "reward_time = reward_df.timestamp.tolist()\n",
    "reward_time\n",
    "retrieval_time = retrieval_df.timestamp.tolist()\n",
    "# retrieval_time"
   ]
  },
  {
   "cell_type": "code",
   "execution_count": null,
   "metadata": {},
   "outputs": [],
   "source": [
    "# pd.concat([reward_time, retrieval_time], axis=1)"
   ]
  },
  {
   "cell_type": "code",
   "execution_count": null,
   "metadata": {},
   "outputs": [],
   "source": [
    "## Need to make it into a list first!! and then zip it and make into dataframe\n",
    "\n",
    "rr_latency_df = pd.DataFrame(zip(reward_time, retrieval_time), columns =[\"reward\",\"retrieval\"])\n",
    "rr_latency_df['latency'] = rr_latency_df.retrieval - rr_latency_df.reward\n",
    "# rr_latency_df"
   ]
  },
  {
   "cell_type": "code",
   "execution_count": null,
   "metadata": {},
   "outputs": [],
   "source": []
  },
  {
   "cell_type": "code",
   "execution_count": null,
   "metadata": {},
   "outputs": [],
   "source": []
  },
  {
   "cell_type": "code",
   "execution_count": null,
   "metadata": {},
   "outputs": [],
   "source": []
  },
  {
   "cell_type": "code",
   "execution_count": null,
   "metadata": {},
   "outputs": [],
   "source": []
  },
  {
   "cell_type": "code",
   "execution_count": null,
   "metadata": {},
   "outputs": [],
   "source": []
  },
  {
   "cell_type": "code",
   "execution_count": null,
   "metadata": {},
   "outputs": [],
   "source": [
    "result_idx = []\n",
    "for i in sol_off_idx:\n",
    "#     print(i)\n",
    "   \n",
    "    if (poke_index > i).any():\n",
    "        all_true_arrays = np.where(poke_index > i)\n",
    "        first_poke = all_true_arrays[0][0]\n",
    "    \n",
    "    result_idx.append(first_poke)\n"
   ]
  },
  {
   "cell_type": "code",
   "execution_count": null,
   "metadata": {},
   "outputs": [],
   "source": [
    "# np.where(poke_index > 3000)[0]"
   ]
  },
  {
   "cell_type": "code",
   "execution_count": null,
   "metadata": {},
   "outputs": [],
   "source": []
  },
  {
   "cell_type": "code",
   "execution_count": null,
   "metadata": {},
   "outputs": [],
   "source": []
  },
  {
   "cell_type": "code",
   "execution_count": null,
   "metadata": {},
   "outputs": [],
   "source": []
  },
  {
   "cell_type": "code",
   "execution_count": null,
   "metadata": {},
   "outputs": [],
   "source": []
  },
  {
   "cell_type": "code",
   "execution_count": null,
   "metadata": {},
   "outputs": [],
   "source": [
    "poke_in_df = tir2_box3[tir2_box3.event_code == '8071']\n",
    "poke_in_df.head(30)\n",
    "poke_index = poke_in_df.index"
   ]
  },
  {
   "cell_type": "code",
   "execution_count": null,
   "metadata": {},
   "outputs": [],
   "source": []
  },
  {
   "cell_type": "code",
   "execution_count": null,
   "metadata": {},
   "outputs": [],
   "source": []
  },
  {
   "cell_type": "code",
   "execution_count": null,
   "metadata": {},
   "outputs": [],
   "source": []
  },
  {
   "cell_type": "code",
   "execution_count": null,
   "metadata": {},
   "outputs": [],
   "source": []
  },
  {
   "cell_type": "code",
   "execution_count": null,
   "metadata": {},
   "outputs": [],
   "source": []
  },
  {
   "cell_type": "code",
   "execution_count": null,
   "metadata": {},
   "outputs": [],
   "source": []
  },
  {
   "cell_type": "code",
   "execution_count": null,
   "metadata": {},
   "outputs": [],
   "source": []
  },
  {
   "cell_type": "code",
   "execution_count": null,
   "metadata": {},
   "outputs": [],
   "source": []
  },
  {
   "cell_type": "code",
   "execution_count": null,
   "metadata": {},
   "outputs": [],
   "source": []
  },
  {
   "cell_type": "code",
   "execution_count": null,
   "metadata": {},
   "outputs": [],
   "source": []
  },
  {
   "cell_type": "code",
   "execution_count": null,
   "metadata": {},
   "outputs": [],
   "source": []
  },
  {
   "cell_type": "markdown",
   "metadata": {},
   "source": [
    "### TEST"
   ]
  },
  {
   "cell_type": "code",
   "execution_count": null,
   "metadata": {},
   "outputs": [],
   "source": [
    "m_head_dict['3']['Start Date']"
   ]
  },
  {
   "cell_type": "code",
   "execution_count": null,
   "metadata": {},
   "outputs": [],
   "source": [
    "## individual box\n",
    "tir2_box3 = m_parsed_dt_df['3'].dropna(how='all')\n",
    "tir2_box3.shape"
   ]
  },
  {
   "cell_type": "code",
   "execution_count": null,
   "metadata": {},
   "outputs": [],
   "source": [
    "tir2_box3.index"
   ]
  },
  {
   "cell_type": "markdown",
   "metadata": {},
   "source": [
    "### Reward Retrieval Latency: \n",
    "\n",
    "Potentially this logic? \n",
    "\n",
    "\n",
    "Start --> 8270 (end of reward) ?? \n",
    "End --> 8271 (start of poke in) ?? \n",
    "\n",
    "Get the index of '8270' (end of reward) \n",
    "\n"
   ]
  },
  {
   "cell_type": "code",
   "execution_count": null,
   "metadata": {},
   "outputs": [],
   "source": [
    "# tir2_box3[70:90]"
   ]
  },
  {
   "cell_type": "code",
   "execution_count": null,
   "metadata": {},
   "outputs": [],
   "source": [
    "## Get the Reward Index  --> This will be the reference timer (starting point)!! (will stay the same!! )\n",
    "\n",
    "reward_df = tir2_box3[tir2_box3.event_code == '8270']   # solenoid off code \n",
    "reward_df.shape\n",
    "# reward_off_df.head(3)\n",
    "reward_index = reward_df.index\n",
    "# len(reward_index)"
   ]
  },
  {
   "cell_type": "code",
   "execution_count": null,
   "metadata": {},
   "outputs": [],
   "source": [
    "## Get the Retrieval Index  --> This will be dependent on Reward Index (since reward index is the reference point)\n",
    "\n",
    "poke_in_df = tir2_box3[tir2_box3.event_code == '8071']   # Middle port poke in code \n",
    "poke_in_df.shape\n",
    "# poke_in_df.head(3)\n",
    "poke_index = poke_in_df.index\n",
    "# len(poke_index)"
   ]
  },
  {
   "cell_type": "code",
   "execution_count": null,
   "metadata": {},
   "outputs": [],
   "source": []
  },
  {
   "cell_type": "code",
   "execution_count": null,
   "metadata": {},
   "outputs": [],
   "source": []
  },
  {
   "cell_type": "code",
   "execution_count": null,
   "metadata": {},
   "outputs": [],
   "source": [
    "reward_index[:10]"
   ]
  },
  {
   "cell_type": "code",
   "execution_count": null,
   "metadata": {},
   "outputs": [],
   "source": [
    "poke_index[-5:]"
   ]
  },
  {
   "cell_type": "markdown",
   "metadata": {},
   "source": [
    "### NOTES\n",
    "Reward Retrieval is defined by the FIRST poke in middle port following the END of reward delivery.\n",
    "In example above, \n",
    "1. 2699 (end of reward) --> 2701 (FIRST Poke in mid port) \n",
    "2. 2744 (end of reward) --> 2747 (FIRST Poke in mid port) \n",
    "3. 2783 (end of reward) --> 2785 (FIRST Poke in mid port)    \n",
    "\n",
    "Mouse CAN retrieve reward or NOT! (mouse doesn't have to receive the reward, so don't assume that a poke will always be present. It could be zero too!! \n",
    "\n",
    "- thus need to get the index in between "
   ]
  },
  {
   "cell_type": "code",
   "execution_count": null,
   "metadata": {},
   "outputs": [],
   "source": [
    "tir2_box3.loc[2780:2800]"
   ]
  },
  {
   "cell_type": "code",
   "execution_count": null,
   "metadata": {},
   "outputs": [],
   "source": [
    "reward_index"
   ]
  },
  {
   "cell_type": "code",
   "execution_count": null,
   "metadata": {},
   "outputs": [],
   "source": [
    "retrieval_idx"
   ]
  },
  {
   "cell_type": "code",
   "execution_count": null,
   "metadata": {},
   "outputs": [],
   "source": []
  },
  {
   "cell_type": "code",
   "execution_count": null,
   "metadata": {},
   "outputs": [],
   "source": []
  },
  {
   "cell_type": "code",
   "execution_count": null,
   "metadata": {},
   "outputs": [],
   "source": []
  },
  {
   "cell_type": "code",
   "execution_count": null,
   "metadata": {},
   "outputs": [],
   "source": [
    "ret_idxtest = retrieval_idx[:-2]\n",
    "ret_idxtest.shape"
   ]
  },
  {
   "cell_type": "code",
   "execution_count": null,
   "metadata": {},
   "outputs": [],
   "source": [
    "\n",
    "for i, j in zip(reward_index, retrieval_idx):\n",
    "#     print(j - (i+1))\n",
    "#     print(i+1)\n",
    "#     k += 1\n",
    "#     print(k)"
   ]
  },
  {
   "cell_type": "code",
   "execution_count": null,
   "metadata": {},
   "outputs": [],
   "source": []
  },
  {
   "cell_type": "code",
   "execution_count": null,
   "metadata": {},
   "outputs": [],
   "source": []
  },
  {
   "cell_type": "code",
   "execution_count": null,
   "metadata": {},
   "outputs": [],
   "source": [
    "first_poke_array = []\n",
    "for i in reward_index:\n",
    "\n",
    "    boolean_arrays = np.where(poke_index > i)[0]  # returns the true values where the poke in mid follows end of reward! \n",
    "    first_poke = boolean_arrays[0]                # from the true value array, returns the first index (first poke) \n",
    "    first_poke_array.append(first_poke)\n",
    "    \n",
    "    \n",
    "retrieval_idx = poke_index[first_poke_array]                      # map it to original poke index to get the REAL index "
   ]
  },
  {
   "cell_type": "code",
   "execution_count": null,
   "metadata": {},
   "outputs": [],
   "source": [
    "def latency_idx_check(self):\n",
    "    assert len(reward_index) != len(retrieval_idx)\n",
    "    print(\"pass\")"
   ]
  },
  {
   "cell_type": "code",
   "execution_count": null,
   "metadata": {},
   "outputs": [],
   "source": []
  },
  {
   "cell_type": "code",
   "execution_count": null,
   "metadata": {},
   "outputs": [],
   "source": []
  },
  {
   "cell_type": "markdown",
   "metadata": {},
   "source": [
    "#### Reward DF and FIRST poke DF (retrieval)"
   ]
  },
  {
   "cell_type": "code",
   "execution_count": null,
   "metadata": {},
   "outputs": [],
   "source": [
    "reward_df = tir2_box3[tir2_box3.event_code == '8270']\n",
    "reward_df.head()"
   ]
  },
  {
   "cell_type": "code",
   "execution_count": null,
   "metadata": {},
   "outputs": [],
   "source": []
  },
  {
   "cell_type": "code",
   "execution_count": null,
   "metadata": {},
   "outputs": [],
   "source": [
    "28600971.0 - 28602904.0"
   ]
  },
  {
   "cell_type": "code",
   "execution_count": null,
   "metadata": {},
   "outputs": [],
   "source": [
    "reward_index"
   ]
  },
  {
   "cell_type": "code",
   "execution_count": null,
   "metadata": {},
   "outputs": [],
   "source": [
    "tir2_box3[120:150]"
   ]
  },
  {
   "cell_type": "code",
   "execution_count": null,
   "metadata": {},
   "outputs": [],
   "source": [
    "retrieval_df = tir2_box3.loc[retrieval_idx]"
   ]
  },
  {
   "cell_type": "code",
   "execution_count": null,
   "metadata": {},
   "outputs": [],
   "source": []
  },
  {
   "cell_type": "code",
   "execution_count": null,
   "metadata": {},
   "outputs": [],
   "source": []
  },
  {
   "cell_type": "code",
   "execution_count": null,
   "metadata": {},
   "outputs": [],
   "source": [
    "reward_time = reward_df.timestamp.tolist()\n",
    "reward_time\n",
    "retrieval_time = retrieval_df.timestamp.tolist()\n",
    "# retrieval_time"
   ]
  },
  {
   "cell_type": "code",
   "execution_count": null,
   "metadata": {},
   "outputs": [],
   "source": [
    "# pd.concat([reward_time, retrieval_time], axis=1)"
   ]
  },
  {
   "cell_type": "code",
   "execution_count": null,
   "metadata": {},
   "outputs": [],
   "source": [
    "## Need to make it into a list first!! and then zip it and make into dataframe\n",
    "\n",
    "rr_latency_df = pd.DataFrame(zip(reward_time, retrieval_time), columns =[\"reward\",\"retrieval\"])\n",
    "rr_latency_df['latency'] = rr_latency_df.retrieval - rr_latency_df.reward\n",
    "# rr_latency_df"
   ]
  },
  {
   "cell_type": "code",
   "execution_count": null,
   "metadata": {},
   "outputs": [],
   "source": []
  },
  {
   "cell_type": "code",
   "execution_count": null,
   "metadata": {},
   "outputs": [],
   "source": []
  },
  {
   "cell_type": "code",
   "execution_count": null,
   "metadata": {},
   "outputs": [],
   "source": []
  },
  {
   "cell_type": "code",
   "execution_count": null,
   "metadata": {},
   "outputs": [],
   "source": []
  },
  {
   "cell_type": "code",
   "execution_count": null,
   "metadata": {},
   "outputs": [],
   "source": []
  },
  {
   "cell_type": "code",
   "execution_count": null,
   "metadata": {},
   "outputs": [],
   "source": [
    "result_idx = []\n",
    "for i in sol_off_idx:\n",
    "#     print(i)\n",
    "   \n",
    "    if (poke_index > i).any():\n",
    "        all_true_arrays = np.where(poke_index > i)\n",
    "        first_poke = all_true_arrays[0][0]\n",
    "    \n",
    "    result_idx.append(first_poke)\n"
   ]
  },
  {
   "cell_type": "code",
   "execution_count": null,
   "metadata": {},
   "outputs": [],
   "source": [
    "# np.where(poke_index > 3000)[0]"
   ]
  },
  {
   "cell_type": "code",
   "execution_count": null,
   "metadata": {},
   "outputs": [],
   "source": []
  },
  {
   "cell_type": "code",
   "execution_count": null,
   "metadata": {},
   "outputs": [],
   "source": []
  },
  {
   "cell_type": "code",
   "execution_count": null,
   "metadata": {},
   "outputs": [],
   "source": []
  },
  {
   "cell_type": "code",
   "execution_count": null,
   "metadata": {},
   "outputs": [],
   "source": []
  },
  {
   "cell_type": "code",
   "execution_count": null,
   "metadata": {},
   "outputs": [],
   "source": [
    "poke_in_df = tir2_box3[tir2_box3.event_code == '8071']\n",
    "poke_in_df.head(30)\n",
    "poke_index = poke_in_df.index"
   ]
  },
  {
   "cell_type": "code",
   "execution_count": null,
   "metadata": {},
   "outputs": [],
   "source": []
  },
  {
   "cell_type": "code",
   "execution_count": null,
   "metadata": {},
   "outputs": [],
   "source": []
  },
  {
   "cell_type": "code",
   "execution_count": null,
   "metadata": {},
   "outputs": [],
   "source": []
  },
  {
   "cell_type": "code",
   "execution_count": null,
   "metadata": {},
   "outputs": [],
   "source": []
  },
  {
   "cell_type": "code",
   "execution_count": null,
   "metadata": {},
   "outputs": [],
   "source": []
  },
  {
   "cell_type": "code",
   "execution_count": null,
   "metadata": {},
   "outputs": [],
   "source": []
  },
  {
   "cell_type": "code",
   "execution_count": null,
   "metadata": {},
   "outputs": [],
   "source": []
  },
  {
   "cell_type": "code",
   "execution_count": null,
   "metadata": {},
   "outputs": [],
   "source": []
  },
  {
   "cell_type": "code",
   "execution_count": null,
   "metadata": {},
   "outputs": [],
   "source": []
  },
  {
   "cell_type": "code",
   "execution_count": null,
   "metadata": {},
   "outputs": [],
   "source": []
  },
  {
   "cell_type": "code",
   "execution_count": null,
   "metadata": {},
   "outputs": [],
   "source": []
  },
  {
   "cell_type": "code",
   "execution_count": null,
   "metadata": {},
   "outputs": [],
   "source": []
  },
  {
   "cell_type": "markdown",
   "metadata": {},
   "source": [
    "### Plotting Functions"
   ]
  },
  {
   "cell_type": "code",
   "execution_count": null,
   "metadata": {},
   "outputs": [],
   "source": [
    "## later put in arguments for parsing out maximum time + valid/invalid\n",
    "\n",
    "def plot_latency_cdf(m_latency_df):\n",
    "\n",
    "    result = []; box_arr = list(m_latency_df.columns.levels[0])\n",
    "    midx_shape = m_latency_df.columns.levshape   # (returns a tuple)\n",
    "    \n",
    "    plt.figure(figsize=(10,8))\n",
    "    for i in range(len(box_arr)):  # for all the boxes in box_array\n",
    "        box_num = box_arr[i]\n",
    "           \n",
    "        ind_df = m_latency_df.loc[:, box_num]\n",
    "        ind_df = ind_df.dropna(how='all')\n",
    "        \n",
    "        x, y = ecdf_wo_nan(ind_df.latency)\n",
    "        \n",
    "        adults = {'1','2','3','4','5'}  # using a set\n",
    "        adolescents = {'6','7','8','9','10'}\n",
    "\n",
    "        if box_num in adults:\n",
    "            plt.plot(x, y, marker='.', linestyle= 'none', ms= 5, color='blue', label='adult')\n",
    "        elif box_num in adolescents:\n",
    "            plt.plot(x, y, marker='.', linestyle= 'none', ms= 5, color='red', label=\"adol\")\n",
    "\n",
    "    plt.axhline(0.9)\n",
    "\n",
    "    plt.ylabel(\"Cumulative Density Function\", fontsize=14)\n",
    "    plt.xlabel(\"Latency (ms)\", fontsize=14)\n",
    "    # plt.legend(handles=[line1, line2], loc='lower right')\n",
    "    plt.title(\"CDF of Valid Rewards Latency ({}) - Blue:Adults/Red:Adol\" , fontsize=16)\n",
    "    plt.xlim([0,5000])\n",
    "    # # Display the plot\n",
    "    plt.show()\n",
    "\n",
    "    # plt.plot(x, y, marker= '.', linestyle= 'none', ms= 2)\n",
    "    # plt.savefig(\"data/cdf0903.png\")\n"
   ]
  },
  {
   "cell_type": "code",
   "execution_count": null,
   "metadata": {},
   "outputs": [],
   "source": []
  },
  {
   "cell_type": "code",
   "execution_count": null,
   "metadata": {},
   "outputs": [],
   "source": []
  },
  {
   "cell_type": "code",
   "execution_count": null,
   "metadata": {},
   "outputs": [],
   "source": [
    "x, y = ecdf(rr_latency_df.latency)"
   ]
  },
  {
   "cell_type": "code",
   "execution_count": null,
   "metadata": {},
   "outputs": [],
   "source": [
    "plt.subplots(figsize=(8,6))\n",
    "plt.plot(x,y, marker='.', linestyle= 'none', ms=5)"
   ]
  },
  {
   "cell_type": "code",
   "execution_count": null,
   "metadata": {},
   "outputs": [],
   "source": []
  },
  {
   "cell_type": "code",
   "execution_count": null,
   "metadata": {},
   "outputs": [],
   "source": []
  },
  {
   "cell_type": "code",
   "execution_count": null,
   "metadata": {},
   "outputs": [],
   "source": []
  },
  {
   "cell_type": "code",
   "execution_count": null,
   "metadata": {},
   "outputs": [],
   "source": []
  },
  {
   "cell_type": "code",
   "execution_count": null,
   "metadata": {},
   "outputs": [],
   "source": []
  },
  {
   "cell_type": "code",
   "execution_count": null,
   "metadata": {},
   "outputs": [],
   "source": []
  },
  {
   "cell_type": "code",
   "execution_count": null,
   "metadata": {},
   "outputs": [],
   "source": []
  },
  {
   "cell_type": "code",
   "execution_count": null,
   "metadata": {},
   "outputs": [],
   "source": []
  },
  {
   "cell_type": "code",
   "execution_count": null,
   "metadata": {},
   "outputs": [],
   "source": []
  },
  {
   "cell_type": "code",
   "execution_count": null,
   "metadata": {},
   "outputs": [],
   "source": []
  },
  {
   "cell_type": "code",
   "execution_count": null,
   "metadata": {},
   "outputs": [],
   "source": []
  },
  {
   "cell_type": "code",
   "execution_count": null,
   "metadata": {},
   "outputs": [],
   "source": []
  },
  {
   "cell_type": "code",
   "execution_count": null,
   "metadata": {},
   "outputs": [],
   "source": []
  },
  {
   "cell_type": "code",
   "execution_count": null,
   "metadata": {},
   "outputs": [],
   "source": []
  },
  {
   "cell_type": "code",
   "execution_count": null,
   "metadata": {},
   "outputs": [],
   "source": []
  },
  {
   "cell_type": "code",
   "execution_count": null,
   "metadata": {},
   "outputs": [],
   "source": []
  },
  {
   "cell_type": "code",
   "execution_count": null,
   "metadata": {},
   "outputs": [],
   "source": []
  },
  {
   "cell_type": "code",
   "execution_count": null,
   "metadata": {},
   "outputs": [],
   "source": []
  },
  {
   "cell_type": "code",
   "execution_count": null,
   "metadata": {},
   "outputs": [],
   "source": []
  },
  {
   "cell_type": "markdown",
   "metadata": {},
   "source": [
    "### Annotated Snippets of Functions"
   ]
  },
  {
   "cell_type": "code",
   "execution_count": null,
   "metadata": {},
   "outputs": [],
   "source": [
    "def ecdf(data):\n",
    "    \"\"\"Compute ECDF for a one-dimensional array of measurements.\"\"\"\n",
    "    # Number of data points: n\n",
    "    # n = data.count() --> can't do this bc dimensions of x and y need to be identical\n",
    "    \n",
    "    ## Use this when only dealing with one file --> with multilevel dataframes, will drop nan values as intermediary step\n",
    "    # Drop the nan values for normalization!! \n",
    "#   # data = data.dropna(how='all')\n",
    "#   # x = data\n",
    "\n",
    "    # x-data for the ECDF after dropping nan values: x\n",
    "    x = np.sort(data)\n",
    "\n",
    "    n = len(data)    \n",
    "    \n",
    "    # y-data for the ECDF: y   --> essentially like np.linspace\n",
    "    #                             (each data point gets the same number of percentage point)\n",
    "    #                             (y-increment is the same for data point(x))\n",
    "    y = np.arange(1, n+1) / n\n",
    "\n",
    "    return x, y"
   ]
  },
  {
   "cell_type": "code",
   "execution_count": null,
   "metadata": {},
   "outputs": [],
   "source": []
  },
  {
   "cell_type": "markdown",
   "metadata": {},
   "source": [
    "<a href='#Table of Contents'>Back to Table of Contents</a>"
   ]
  },
  {
   "cell_type": "markdown",
   "metadata": {},
   "source": [
    "<a href='#Table of Contents'>Back to Table of Contents</a>"
   ]
  },
  {
   "cell_type": "markdown",
   "metadata": {},
   "source": [
    "<a id='Event Code'></a>\n",
    "___\n",
    "### Appendix:\n",
    "\n",
    "***Event Codes***"
   ]
  },
  {
   "cell_type": "code",
   "execution_count": 7,
   "metadata": {},
   "outputs": [],
   "source": [
    "\n",
    "event_code_dict = {'7071' :'L_Poke_Valid_IN',  '7171' :'L_led_Valid_ON',  '7271' :'L_sol_Valid_ON',\n",
    "                   '7070' :'L_Poke_Valid_OUT', '7170' :'L_led_Valid_OFF', '7270' :'L_sol_Valid_OFF',\n",
    "                   '8071' :'M_Poke_Valid_IN',  '8171' :'M_led_Valid_ON',  '8271' :'M_sol_Valid_ON',\n",
    "                   '8070' :'M_Poke_Valid_OUT', '8170' :'M_led_Valid_OFF', '8270' :'M_sol_Valid_OFF',\n",
    "                   '9071' :'R_Poke_Valid_IN',  '9171' :'R_led_Valid_ON',  '9271' :'R_sol_Valid_ON',\n",
    "                   '9070' :'R_Poke_Valid_OUT', '9170' :'R_led_Valid_OFF', '9270' :'R_sol_Valid_OFF',\n",
    "\n",
    "                   '7160' :'L_led_Invalid_OFF',\n",
    "                   '8160' :'M_led_Invalid_OFF',\n",
    "                   '9160' :'R_led_Invalid_OFF',\n",
    "\n",
    "                   '7519' :'L_iw',  '7529' :'L_tw',  '7539' :'L_vw', '7559' :'L_delay_w',\n",
    "                   '8519' :'M_iw',  '8529' :'M_tw',  '8539' :'M_vw', '8559' :'M_delay_w',\n",
    "                   '9519' :'R_iw',  '9529' :'R_tw',  '9539' :'R_vw', '9559' :'R_delay_w',\n",
    "\n",
    "                   '7540' :'Left_Omission', '8540' :'Middle_Omission', '9540' :'Right_Omission',\n",
    "\n",
    "                   '5520' :'Trial_Window_End',\n",
    "                   '5521' :'Trial_Window_Start',\n",
    "\n",
    "                   '0114' :'END'}\n",
    "\n",
    "\n"
   ]
  },
  {
   "cell_type": "markdown",
   "metadata": {},
   "source": [
    "<a href='#data wrangling'>Back to Initial Data Wrangling</a>"
   ]
  },
  {
   "cell_type": "markdown",
   "metadata": {},
   "source": [
    "<a href='#return_body_df'>Back to return-body-df function</a>"
   ]
  },
  {
   "cell_type": "markdown",
   "metadata": {},
   "source": [
    "<a href='#Table of Contents'>Back to Table of Contents</a>"
   ]
  },
  {
   "cell_type": "code",
   "execution_count": null,
   "metadata": {},
   "outputs": [],
   "source": [
    "tir_1.to_csv(\"Final_Metrics/0925_TIR.csv\")"
   ]
  },
  {
   "cell_type": "markdown",
   "metadata": {},
   "source": [
    "<a href='#Table of Contents'>Back to Table of Contents</a>"
   ]
  },
  {
   "cell_type": "code",
   "execution_count": null,
   "metadata": {},
   "outputs": [],
   "source": []
  }
 ],
 "metadata": {
  "kernelspec": {
   "display_name": "Python 3",
   "language": "python",
   "name": "python3"
  },
  "language_info": {
   "codemirror_mode": {
    "name": "ipython",
    "version": 3
   },
   "file_extension": ".py",
   "mimetype": "text/x-python",
   "name": "python",
   "nbconvert_exporter": "python",
   "pygments_lexer": "ipython3",
   "version": "3.6.8"
  }
 },
 "nbformat": 4,
 "nbformat_minor": 2
}
