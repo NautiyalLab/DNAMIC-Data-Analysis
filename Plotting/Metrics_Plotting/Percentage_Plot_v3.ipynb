{
 "cells": [
  {
   "cell_type": "markdown",
   "metadata": {},
   "source": [
    "\n",
    "### Percentage Line Plots\n",
    "\n",
    "- will have to use a different logic, since I need to import and save two different csv files\n",
    "\n",
    "**OR!** if Ican store all the data in a single file, then of course don't need to do this step.... "
   ]
  },
  {
   "cell_type": "markdown",
   "metadata": {},
   "source": [
    "### ALSO, use it to calculate \n",
    "1. invalid_trials percentage\n",
    "2. omission_trials percentage"
   ]
  },
  {
   "cell_type": "markdown",
   "metadata": {},
   "source": [
    "EDIT: **11/15** (changed the denominator / numerator for correct and incorrect percentages) \n",
    "\n",
    "Correct Percentage metric used in traditional 3-CSRT"
   ]
  },
  {
   "cell_type": "code",
   "execution_count": null,
   "metadata": {},
   "outputs": [],
   "source": []
  },
  {
   "cell_type": "code",
   "execution_count": 1,
   "metadata": {},
   "outputs": [],
   "source": [
    "\n",
    "import numpy as np\n",
    "import pandas as pd\n",
    "import os\n",
    "import glob\n",
    "from datetime import datetime\n",
    "from matplotlib.dates import DateFormatter\n",
    "import re\n",
    "\n",
    "import matplotlib.pyplot as plt\n",
    "import seaborn as sns\n",
    "\n",
    "sns.set(style=\"ticks\")\n",
    "pd.set_option('display.max_columns', 500)\n",
    "\n",
    "import matplotlib.style as style \n",
    "\n",
    "# style.available\n",
    "style.use('seaborn-bright')\n"
   ]
  },
  {
   "cell_type": "markdown",
   "metadata": {},
   "source": [
    "trials_initiated (171) / total reward (271)"
   ]
  },
  {
   "cell_type": "code",
   "execution_count": 2,
   "metadata": {},
   "outputs": [],
   "source": [
    "def metric_to_tidy(filepath):\n",
    "    \"\"\"\n",
    "    returns a tidy version of the metric\n",
    "    \"\"\"\n",
    "    \n",
    "    metric = pd.read_csv(filepath, header=[0,1], index_col=0, dtype='object') \n",
    "\n",
    "    # Passsing in headers as a list of ints will make it a MultiIndex --> Multilevel dataframe\n",
    "    # index_col (As ints) sets the index_column\n",
    "    # use dtype='object' to preserve data as stored in Excel\n",
    "\n",
    "    stacked = metric.stack(\"Box Number\")   # Stack Box Numbers (make it into a column)\n",
    "    s_ = stacked.reset_index()             # reset index to make it into a single level dataframe\n",
    "    s_.columns.name = \"\"                   # null string for column name\n",
    "\n",
    "    s_.rename(columns={'level_0': \"date\", \"Box Number\": \"Box_Number\"}, inplace=True)\n",
    "    \n",
    "    # # Melt Operation\n",
    "    melt = pd.melt(s_, id_vars=['date', 'Box_Number'], var_name='Location', value_name='Frequency')\n",
    "\n",
    "    \n",
    "    melt.Frequency = pd.to_numeric(melt.Frequency)\n",
    "\n",
    "    tidy = melt.copy()\n",
    "    tidy['date'] = \"2019/\" + melt['date'].str[:5]    # Add in year here! since year defaults to 1900\n",
    "    tidy['code'] = melt['date'].str[-3:]\n",
    "    tidy['date'] = pd.to_datetime(tidy['date'], format=\"%Y/%m/%d\")\n",
    "    \n",
    "    return tidy\n",
    "    "
   ]
  },
  {
   "cell_type": "code",
   "execution_count": null,
   "metadata": {},
   "outputs": [],
   "source": []
  },
  {
   "cell_type": "code",
   "execution_count": 3,
   "metadata": {},
   "outputs": [],
   "source": [
    "def tidy_to_pivot(loc_df, column_name=\"Frequency\"):\n",
    "    \"\"\"\n",
    "    loc_df = can be left/middle/right/total (usually will be total)\n",
    "    \"\"\"\n",
    "    pivot = loc_df.pivot(index=\"date\", columns='Box_Number', values=column_name)\n",
    "    \n",
    "    return pivot"
   ]
  },
  {
   "cell_type": "code",
   "execution_count": 4,
   "metadata": {},
   "outputs": [],
   "source": [
    "\n",
    "## Use this function WITHIN the plotting function (when actual plotting)\n",
    "def calculate_avg_sem(df):\n",
    "    \"\"\"\n",
    "    df = pivoted dataframe\n",
    "    \"\"\"\n",
    "    plot_df = df.copy()\n",
    "    \n",
    "    plot_df[\"Adult Avg\"] = df.loc[:, ['1','2','3','4','5']].mean(axis=1)  # average over first 5 \n",
    "    plot_df['Adol Avg'] = df.loc[:, ['6','7','8','9','10']].mean(axis=1) # average over next 5\n",
    "    plot_df['Adult Sem'] = df.loc[:, ['1','2','3','4','5']].sem(axis=1, ddof=1)\n",
    "    plot_df['Adol Sem'] = df.loc[:, ['6','7','8','9','10']].sem(axis=1, ddof=1)\n",
    "    \n",
    "    return plot_df"
   ]
  },
  {
   "cell_type": "code",
   "execution_count": null,
   "metadata": {},
   "outputs": [],
   "source": []
  },
  {
   "cell_type": "code",
   "execution_count": 44,
   "metadata": {},
   "outputs": [],
   "source": [
    "total = \"trials_initiated.csv\"\n",
    "correct = \"trials_reward_tir.csv\"    # must use 'tir' because we're not inner joining anymore! \n",
    "incorrect = \"trials_incorrect.csv\"\n",
    "omission = \"trials_omission.csv\""
   ]
  },
  {
   "cell_type": "code",
   "execution_count": 45,
   "metadata": {},
   "outputs": [],
   "source": [
    "# filepath = \"metric_data/23_hr/Nov_8/\" + file"
   ]
  },
  {
   "cell_type": "code",
   "execution_count": 46,
   "metadata": {},
   "outputs": [],
   "source": [
    "total_path = \"metric_data/dark_cycle/Nov_14/\" + total\n",
    "correct_path = \"metric_data/dark_cycle/Nov_14/\" + correct\n",
    "incorrect_path = \"metric_data/dark_cycle/Nov_14/\" + incorrect\n",
    "omission_path = \"metric_data/dark_cycle/Nov_14/\" + omission"
   ]
  },
  {
   "cell_type": "markdown",
   "metadata": {},
   "source": [
    "#### Output Tidy data format from excel file"
   ]
  },
  {
   "cell_type": "code",
   "execution_count": 47,
   "metadata": {},
   "outputs": [],
   "source": [
    "tidy_total = metric_to_tidy(total_path)\n",
    "tidy_correct = metric_to_tidy(correct_path)\n",
    "tidy_incorrect = metric_to_tidy(incorrect_path)\n",
    "tidy_omission = metric_to_tidy(omission_path)"
   ]
  },
  {
   "cell_type": "code",
   "execution_count": 48,
   "metadata": {},
   "outputs": [],
   "source": [
    "tt = tidy_total.shape\n",
    "tc = tidy_correct.shape\n",
    "ti = tidy_incorrect.shape\n",
    "to = tidy_omission.shape"
   ]
  },
  {
   "cell_type": "code",
   "execution_count": 49,
   "metadata": {},
   "outputs": [
    {
     "name": "stdout",
     "output_type": "stream",
     "text": [
      "shape of total trials (code:171) : (2080, 5) & shape of correct (code:271) : (2080, 5)\n",
      "shape of total trials (code:171) : (2080, 5) & shape of incorrect (code:160) : (2080, 5)\n",
      "shape of total trials (code:171) : (2080, 5) & shape of omission (code:540) : (1520, 5)\n"
     ]
    }
   ],
   "source": [
    "print(\"shape of total trials (code:171) : {} & shape of correct (code:271) : {}\".format(tt, tc))\n",
    "print(\"shape of total trials (code:171) : {} & shape of incorrect (code:160) : {}\".format(tt, ti))\n",
    "print(\"shape of total trials (code:171) : {} & shape of omission (code:540) : {}\".format(tt, to))"
   ]
  },
  {
   "cell_type": "code",
   "execution_count": null,
   "metadata": {},
   "outputs": [],
   "source": []
  },
  {
   "cell_type": "code",
   "execution_count": null,
   "metadata": {},
   "outputs": [],
   "source": []
  },
  {
   "cell_type": "markdown",
   "metadata": {},
   "source": [
    "### Correct Percentage + Incorrect Percentage will be calculated differently!! (11/15) "
   ]
  },
  {
   "cell_type": "code",
   "execution_count": 50,
   "metadata": {},
   "outputs": [],
   "source": [
    "# correct_percentage_df = tidy_total.merge(tidy_correct, on=[\"date\", \"Box_Number\", \"Location\"], how=\"inner\", suffixes=['_total','_correct'])\n",
    "# correct_percentage_df['Ratio'] = correct_percentage_df.Frequency_correct / correct_percentage_df.Frequency_total\n",
    "# correct_percentage_df.tail(3)"
   ]
  },
  {
   "cell_type": "code",
   "execution_count": 51,
   "metadata": {},
   "outputs": [],
   "source": [
    "# incorrect_percentage_df = tidy_total.merge(tidy_incorrect, on=[\"date\", \"Box_Number\", \"Location\"], how=\"inner\", suffixes=['_total','_incorrect'])\n",
    "# incorrect_percentage_df['Ratio'] = incorrect_percentage_df.Frequency_incorrect / incorrect_percentage_df.Frequency_total\n",
    "# incorrect_percentage_df.tail(3)"
   ]
  },
  {
   "cell_type": "markdown",
   "metadata": {},
   "source": [
    "### Omission Percentage will stay the same!! (11/15) \n",
    "\n",
    "(# omission / # of initiated trials)"
   ]
  },
  {
   "cell_type": "code",
   "execution_count": 52,
   "metadata": {},
   "outputs": [
    {
     "data": {
      "text/html": [
       "<div>\n",
       "<style scoped>\n",
       "    .dataframe tbody tr th:only-of-type {\n",
       "        vertical-align: middle;\n",
       "    }\n",
       "\n",
       "    .dataframe tbody tr th {\n",
       "        vertical-align: top;\n",
       "    }\n",
       "\n",
       "    .dataframe thead th {\n",
       "        text-align: right;\n",
       "    }\n",
       "</style>\n",
       "<table border=\"1\" class=\"dataframe\">\n",
       "  <thead>\n",
       "    <tr style=\"text-align: right;\">\n",
       "      <th></th>\n",
       "      <th>date</th>\n",
       "      <th>Box_Number</th>\n",
       "      <th>Location</th>\n",
       "      <th>Frequency_total</th>\n",
       "      <th>code_total</th>\n",
       "      <th>Frequency_omission</th>\n",
       "      <th>code_omission</th>\n",
       "      <th>Ratio</th>\n",
       "    </tr>\n",
       "  </thead>\n",
       "  <tbody>\n",
       "    <tr>\n",
       "      <th>1517</th>\n",
       "      <td>2019-11-13</td>\n",
       "      <td>7</td>\n",
       "      <td>Total</td>\n",
       "      <td>65</td>\n",
       "      <td>171</td>\n",
       "      <td>12</td>\n",
       "      <td>540</td>\n",
       "      <td>0.184615</td>\n",
       "    </tr>\n",
       "    <tr>\n",
       "      <th>1518</th>\n",
       "      <td>2019-11-13</td>\n",
       "      <td>8</td>\n",
       "      <td>Total</td>\n",
       "      <td>51</td>\n",
       "      <td>171</td>\n",
       "      <td>5</td>\n",
       "      <td>540</td>\n",
       "      <td>0.098039</td>\n",
       "    </tr>\n",
       "    <tr>\n",
       "      <th>1519</th>\n",
       "      <td>2019-11-13</td>\n",
       "      <td>9</td>\n",
       "      <td>Total</td>\n",
       "      <td>216</td>\n",
       "      <td>171</td>\n",
       "      <td>74</td>\n",
       "      <td>540</td>\n",
       "      <td>0.342593</td>\n",
       "    </tr>\n",
       "  </tbody>\n",
       "</table>\n",
       "</div>"
      ],
      "text/plain": [
       "           date Box_Number Location  Frequency_total code_total  \\\n",
       "1517 2019-11-13          7    Total               65        171   \n",
       "1518 2019-11-13          8    Total               51        171   \n",
       "1519 2019-11-13          9    Total              216        171   \n",
       "\n",
       "      Frequency_omission code_omission     Ratio  \n",
       "1517                  12           540  0.184615  \n",
       "1518                   5           540  0.098039  \n",
       "1519                  74           540  0.342593  "
      ]
     },
     "execution_count": 52,
     "metadata": {},
     "output_type": "execute_result"
    }
   ],
   "source": [
    "omission_pct_df = tidy_total.merge(tidy_omission, on=[\"date\", \"Box_Number\", \"Location\"], how=\"inner\", suffixes=['_total','_omission'])\n",
    "omission_pct_df['Ratio'] = omission_pct_df.Frequency_omission / omission_pct_df.Frequency_total\n",
    "omission_pct_df.tail(3)"
   ]
  },
  {
   "cell_type": "code",
   "execution_count": null,
   "metadata": {},
   "outputs": [],
   "source": []
  },
  {
   "cell_type": "code",
   "execution_count": null,
   "metadata": {},
   "outputs": [],
   "source": []
  },
  {
   "cell_type": "markdown",
   "metadata": {},
   "source": [
    "### NEW Percentage Calculations (excluding omissions)"
   ]
  },
  {
   "cell_type": "code",
   "execution_count": 53,
   "metadata": {},
   "outputs": [],
   "source": [
    "# tidy_correct.head()"
   ]
  },
  {
   "cell_type": "code",
   "execution_count": 54,
   "metadata": {},
   "outputs": [],
   "source": [
    "# tidy_incorrect.head()"
   ]
  },
  {
   "cell_type": "code",
   "execution_count": 55,
   "metadata": {},
   "outputs": [
    {
     "data": {
      "text/plain": [
       "(2080, 5)"
      ]
     },
     "execution_count": 55,
     "metadata": {},
     "output_type": "execute_result"
    }
   ],
   "source": [
    "tidy_incorrect.shape"
   ]
  },
  {
   "cell_type": "code",
   "execution_count": 56,
   "metadata": {},
   "outputs": [
    {
     "data": {
      "text/html": [
       "<div>\n",
       "<style scoped>\n",
       "    .dataframe tbody tr th:only-of-type {\n",
       "        vertical-align: middle;\n",
       "    }\n",
       "\n",
       "    .dataframe tbody tr th {\n",
       "        vertical-align: top;\n",
       "    }\n",
       "\n",
       "    .dataframe thead th {\n",
       "        text-align: right;\n",
       "    }\n",
       "</style>\n",
       "<table border=\"1\" class=\"dataframe\">\n",
       "  <thead>\n",
       "    <tr style=\"text-align: right;\">\n",
       "      <th></th>\n",
       "      <th>new_total</th>\n",
       "    </tr>\n",
       "  </thead>\n",
       "  <tbody>\n",
       "    <tr>\n",
       "      <th>2075</th>\n",
       "      <td>161</td>\n",
       "    </tr>\n",
       "    <tr>\n",
       "      <th>2076</th>\n",
       "      <td>135</td>\n",
       "    </tr>\n",
       "    <tr>\n",
       "      <th>2077</th>\n",
       "      <td>53</td>\n",
       "    </tr>\n",
       "    <tr>\n",
       "      <th>2078</th>\n",
       "      <td>46</td>\n",
       "    </tr>\n",
       "    <tr>\n",
       "      <th>2079</th>\n",
       "      <td>142</td>\n",
       "    </tr>\n",
       "  </tbody>\n",
       "</table>\n",
       "</div>"
      ],
      "text/plain": [
       "      new_total\n",
       "2075        161\n",
       "2076        135\n",
       "2077         53\n",
       "2078         46\n",
       "2079        142"
      ]
     },
     "execution_count": 56,
     "metadata": {},
     "output_type": "execute_result"
    }
   ],
   "source": [
    "## Create a new total by adding correct + incorrect \n",
    "\n",
    "new_total = pd.DataFrame(tidy_correct.Frequency + tidy_incorrect.Frequency)\n",
    "new_total.columns = [\"new_total\"]\n",
    "new_total.tail(5)\n"
   ]
  },
  {
   "cell_type": "code",
   "execution_count": null,
   "metadata": {},
   "outputs": [],
   "source": []
  },
  {
   "cell_type": "markdown",
   "metadata": {},
   "source": [
    "#### Correct Percentage"
   ]
  },
  {
   "cell_type": "code",
   "execution_count": 57,
   "metadata": {},
   "outputs": [
    {
     "data": {
      "text/html": [
       "<div>\n",
       "<style scoped>\n",
       "    .dataframe tbody tr th:only-of-type {\n",
       "        vertical-align: middle;\n",
       "    }\n",
       "\n",
       "    .dataframe tbody tr th {\n",
       "        vertical-align: top;\n",
       "    }\n",
       "\n",
       "    .dataframe thead th {\n",
       "        text-align: right;\n",
       "    }\n",
       "</style>\n",
       "<table border=\"1\" class=\"dataframe\">\n",
       "  <thead>\n",
       "    <tr style=\"text-align: right;\">\n",
       "      <th></th>\n",
       "      <th>date</th>\n",
       "      <th>Box_Number</th>\n",
       "      <th>Location</th>\n",
       "      <th>Frequency</th>\n",
       "      <th>code</th>\n",
       "      <th>new_total</th>\n",
       "      <th>Ratio</th>\n",
       "      <th>Type</th>\n",
       "    </tr>\n",
       "  </thead>\n",
       "  <tbody>\n",
       "    <tr>\n",
       "      <th>2075</th>\n",
       "      <td>2019-11-13</td>\n",
       "      <td>5</td>\n",
       "      <td>Total</td>\n",
       "      <td>126</td>\n",
       "      <td>271</td>\n",
       "      <td>161</td>\n",
       "      <td>0.782609</td>\n",
       "      <td>Correct</td>\n",
       "    </tr>\n",
       "    <tr>\n",
       "      <th>2076</th>\n",
       "      <td>2019-11-13</td>\n",
       "      <td>6</td>\n",
       "      <td>Total</td>\n",
       "      <td>127</td>\n",
       "      <td>271</td>\n",
       "      <td>135</td>\n",
       "      <td>0.940741</td>\n",
       "      <td>Correct</td>\n",
       "    </tr>\n",
       "    <tr>\n",
       "      <th>2077</th>\n",
       "      <td>2019-11-13</td>\n",
       "      <td>7</td>\n",
       "      <td>Total</td>\n",
       "      <td>47</td>\n",
       "      <td>271</td>\n",
       "      <td>53</td>\n",
       "      <td>0.886792</td>\n",
       "      <td>Correct</td>\n",
       "    </tr>\n",
       "    <tr>\n",
       "      <th>2078</th>\n",
       "      <td>2019-11-13</td>\n",
       "      <td>8</td>\n",
       "      <td>Total</td>\n",
       "      <td>42</td>\n",
       "      <td>271</td>\n",
       "      <td>46</td>\n",
       "      <td>0.913043</td>\n",
       "      <td>Correct</td>\n",
       "    </tr>\n",
       "    <tr>\n",
       "      <th>2079</th>\n",
       "      <td>2019-11-13</td>\n",
       "      <td>9</td>\n",
       "      <td>Total</td>\n",
       "      <td>108</td>\n",
       "      <td>271</td>\n",
       "      <td>142</td>\n",
       "      <td>0.760563</td>\n",
       "      <td>Correct</td>\n",
       "    </tr>\n",
       "  </tbody>\n",
       "</table>\n",
       "</div>"
      ],
      "text/plain": [
       "           date Box_Number Location  Frequency code  new_total     Ratio  \\\n",
       "2075 2019-11-13          5    Total        126  271        161  0.782609   \n",
       "2076 2019-11-13          6    Total        127  271        135  0.940741   \n",
       "2077 2019-11-13          7    Total         47  271         53  0.886792   \n",
       "2078 2019-11-13          8    Total         42  271         46  0.913043   \n",
       "2079 2019-11-13          9    Total        108  271        142  0.760563   \n",
       "\n",
       "         Type  \n",
       "2075  Correct  \n",
       "2076  Correct  \n",
       "2077  Correct  \n",
       "2078  Correct  \n",
       "2079  Correct  "
      ]
     },
     "execution_count": 57,
     "metadata": {},
     "output_type": "execute_result"
    }
   ],
   "source": [
    "correct_pct_df = pd.concat([tidy_correct, new_total], axis=1)\n",
    "correct_pct_df['Ratio'] = correct_pct_df.Frequency / correct_pct_df.new_total\n",
    "correct_pct_df['Type'] = 'Correct'\n",
    "correct_pct_df.tail()\n"
   ]
  },
  {
   "cell_type": "code",
   "execution_count": null,
   "metadata": {},
   "outputs": [],
   "source": []
  },
  {
   "cell_type": "markdown",
   "metadata": {},
   "source": [
    "#### Incorrect Percentage"
   ]
  },
  {
   "cell_type": "code",
   "execution_count": 58,
   "metadata": {},
   "outputs": [
    {
     "data": {
      "text/html": [
       "<div>\n",
       "<style scoped>\n",
       "    .dataframe tbody tr th:only-of-type {\n",
       "        vertical-align: middle;\n",
       "    }\n",
       "\n",
       "    .dataframe tbody tr th {\n",
       "        vertical-align: top;\n",
       "    }\n",
       "\n",
       "    .dataframe thead th {\n",
       "        text-align: right;\n",
       "    }\n",
       "</style>\n",
       "<table border=\"1\" class=\"dataframe\">\n",
       "  <thead>\n",
       "    <tr style=\"text-align: right;\">\n",
       "      <th></th>\n",
       "      <th>date</th>\n",
       "      <th>Box_Number</th>\n",
       "      <th>Location</th>\n",
       "      <th>Frequency</th>\n",
       "      <th>code</th>\n",
       "      <th>new_total</th>\n",
       "      <th>Ratio</th>\n",
       "      <th>Type</th>\n",
       "    </tr>\n",
       "  </thead>\n",
       "  <tbody>\n",
       "    <tr>\n",
       "      <th>2075</th>\n",
       "      <td>2019-11-13</td>\n",
       "      <td>5</td>\n",
       "      <td>Total</td>\n",
       "      <td>35</td>\n",
       "      <td>160</td>\n",
       "      <td>161</td>\n",
       "      <td>0.217391</td>\n",
       "      <td>Incorrect</td>\n",
       "    </tr>\n",
       "    <tr>\n",
       "      <th>2076</th>\n",
       "      <td>2019-11-13</td>\n",
       "      <td>6</td>\n",
       "      <td>Total</td>\n",
       "      <td>8</td>\n",
       "      <td>160</td>\n",
       "      <td>135</td>\n",
       "      <td>0.059259</td>\n",
       "      <td>Incorrect</td>\n",
       "    </tr>\n",
       "    <tr>\n",
       "      <th>2077</th>\n",
       "      <td>2019-11-13</td>\n",
       "      <td>7</td>\n",
       "      <td>Total</td>\n",
       "      <td>6</td>\n",
       "      <td>160</td>\n",
       "      <td>53</td>\n",
       "      <td>0.113208</td>\n",
       "      <td>Incorrect</td>\n",
       "    </tr>\n",
       "    <tr>\n",
       "      <th>2078</th>\n",
       "      <td>2019-11-13</td>\n",
       "      <td>8</td>\n",
       "      <td>Total</td>\n",
       "      <td>4</td>\n",
       "      <td>160</td>\n",
       "      <td>46</td>\n",
       "      <td>0.086957</td>\n",
       "      <td>Incorrect</td>\n",
       "    </tr>\n",
       "    <tr>\n",
       "      <th>2079</th>\n",
       "      <td>2019-11-13</td>\n",
       "      <td>9</td>\n",
       "      <td>Total</td>\n",
       "      <td>34</td>\n",
       "      <td>160</td>\n",
       "      <td>142</td>\n",
       "      <td>0.239437</td>\n",
       "      <td>Incorrect</td>\n",
       "    </tr>\n",
       "  </tbody>\n",
       "</table>\n",
       "</div>"
      ],
      "text/plain": [
       "           date Box_Number Location  Frequency code  new_total     Ratio  \\\n",
       "2075 2019-11-13          5    Total         35  160        161  0.217391   \n",
       "2076 2019-11-13          6    Total          8  160        135  0.059259   \n",
       "2077 2019-11-13          7    Total          6  160         53  0.113208   \n",
       "2078 2019-11-13          8    Total          4  160         46  0.086957   \n",
       "2079 2019-11-13          9    Total         34  160        142  0.239437   \n",
       "\n",
       "           Type  \n",
       "2075  Incorrect  \n",
       "2076  Incorrect  \n",
       "2077  Incorrect  \n",
       "2078  Incorrect  \n",
       "2079  Incorrect  "
      ]
     },
     "execution_count": 58,
     "metadata": {},
     "output_type": "execute_result"
    }
   ],
   "source": [
    "incorrect_pct_df = pd.concat([tidy_incorrect, new_total], axis=1)\n",
    "incorrect_pct_df['Ratio'] = incorrect_pct_df.Frequency / incorrect_pct_df.new_total\n",
    "incorrect_pct_df['Type'] = 'Incorrect'\n",
    "incorrect_pct_df.tail()\n"
   ]
  },
  {
   "cell_type": "code",
   "execution_count": null,
   "metadata": {},
   "outputs": [],
   "source": []
  },
  {
   "cell_type": "code",
   "execution_count": null,
   "metadata": {},
   "outputs": [],
   "source": []
  },
  {
   "cell_type": "code",
   "execution_count": null,
   "metadata": {},
   "outputs": [],
   "source": []
  },
  {
   "cell_type": "code",
   "execution_count": null,
   "metadata": {},
   "outputs": [],
   "source": []
  },
  {
   "cell_type": "code",
   "execution_count": null,
   "metadata": {},
   "outputs": [],
   "source": []
  },
  {
   "cell_type": "markdown",
   "metadata": {},
   "source": [
    "#### Clean up the percentage dataframe"
   ]
  },
  {
   "cell_type": "code",
   "execution_count": 59,
   "metadata": {},
   "outputs": [],
   "source": [
    "# correct_percentage_df = correct_percentage_df[['date','Box_Number','Location','Ratio']]\n",
    "# correct_percentage_df['Type'] = 'Correct'   # include type columns\n",
    "# correct_percentage_df.head(3)"
   ]
  },
  {
   "cell_type": "code",
   "execution_count": 60,
   "metadata": {},
   "outputs": [],
   "source": [
    "# incorrect_percentage_df = incorrect_percentage_df[['date','Box_Number','Location','Ratio']]\n",
    "# incorrect_percentage_df['Type'] = 'Incorrect'   # include type columns\n",
    "# incorrect_percentage_df.head(3)"
   ]
  },
  {
   "cell_type": "markdown",
   "metadata": {},
   "source": [
    "#### Clean up the percentage dataframe (NEW calculations!)"
   ]
  },
  {
   "cell_type": "code",
   "execution_count": 61,
   "metadata": {},
   "outputs": [],
   "source": [
    "correct_pct_df = correct_pct_df[['date','Box_Number','Location','Ratio','Type']]\n",
    "incorrect_pct_df = incorrect_pct_df[['date','Box_Number','Location','Ratio','Type']]\n"
   ]
  },
  {
   "cell_type": "code",
   "execution_count": 62,
   "metadata": {},
   "outputs": [
    {
     "data": {
      "text/html": [
       "<div>\n",
       "<style scoped>\n",
       "    .dataframe tbody tr th:only-of-type {\n",
       "        vertical-align: middle;\n",
       "    }\n",
       "\n",
       "    .dataframe tbody tr th {\n",
       "        vertical-align: top;\n",
       "    }\n",
       "\n",
       "    .dataframe thead th {\n",
       "        text-align: right;\n",
       "    }\n",
       "</style>\n",
       "<table border=\"1\" class=\"dataframe\">\n",
       "  <thead>\n",
       "    <tr style=\"text-align: right;\">\n",
       "      <th></th>\n",
       "      <th>date</th>\n",
       "      <th>Box_Number</th>\n",
       "      <th>Location</th>\n",
       "      <th>Ratio</th>\n",
       "      <th>Type</th>\n",
       "    </tr>\n",
       "  </thead>\n",
       "  <tbody>\n",
       "    <tr>\n",
       "      <th>0</th>\n",
       "      <td>2019-10-07</td>\n",
       "      <td>1</td>\n",
       "      <td>Left</td>\n",
       "      <td>0.000000</td>\n",
       "      <td>Omission</td>\n",
       "    </tr>\n",
       "    <tr>\n",
       "      <th>1</th>\n",
       "      <td>2019-10-07</td>\n",
       "      <td>10</td>\n",
       "      <td>Left</td>\n",
       "      <td>0.006410</td>\n",
       "      <td>Omission</td>\n",
       "    </tr>\n",
       "    <tr>\n",
       "      <th>2</th>\n",
       "      <td>2019-10-07</td>\n",
       "      <td>2</td>\n",
       "      <td>Left</td>\n",
       "      <td>0.021739</td>\n",
       "      <td>Omission</td>\n",
       "    </tr>\n",
       "  </tbody>\n",
       "</table>\n",
       "</div>"
      ],
      "text/plain": [
       "        date Box_Number Location     Ratio      Type\n",
       "0 2019-10-07          1     Left  0.000000  Omission\n",
       "1 2019-10-07         10     Left  0.006410  Omission\n",
       "2 2019-10-07          2     Left  0.021739  Omission"
      ]
     },
     "execution_count": 62,
     "metadata": {},
     "output_type": "execute_result"
    }
   ],
   "source": [
    "omission_pct_df = omission_pct_df[['date','Box_Number','Location','Ratio']]\n",
    "omission_pct_df['Type'] = 'Omission'   # include type columns\n",
    "omission_pct_df.head(3)"
   ]
  },
  {
   "cell_type": "code",
   "execution_count": null,
   "metadata": {},
   "outputs": [],
   "source": []
  },
  {
   "cell_type": "code",
   "execution_count": null,
   "metadata": {},
   "outputs": [],
   "source": []
  },
  {
   "cell_type": "code",
   "execution_count": null,
   "metadata": {},
   "outputs": [],
   "source": []
  },
  {
   "cell_type": "markdown",
   "metadata": {},
   "source": [
    "#### Parsing Out by (Total / Left / Middle / Right)  -- make it into a function later"
   ]
  },
  {
   "cell_type": "code",
   "execution_count": 63,
   "metadata": {},
   "outputs": [
    {
     "data": {
      "text/html": [
       "<div>\n",
       "<style scoped>\n",
       "    .dataframe tbody tr th:only-of-type {\n",
       "        vertical-align: middle;\n",
       "    }\n",
       "\n",
       "    .dataframe tbody tr th {\n",
       "        vertical-align: top;\n",
       "    }\n",
       "\n",
       "    .dataframe thead th {\n",
       "        text-align: right;\n",
       "    }\n",
       "</style>\n",
       "<table border=\"1\" class=\"dataframe\">\n",
       "  <thead>\n",
       "    <tr style=\"text-align: right;\">\n",
       "      <th></th>\n",
       "      <th>date</th>\n",
       "      <th>Box_Number</th>\n",
       "      <th>Location</th>\n",
       "      <th>Ratio</th>\n",
       "      <th>Type</th>\n",
       "    </tr>\n",
       "  </thead>\n",
       "  <tbody>\n",
       "    <tr>\n",
       "      <th>1560</th>\n",
       "      <td>2019-09-23</td>\n",
       "      <td>1</td>\n",
       "      <td>Total</td>\n",
       "      <td>0.730159</td>\n",
       "      <td>Correct</td>\n",
       "    </tr>\n",
       "    <tr>\n",
       "      <th>1561</th>\n",
       "      <td>2019-09-23</td>\n",
       "      <td>10</td>\n",
       "      <td>Total</td>\n",
       "      <td>0.579618</td>\n",
       "      <td>Correct</td>\n",
       "    </tr>\n",
       "    <tr>\n",
       "      <th>1562</th>\n",
       "      <td>2019-09-23</td>\n",
       "      <td>2</td>\n",
       "      <td>Total</td>\n",
       "      <td>0.590909</td>\n",
       "      <td>Correct</td>\n",
       "    </tr>\n",
       "  </tbody>\n",
       "</table>\n",
       "</div>"
      ],
      "text/plain": [
       "           date Box_Number Location     Ratio     Type\n",
       "1560 2019-09-23          1    Total  0.730159  Correct\n",
       "1561 2019-09-23         10    Total  0.579618  Correct\n",
       "1562 2019-09-23          2    Total  0.590909  Correct"
      ]
     },
     "execution_count": 63,
     "metadata": {},
     "output_type": "execute_result"
    }
   ],
   "source": [
    "total_correct_pct = correct_pct_df[correct_pct_df.Location==\"Total\"]\n",
    "total_correct_pct.head(3)"
   ]
  },
  {
   "cell_type": "code",
   "execution_count": 64,
   "metadata": {},
   "outputs": [
    {
     "data": {
      "text/html": [
       "<div>\n",
       "<style scoped>\n",
       "    .dataframe tbody tr th:only-of-type {\n",
       "        vertical-align: middle;\n",
       "    }\n",
       "\n",
       "    .dataframe tbody tr th {\n",
       "        vertical-align: top;\n",
       "    }\n",
       "\n",
       "    .dataframe thead th {\n",
       "        text-align: right;\n",
       "    }\n",
       "</style>\n",
       "<table border=\"1\" class=\"dataframe\">\n",
       "  <thead>\n",
       "    <tr style=\"text-align: right;\">\n",
       "      <th></th>\n",
       "      <th>date</th>\n",
       "      <th>Box_Number</th>\n",
       "      <th>Location</th>\n",
       "      <th>Ratio</th>\n",
       "      <th>Type</th>\n",
       "    </tr>\n",
       "  </thead>\n",
       "  <tbody>\n",
       "    <tr>\n",
       "      <th>1560</th>\n",
       "      <td>2019-09-23</td>\n",
       "      <td>1</td>\n",
       "      <td>Total</td>\n",
       "      <td>0.269841</td>\n",
       "      <td>Incorrect</td>\n",
       "    </tr>\n",
       "    <tr>\n",
       "      <th>1561</th>\n",
       "      <td>2019-09-23</td>\n",
       "      <td>10</td>\n",
       "      <td>Total</td>\n",
       "      <td>0.420382</td>\n",
       "      <td>Incorrect</td>\n",
       "    </tr>\n",
       "    <tr>\n",
       "      <th>1562</th>\n",
       "      <td>2019-09-23</td>\n",
       "      <td>2</td>\n",
       "      <td>Total</td>\n",
       "      <td>0.409091</td>\n",
       "      <td>Incorrect</td>\n",
       "    </tr>\n",
       "  </tbody>\n",
       "</table>\n",
       "</div>"
      ],
      "text/plain": [
       "           date Box_Number Location     Ratio       Type\n",
       "1560 2019-09-23          1    Total  0.269841  Incorrect\n",
       "1561 2019-09-23         10    Total  0.420382  Incorrect\n",
       "1562 2019-09-23          2    Total  0.409091  Incorrect"
      ]
     },
     "execution_count": 64,
     "metadata": {},
     "output_type": "execute_result"
    }
   ],
   "source": [
    "total_incorrect_pct = incorrect_pct_df[incorrect_pct_df.Location==\"Total\"]\n",
    "total_incorrect_pct.head(3)"
   ]
  },
  {
   "cell_type": "code",
   "execution_count": 65,
   "metadata": {},
   "outputs": [
    {
     "data": {
      "text/html": [
       "<div>\n",
       "<style scoped>\n",
       "    .dataframe tbody tr th:only-of-type {\n",
       "        vertical-align: middle;\n",
       "    }\n",
       "\n",
       "    .dataframe tbody tr th {\n",
       "        vertical-align: top;\n",
       "    }\n",
       "\n",
       "    .dataframe thead th {\n",
       "        text-align: right;\n",
       "    }\n",
       "</style>\n",
       "<table border=\"1\" class=\"dataframe\">\n",
       "  <thead>\n",
       "    <tr style=\"text-align: right;\">\n",
       "      <th></th>\n",
       "      <th>date</th>\n",
       "      <th>Box_Number</th>\n",
       "      <th>Location</th>\n",
       "      <th>Ratio</th>\n",
       "      <th>Type</th>\n",
       "    </tr>\n",
       "  </thead>\n",
       "  <tbody>\n",
       "    <tr>\n",
       "      <th>1140</th>\n",
       "      <td>2019-10-07</td>\n",
       "      <td>1</td>\n",
       "      <td>Total</td>\n",
       "      <td>0.009524</td>\n",
       "      <td>Omission</td>\n",
       "    </tr>\n",
       "    <tr>\n",
       "      <th>1141</th>\n",
       "      <td>2019-10-07</td>\n",
       "      <td>10</td>\n",
       "      <td>Total</td>\n",
       "      <td>0.016287</td>\n",
       "      <td>Omission</td>\n",
       "    </tr>\n",
       "    <tr>\n",
       "      <th>1142</th>\n",
       "      <td>2019-10-07</td>\n",
       "      <td>2</td>\n",
       "      <td>Total</td>\n",
       "      <td>0.016129</td>\n",
       "      <td>Omission</td>\n",
       "    </tr>\n",
       "  </tbody>\n",
       "</table>\n",
       "</div>"
      ],
      "text/plain": [
       "           date Box_Number Location     Ratio      Type\n",
       "1140 2019-10-07          1    Total  0.009524  Omission\n",
       "1141 2019-10-07         10    Total  0.016287  Omission\n",
       "1142 2019-10-07          2    Total  0.016129  Omission"
      ]
     },
     "execution_count": 65,
     "metadata": {},
     "output_type": "execute_result"
    }
   ],
   "source": [
    "total_omission_pct = omission_pct_df[omission_pct_df.Location==\"Total\"]\n",
    "total_omission_pct.head(3)"
   ]
  },
  {
   "cell_type": "code",
   "execution_count": null,
   "metadata": {},
   "outputs": [],
   "source": []
  },
  {
   "cell_type": "code",
   "execution_count": null,
   "metadata": {},
   "outputs": [],
   "source": []
  },
  {
   "cell_type": "code",
   "execution_count": null,
   "metadata": {},
   "outputs": [],
   "source": []
  },
  {
   "cell_type": "code",
   "execution_count": null,
   "metadata": {},
   "outputs": [],
   "source": []
  },
  {
   "cell_type": "code",
   "execution_count": null,
   "metadata": {},
   "outputs": [],
   "source": []
  },
  {
   "cell_type": "markdown",
   "metadata": {},
   "source": [
    "#### Reshaping tidy data into plotting format (Input for the graphs!!) - Part 1\n",
    "- pivot the dataframe (unique for percentage functions!)"
   ]
  },
  {
   "cell_type": "code",
   "execution_count": 66,
   "metadata": {},
   "outputs": [],
   "source": [
    "total_correct_pct_pivot = tidy_to_pivot(total_correct_pct, [\"Ratio\",\"Type\"])\n",
    "total_incorrect_pct_pivot = tidy_to_pivot(total_incorrect_pct, [\"Ratio\",\"Type\"])\n",
    "total_omission_pct_pivot = tidy_to_pivot(total_omission_pct, [\"Ratio\",\"Type\"])"
   ]
  },
  {
   "cell_type": "code",
   "execution_count": null,
   "metadata": {},
   "outputs": [],
   "source": []
  },
  {
   "cell_type": "code",
   "execution_count": null,
   "metadata": {},
   "outputs": [],
   "source": []
  },
  {
   "cell_type": "code",
   "execution_count": null,
   "metadata": {},
   "outputs": [],
   "source": []
  },
  {
   "cell_type": "code",
   "execution_count": 67,
   "metadata": {},
   "outputs": [],
   "source": [
    "# total_correct_pct_plot.head(20)\n",
    "# total_incorrect_pct_plot.head(20)\n",
    "# total_omission_pct_plot.head()"
   ]
  },
  {
   "cell_type": "code",
   "execution_count": null,
   "metadata": {},
   "outputs": [],
   "source": []
  },
  {
   "cell_type": "code",
   "execution_count": 68,
   "metadata": {},
   "outputs": [
    {
     "data": {
      "text/html": [
       "<div>\n",
       "<style scoped>\n",
       "    .dataframe tbody tr th:only-of-type {\n",
       "        vertical-align: middle;\n",
       "    }\n",
       "\n",
       "    .dataframe tbody tr th {\n",
       "        vertical-align: top;\n",
       "    }\n",
       "\n",
       "    .dataframe thead tr th {\n",
       "        text-align: left;\n",
       "    }\n",
       "\n",
       "    .dataframe thead tr:last-of-type th {\n",
       "        text-align: right;\n",
       "    }\n",
       "</style>\n",
       "<table border=\"1\" class=\"dataframe\">\n",
       "  <thead>\n",
       "    <tr>\n",
       "      <th></th>\n",
       "      <th colspan=\"10\" halign=\"left\">Ratio</th>\n",
       "      <th colspan=\"10\" halign=\"left\">Type</th>\n",
       "    </tr>\n",
       "    <tr>\n",
       "      <th>Box_Number</th>\n",
       "      <th>1</th>\n",
       "      <th>10</th>\n",
       "      <th>2</th>\n",
       "      <th>3</th>\n",
       "      <th>4</th>\n",
       "      <th>5</th>\n",
       "      <th>6</th>\n",
       "      <th>7</th>\n",
       "      <th>8</th>\n",
       "      <th>9</th>\n",
       "      <th>1</th>\n",
       "      <th>10</th>\n",
       "      <th>2</th>\n",
       "      <th>3</th>\n",
       "      <th>4</th>\n",
       "      <th>5</th>\n",
       "      <th>6</th>\n",
       "      <th>7</th>\n",
       "      <th>8</th>\n",
       "      <th>9</th>\n",
       "    </tr>\n",
       "    <tr>\n",
       "      <th>date</th>\n",
       "      <th></th>\n",
       "      <th></th>\n",
       "      <th></th>\n",
       "      <th></th>\n",
       "      <th></th>\n",
       "      <th></th>\n",
       "      <th></th>\n",
       "      <th></th>\n",
       "      <th></th>\n",
       "      <th></th>\n",
       "      <th></th>\n",
       "      <th></th>\n",
       "      <th></th>\n",
       "      <th></th>\n",
       "      <th></th>\n",
       "      <th></th>\n",
       "      <th></th>\n",
       "      <th></th>\n",
       "      <th></th>\n",
       "      <th></th>\n",
       "    </tr>\n",
       "  </thead>\n",
       "  <tbody>\n",
       "    <tr>\n",
       "      <th>2019-09-23</th>\n",
       "      <td>0.269841</td>\n",
       "      <td>0.420382</td>\n",
       "      <td>0.409091</td>\n",
       "      <td>0.391304</td>\n",
       "      <td>0.45614</td>\n",
       "      <td>0.367816</td>\n",
       "      <td>0.39604</td>\n",
       "      <td>0.43</td>\n",
       "      <td>0.375</td>\n",
       "      <td>0.421875</td>\n",
       "      <td>Incorrect</td>\n",
       "      <td>Incorrect</td>\n",
       "      <td>Incorrect</td>\n",
       "      <td>Incorrect</td>\n",
       "      <td>Incorrect</td>\n",
       "      <td>Incorrect</td>\n",
       "      <td>Incorrect</td>\n",
       "      <td>Incorrect</td>\n",
       "      <td>Incorrect</td>\n",
       "      <td>Incorrect</td>\n",
       "    </tr>\n",
       "    <tr>\n",
       "      <th>2019-09-24</th>\n",
       "      <td>0.451613</td>\n",
       "      <td>0.577778</td>\n",
       "      <td>0.294118</td>\n",
       "      <td>0.268041</td>\n",
       "      <td>0.372093</td>\n",
       "      <td>0.372093</td>\n",
       "      <td>0.5</td>\n",
       "      <td>0.294118</td>\n",
       "      <td>0.333333</td>\n",
       "      <td>0.385965</td>\n",
       "      <td>Incorrect</td>\n",
       "      <td>Incorrect</td>\n",
       "      <td>Incorrect</td>\n",
       "      <td>Incorrect</td>\n",
       "      <td>Incorrect</td>\n",
       "      <td>Incorrect</td>\n",
       "      <td>Incorrect</td>\n",
       "      <td>Incorrect</td>\n",
       "      <td>Incorrect</td>\n",
       "      <td>Incorrect</td>\n",
       "    </tr>\n",
       "    <tr>\n",
       "      <th>2019-09-25</th>\n",
       "      <td>0.492958</td>\n",
       "      <td>0.628906</td>\n",
       "      <td>0.186813</td>\n",
       "      <td>0.182692</td>\n",
       "      <td>0.427184</td>\n",
       "      <td>0.102941</td>\n",
       "      <td>0.509434</td>\n",
       "      <td>0.507692</td>\n",
       "      <td>0.322581</td>\n",
       "      <td>0.346154</td>\n",
       "      <td>Incorrect</td>\n",
       "      <td>Incorrect</td>\n",
       "      <td>Incorrect</td>\n",
       "      <td>Incorrect</td>\n",
       "      <td>Incorrect</td>\n",
       "      <td>Incorrect</td>\n",
       "      <td>Incorrect</td>\n",
       "      <td>Incorrect</td>\n",
       "      <td>Incorrect</td>\n",
       "      <td>Incorrect</td>\n",
       "    </tr>\n",
       "    <tr>\n",
       "      <th>2019-09-26</th>\n",
       "      <td>0.154762</td>\n",
       "      <td>0.469136</td>\n",
       "      <td>0.2625</td>\n",
       "      <td>0.228571</td>\n",
       "      <td>0.291045</td>\n",
       "      <td>0.154839</td>\n",
       "      <td>0.415094</td>\n",
       "      <td>0.5</td>\n",
       "      <td>0.436782</td>\n",
       "      <td>0.466667</td>\n",
       "      <td>Incorrect</td>\n",
       "      <td>Incorrect</td>\n",
       "      <td>Incorrect</td>\n",
       "      <td>Incorrect</td>\n",
       "      <td>Incorrect</td>\n",
       "      <td>Incorrect</td>\n",
       "      <td>Incorrect</td>\n",
       "      <td>Incorrect</td>\n",
       "      <td>Incorrect</td>\n",
       "      <td>Incorrect</td>\n",
       "    </tr>\n",
       "    <tr>\n",
       "      <th>2019-09-27</th>\n",
       "      <td>0.266129</td>\n",
       "      <td>0.484581</td>\n",
       "      <td>0.422222</td>\n",
       "      <td>0.326923</td>\n",
       "      <td>0.339806</td>\n",
       "      <td>0.148649</td>\n",
       "      <td>0.606061</td>\n",
       "      <td>0.52</td>\n",
       "      <td>0.548077</td>\n",
       "      <td>0.339286</td>\n",
       "      <td>Incorrect</td>\n",
       "      <td>Incorrect</td>\n",
       "      <td>Incorrect</td>\n",
       "      <td>Incorrect</td>\n",
       "      <td>Incorrect</td>\n",
       "      <td>Incorrect</td>\n",
       "      <td>Incorrect</td>\n",
       "      <td>Incorrect</td>\n",
       "      <td>Incorrect</td>\n",
       "      <td>Incorrect</td>\n",
       "    </tr>\n",
       "  </tbody>\n",
       "</table>\n",
       "</div>"
      ],
      "text/plain": [
       "               Ratio                                                    \\\n",
       "Box_Number         1        10         2         3         4         5   \n",
       "date                                                                     \n",
       "2019-09-23  0.269841  0.420382  0.409091  0.391304   0.45614  0.367816   \n",
       "2019-09-24  0.451613  0.577778  0.294118  0.268041  0.372093  0.372093   \n",
       "2019-09-25  0.492958  0.628906  0.186813  0.182692  0.427184  0.102941   \n",
       "2019-09-26  0.154762  0.469136    0.2625  0.228571  0.291045  0.154839   \n",
       "2019-09-27  0.266129  0.484581  0.422222  0.326923  0.339806  0.148649   \n",
       "\n",
       "                                                         Type             \\\n",
       "Box_Number         6         7         8         9          1         10   \n",
       "date                                                                       \n",
       "2019-09-23   0.39604      0.43     0.375  0.421875  Incorrect  Incorrect   \n",
       "2019-09-24       0.5  0.294118  0.333333  0.385965  Incorrect  Incorrect   \n",
       "2019-09-25  0.509434  0.507692  0.322581  0.346154  Incorrect  Incorrect   \n",
       "2019-09-26  0.415094       0.5  0.436782  0.466667  Incorrect  Incorrect   \n",
       "2019-09-27  0.606061      0.52  0.548077  0.339286  Incorrect  Incorrect   \n",
       "\n",
       "                                                                              \\\n",
       "Box_Number          2          3          4          5          6          7   \n",
       "date                                                                           \n",
       "2019-09-23  Incorrect  Incorrect  Incorrect  Incorrect  Incorrect  Incorrect   \n",
       "2019-09-24  Incorrect  Incorrect  Incorrect  Incorrect  Incorrect  Incorrect   \n",
       "2019-09-25  Incorrect  Incorrect  Incorrect  Incorrect  Incorrect  Incorrect   \n",
       "2019-09-26  Incorrect  Incorrect  Incorrect  Incorrect  Incorrect  Incorrect   \n",
       "2019-09-27  Incorrect  Incorrect  Incorrect  Incorrect  Incorrect  Incorrect   \n",
       "\n",
       "                                  \n",
       "Box_Number          8          9  \n",
       "date                              \n",
       "2019-09-23  Incorrect  Incorrect  \n",
       "2019-09-24  Incorrect  Incorrect  \n",
       "2019-09-25  Incorrect  Incorrect  \n",
       "2019-09-26  Incorrect  Incorrect  \n",
       "2019-09-27  Incorrect  Incorrect  "
      ]
     },
     "execution_count": 68,
     "metadata": {},
     "output_type": "execute_result"
    }
   ],
   "source": [
    "total_incorrect_pct_pivot.head()"
   ]
  },
  {
   "cell_type": "code",
   "execution_count": 69,
   "metadata": {},
   "outputs": [],
   "source": [
    "# calculate_avg_sem(total_incorrect_pct_pivot['Ratio']).head()\n"
   ]
  },
  {
   "cell_type": "code",
   "execution_count": 70,
   "metadata": {},
   "outputs": [],
   "source": [
    "# import numpy as np\n",
    "# import scipy.stats as ss\n",
    "\n",
    "# ss.sem([0.313433,0.4,0.428571,0.45,0.368421])"
   ]
  },
  {
   "cell_type": "code",
   "execution_count": null,
   "metadata": {},
   "outputs": [],
   "source": []
  },
  {
   "cell_type": "markdown",
   "metadata": {},
   "source": [
    "### Code Dictionary!! Very Important!! "
   ]
  },
  {
   "cell_type": "code",
   "execution_count": 71,
   "metadata": {},
   "outputs": [
    {
     "data": {
      "text/plain": [
       "18"
      ]
     },
     "execution_count": 71,
     "metadata": {},
     "output_type": "execute_result"
    }
   ],
   "source": [
    "code_dict = {\"delay_window\":\"Pokes during the Delay Window\", \"iti_window\": \"Pokes during the ITI Window\", \"paradigm_total\": \"Total Nosepokes\", \n",
    "             \"trial_window\":\"Incorrect pokes before Trial Initiation\", \"incorrect\": \"Total Number of Invalid Trials\", \"initiated\" : \"Total Number of Initiated Trials\", \"omission\":\"Total Number of Omission Trials\",  \n",
    "              \"reward\": \"Total Number of Rewards\", \"reward_tir\": \"Total Number of Rewards (TIR)\", \"delay_window_23hr\":\"Pokes during the Delay Window (23 hours)\", \"iti_window_23hr\": \"Pokes during the ITI Window (23 hours)\", \"paradigm_total_23hr\": \"Total Nosepokes (23 hours)\", \n",
    "             \"trial_window_23hr\":\"Incorrect pokes before Trial Initiation (23 hours)\", \"incorrect_23hr\": \"Total Number of Invalid Trials (23 hours)\", \"initiated_23hr\" : \"Total Number of Initiated Trials (23 hours)\", \"omission_23hr\":\"Total Number of Omission Trials (23 hours)\",  \n",
    "              \"reward_23hr\": \"Total Number of Rewards (23 hours)\", \"reward_tir_23hr\": \"Total Number of Rewards (TIR) (23 hours)\",  }\n",
    "\n",
    "len(code_dict)"
   ]
  },
  {
   "cell_type": "markdown",
   "metadata": {},
   "source": [
    "#### Get the title for the graph from file name"
   ]
  },
  {
   "cell_type": "code",
   "execution_count": 72,
   "metadata": {},
   "outputs": [],
   "source": [
    "def get_graph_title(file):\n",
    "\n",
    "    title_list = file.split(\".\")[0].split(\"_\")[1:]    # truncate the last part (by splitting with '.' and then split it by underscore)\n",
    "                                                      # (dropping the first and last word from title)\n",
    "    title_key = '_'.join(title_list)  # Make the string from the list\n",
    "\n",
    "    title = code_dict[title_key]\n",
    "    \n",
    "    return title\n",
    "    "
   ]
  },
  {
   "cell_type": "code",
   "execution_count": 73,
   "metadata": {},
   "outputs": [],
   "source": [
    "# a_ = get_graph_title(filepath)\n",
    "# a_\n",
    "\n",
    "base_name = total.split(\".\")[0]\n",
    "# re.findall(r'23hr', base_name)[-1]\n",
    "           \n",
    "\n"
   ]
  },
  {
   "cell_type": "code",
   "execution_count": null,
   "metadata": {},
   "outputs": [],
   "source": []
  },
  {
   "cell_type": "code",
   "execution_count": 74,
   "metadata": {},
   "outputs": [
    {
     "data": {
      "text/plain": [
       "False"
      ]
     },
     "execution_count": 74,
     "metadata": {},
     "output_type": "execute_result"
    }
   ],
   "source": [
    "# # Substring Matching\n",
    "'23hr' in base_name"
   ]
  },
  {
   "cell_type": "markdown",
   "metadata": {},
   "source": [
    "### Plotting Function\n",
    "\n",
    "**Arguments:**  \n",
    "1. plot_df: dataframe to plot  \n",
    "2. paradigms: list or tuple (dates of new paradigm starts)  \n",
    "3. save_fig: boolean (save graph or show graph   \n"
   ]
  },
  {
   "cell_type": "code",
   "execution_count": null,
   "metadata": {},
   "outputs": [],
   "source": []
  },
  {
   "cell_type": "code",
   "execution_count": 75,
   "metadata": {},
   "outputs": [],
   "source": [
    "def plot_metrics(plot_df, percentage=False, paradigms=None, save_fig=False):\n",
    "\n",
    "    if percentage:\n",
    "        if '23hr' in total.split(\".\")[0]:  \n",
    "            title = plot_df['Type']['1'].unique()[0] + \" Percentage (23 hours)\"\n",
    "        else: \n",
    "            title = plot_df['Type']['1'].unique()[0] + \" Percentage (Dark)\"\n",
    "            \n",
    "        plot_df = plot_df.drop(['Type'], axis=1)  # Drop the \"Type\" columns\n",
    "        plot_df = calculate_avg_sem(plot_df['Ratio'])  # Calculate the averages and the sem on the new dataframe! \n",
    "        y_axis = \"Percentage\"\n",
    "            \n",
    "            \n",
    "        \n",
    "        \n",
    "    else:\n",
    "        title = get_graph_title(file)\n",
    "        y_axis = \"Counts\"\n",
    "    \n",
    "    # # Start Plotting\n",
    "    fig, ax = plt.subplots(figsize=(12,9))\n",
    "\n",
    "    # range(1,5)\n",
    "    for i in range(1,6):\n",
    "        box_number = str(i)   # \n",
    "        ax.plot(plot_df[box_number], c='red', alpha = 0.15)\n",
    "\n",
    "    for j in range(6,11):\n",
    "        box_number = str(j)\n",
    "        ax.plot(plot_df[box_number], c='blue', alpha = 0.15)\n",
    "\n",
    "    ax.errorbar(x=plot_df.index, y=plot_df[\"Adult Avg\"], yerr=plot_df['Adult Sem'], c='red', alpha=0.9)\n",
    "    ax.errorbar(x=plot_df.index, y=plot_df[\"Adol Avg\"], yerr=plot_df['Adol Sem'], c='blue', alpha=0.9)\n",
    "\n",
    "\n",
    "    ax.legend(['755', '756', '757', '758', '762', '792', '793', '794', '797', '798', \"Adult Avg\", \"Adol Avg\"], loc='upper center', bbox_to_anchor=(1.1, 1.02))\n",
    "\n",
    "    ax.set_title(title, fontdict={\"fontsize\":16})\n",
    "    # ax.set_xlabel(\"Days\")\n",
    "    \n",
    "    ax.set_ylabel(y_axis, fontdict={\"fontsize\":14})\n",
    "\n",
    "    plt.xticks(plot_df.index, plot_df.index)  # (location, labels)\n",
    "\n",
    "    myFmt = DateFormatter(\"%m-%d\")                  # set the date format (ex: 10/17)\n",
    "    ax.xaxis.set_major_formatter(myFmt)         \n",
    "    fig.autofmt_xdate(rotation=70, ha='center')\n",
    "\n",
    "    \n",
    "    # # Creating Paradigm Cutoff Dates\n",
    "\n",
    "    if paradigms is not None:\n",
    "        if not isinstance(paradigms, (list,tuple)):\n",
    "            raise TypeError(\"Only lists or tuples are accepted as 'paradigms' parameter\")\n",
    "        \n",
    "        \n",
    "        elif not all(isinstance(elem, str) for elem in paradigms):   # If all the elements of list, array are string\n",
    "            raise ValueError(\"All dates in 'paradigms' must be in strings in datetime format (YYYY-MM-DD)\")\n",
    "        \n",
    "        else:   # should check for datetime formats too?? --> looks like pandas does it for me\n",
    "            paradigm_position = []\n",
    "            for i in paradigms:\n",
    "                dt = pd.to_datetime(i)\n",
    "                paradigm_position.append(dt)\n",
    "                \n",
    "            # # plot dates of paradigms (vertical lines)\n",
    "            for p in paradigm_position:\n",
    "                ax.axvline(x=p, color='k', linestyle='--', dashes=(3, 5), linewidth=2, alpha=0.5)\n",
    "\n",
    "\n",
    "    if save_fig:\n",
    "        plt.tight_layout()\n",
    "        plt.savefig(title) # filename\n",
    "    else: \n",
    "        plt.show()\n",
    "\n"
   ]
  },
  {
   "cell_type": "code",
   "execution_count": 76,
   "metadata": {},
   "outputs": [],
   "source": [
    "dates_total = ['2019-09-18','2019-09-19','2019-09-22','2019-10-6','2019-10-9','2019-10-17','2019-10-22','2019-10-22','2019-10-25','2019-10-28','2019-11-07','2019-11-10','2019-11-11']\n",
    "dates_tir = ['2019-10-6','2019-10-9','2019-10-17','2019-10-22','2019-10-22','2019-10-25','2019-10-28','2019-11-07','2019-11-10','2019-11-11']\n",
    "dates_tir2 = ['2019-10-9','2019-10-17','2019-10-22','2019-10-22','2019-10-25','2019-10-28','2019-11-07','2019-11-10','2019-11-11']\n",
    "dates_tir3 = ['2019-10-17','2019-10-22','2019-10-22','2019-10-25','2019-10-28','2019-11-07','2019-11-10','2019-11-11']"
   ]
  },
  {
   "cell_type": "code",
   "execution_count": null,
   "metadata": {},
   "outputs": [],
   "source": []
  },
  {
   "cell_type": "code",
   "execution_count": 77,
   "metadata": {},
   "outputs": [],
   "source": [
    "# total_correct_pct_plot"
   ]
  },
  {
   "cell_type": "code",
   "execution_count": 80,
   "metadata": {},
   "outputs": [
    {
     "data": {
      "image/png": "[encoded data removed]",
      "text/plain": [
       "<Figure size 864x648 with 1 Axes>"
      ]
     },
     "metadata": {
      "needs_background": "light"
     },
     "output_type": "display_data"
    }
   ],
   "source": [
    "plot_metrics(total_incorrect_pct_pivot, percentage=True, paradigms=dates_tir, save_fig=True)\n"
   ]
  },
  {
   "cell_type": "code",
   "execution_count": null,
   "metadata": {},
   "outputs": [],
   "source": []
  },
  {
   "cell_type": "code",
   "execution_count": null,
   "metadata": {},
   "outputs": [],
   "source": []
  },
  {
   "cell_type": "code",
   "execution_count": null,
   "metadata": {},
   "outputs": [],
   "source": []
  },
  {
   "cell_type": "code",
   "execution_count": null,
   "metadata": {},
   "outputs": [],
   "source": []
  },
  {
   "cell_type": "code",
   "execution_count": null,
   "metadata": {},
   "outputs": [],
   "source": []
  },
  {
   "cell_type": "markdown",
   "metadata": {},
   "source": [
    "[Matplotlib Linestyles - Docs](https://matplotlib.org/3.1.0/gallery/lines_bars_and_markers/linestyles.html) (Dashed Lines etc.)  \n",
    "\n",
    "[Plotting Multiple Vertical Lines (for datetime)](https://stackoverflow.com/questions/19213789/how-do-you-plot-a-vertical-line-on-a-time-series-plot-in-pandas/35902487)"
   ]
  },
  {
   "cell_type": "markdown",
   "metadata": {},
   "source": [
    "### Formatters and Converters Issue (Matplotlib vs. Pandas)\n",
    "- unrelated to plotting since it's a warning that goes away after one iteration, BUT, leaving it here as documentation in case it's raised again and I need to troubleshoot it. \n",
    "\n",
    "[Explanation of the Warning](https://github.com/facebook/prophet/issues/999)  \n",
    "\n",
    "[Another Explanation of Pandas - Matplotlib Converters](https://nextjournal.com/blog/plotting-pandas-prophet)\n",
    "\n",
    "[Matplotlib Converters Documentation](https://pandas.pydata.org/pandas-docs/stable/reference/api/pandas.plotting.register_matplotlib_converters.html)\n",
    "\n",
    "\n",
    "In conclusion, just follow the warning sign and add/change as necessary! \n",
    "\n",
    "____"
   ]
  },
  {
   "cell_type": "markdown",
   "metadata": {},
   "source": [
    "### Date Formatter!! \n",
    "\n",
    "[How to format dates x-axis ticks - StackOverflow](https://stackoverflow.com/questions/14946371/editing-the-date-formatting-of-x-axis-tick-labels-in-matplotlib) (Using DateFormatter)  \n",
    "\n",
    "[Example of plt.xticks(location, labels, rotation)](https://stackoverflow.com/questions/32572419/matplotlib-not-showing-all-x-axis-data-frame-variable) (As used above in the graph)\n"
   ]
  },
  {
   "cell_type": "markdown",
   "metadata": {},
   "source": [
    "____\n",
    "### Other IMPT References\n",
    "\n",
    "#### Different Error Types - Important!! \n",
    "1. [ValueError vs. TypeError](https://stackoverflow.com/questions/48343387/valueerror-and-typeerror-in-python)\n",
    "\n",
    "\n",
    "#### Type() vs isinstance()! Also Important!! \n",
    "1. [type() vs. isinstance()](https://stackoverflow.com/questions/1549801/what-are-the-differences-between-type-and-isinstance)\n",
    "\n",
    "#### Checking if all items in a list are string types\n",
    "1. [How to check if all items in list are strings](https://stackoverflow.com/questions/37357798/how-to-check-if-all-items-in-list-are-string)\n",
    "\n",
    "2. [Check if objects is a list of strings - using basestring](https://stackoverflow.com/questions/18495098/python-check-if-an-object-is-a-list-of-strings)*\n",
    "\n",
    "*Oops Nevermind! Basestring removed from Python 3*:\n",
    "[Python Docs](https://docs.python.org/3.0/whatsnew/3.0.html#text-vs-data-instead-of-unicode-vs-8-bit)\n"
   ]
  },
  {
   "cell_type": "code",
   "execution_count": null,
   "metadata": {},
   "outputs": [],
   "source": []
  },
  {
   "cell_type": "code",
   "execution_count": null,
   "metadata": {},
   "outputs": [],
   "source": []
  }
 ],
 "metadata": {
  "kernelspec": {
   "display_name": "Python 3",
   "language": "python",
   "name": "python3"
  },
  "language_info": {
   "codemirror_mode": {
    "name": "ipython",
    "version": 3
   },
   "file_extension": ".py",
   "mimetype": "text/x-python",
   "name": "python",
   "nbconvert_exporter": "python",
   "pygments_lexer": "ipython3",
   "version": "3.6.8"
  }
 },
 "nbformat": 4,
 "nbformat_minor": 2
}
