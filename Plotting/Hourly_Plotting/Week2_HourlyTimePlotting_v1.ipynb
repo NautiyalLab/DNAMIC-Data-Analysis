{
 "cells": [
  {
   "cell_type": "markdown",
   "metadata": {},
   "source": [
    "\n",
    "# Arduino Week 2 Time Series Plotting Jupyter Notebook\n",
    "\n",
    "Author: Jun Ho Lee  \n",
    "Last Update: 09/26/2019\n",
    "\n",
    "**This code resamples the raw data into hourly (customizable) frequencies for week 2 paradigms (Trial Initiated Reward - TIR)**\n",
    "\n",
    "- These paradigms are the ones with double '::' as a delimiter\n",
    "- DOES contain counter values\n"
   ]
  },
  {
   "cell_type": "markdown",
   "metadata": {},
   "source": [
    "____\n",
    "<a id='Goals'></a>\n",
    "\n",
    "### Objective: Plot metrics binned by hour\n",
    "- Look at the data binned by specific frequencies (hour / 4hours / day etc.) \n",
    "- Originally needed for looking at # of pokes during the light cycle (to see how much mice poke during the light cycle) \n",
    "- Extended functionality (generalized) so that I can look at custom-resampled frequencies\n",
    "\n",
    "**References: Error Handling Docs**\n",
    "1. [Built-in Exceptions](https://docs.python.org/3/library/exceptions.html)\n",
    "2. [Errors and Exceptions](https://docs.python.org/3/tutorial/errors.html)\n",
    "3. [Manually Raising an Error in Python](https://stackoverflow.com/questions/2052390/manually-raising-throwing-an-exception-in-python)\n",
    "4. [Hierarchical Indexing Documentation](https://pandas.pydata.org/pandas-docs/stable/user_guide/advanced.html)\n",
    "\n",
    "\n",
    "### Important Note:\n",
    "\n",
    "> Do **NOT** save or modify the original csv file!!! \n",
    "Modifying the csv file will lead to truncation of leading zeros in the file, which will mess up the analysis! \n"
   ]
  },
  {
   "cell_type": "markdown",
   "metadata": {},
   "source": [
    "<a id='Table of Contents'></a>\n",
    "___\n",
    "* * * * * * * * * \n",
    "\n",
    "0. <a href='#Goals'>Objectives</a>\n",
    "\n",
    "## Table of Contents\n",
    "\n",
    "\n",
    "1. <a href='#Function List'>List of Functions</a>\n",
    "\n",
    "2. <a href='#data wrangling'>Initial Data Wrangling</a>\n",
    "\n",
    "3. <a href='#metric output'>Metric Output</a>\n",
    "\n",
    "3. <a href='#metric checkpoint'>Save Metric Output to CSV (Checkpoint)</a>\n",
    "\n",
    "\n",
    "\n",
    "**Appendix:**  \n",
    "1. <a href='#Event Code'>Event Codes</a> (Run this First!!)"
   ]
  },
  {
   "cell_type": "markdown",
   "metadata": {},
   "source": [
    "<a id='Function List'></a>\n",
    "___\n",
    "    \n",
    "### 1. List of Functions\n",
    "\n",
    "*A. <a href='#data extraction'>Data Extraction and Parsing</a>*\n",
    "1. <a href='#return_header_dict'>return-multi-header-dict</a>\n",
    "2. <a href='#return_body_df'>return-multi-body-df</a>\n",
    "3. <a href='#get_start_end_time'>get-start-end-time</a>\n",
    "4. <a href='#return_multi_dt'>return-multi-dt-df</a> \n",
    "5. <a href='#fill_counter_datetime_col'>fill-counter-datetime-col</a> \n",
    "6. <a href='#return_multi_parsed_dt'>return-multi-parsed-dt-df</a> **- NOT USED**\n",
    "7. <a href='#final wrapper function'>final-m-header-and-parsed-dt-df</a> **- NOT USED**\n",
    "\n",
    "\n",
    "*B. <a href='#metric calculation'>Metric Calculations</a>* **- NOT USED - DELETED**\n",
    "1. <a href='#counts_during_window'>counts-during-window</a> **- NOT USED - DELETED**\n",
    "2. <a href='#count_events'>count-events</a> **- NOT USED - DELETED**\n",
    "\n",
    "\n",
    "*C. <a href='#time_series'>Time-Series Plotting</a>*\n",
    "\n",
    "1. <a href='#hourly_resampled'>hourly-resampled-df</a>\n"
   ]
  },
  {
   "cell_type": "markdown",
   "metadata": {},
   "source": [
    "### *For Function Testing Purposes*\n",
    "- to determine which function throws an error before running the wrapper function\n",
    "\n",
    "###### Import Basic Libraries\n"
   ]
  },
  {
   "cell_type": "code",
   "execution_count": 1,
   "metadata": {},
   "outputs": [],
   "source": [
    "import numpy as np\n",
    "import pandas as pd\n",
    "from natsort import natsorted, ns\n",
    "from datetime import datetime\n",
    "# import matplotlib.pyplot as plt\n",
    "# import seaborn as sns\n",
    "\n",
    "file = \"../0923 TIR.csv\" \n",
    "test_multi_df = pd.read_csv(file, header=[0,1], index_col=[0])\n"
   ]
  },
  {
   "cell_type": "markdown",
   "metadata": {},
   "source": [
    "<a id='data extraction'></a>\n",
    "___\n",
    "#### A. Data Extraction and Parsing\n"
   ]
  },
  {
   "cell_type": "markdown",
   "metadata": {},
   "source": [
    "<a id='return_header_dict'></a>\n",
    "\n",
    "**1: return_multi_header_dict (multi_df)**\n",
    "\n",
    "- :**multi_df:** multilevel dataframe that we created from \"import_files.py\"\n",
    "- **:return:** `m_head_dict`: nested dictionary of headers $\\rightarrow$ {box number(keys): {header info(values)}}"
   ]
  },
  {
   "cell_type": "code",
   "execution_count": 2,
   "metadata": {},
   "outputs": [],
   "source": [
    "# # Will only need the initial \"MultiLevel Dataframe\" to run subsequent codes!!\n",
    "def return_multi_header_dict(multi_df):\n",
    "    \n",
    "    m_head_dict = {}\n",
    "    box_numbers = multi_df.columns.levels[0]  # Returns a \"Frozen List\" \n",
    "    sorted_box_nums = natsorted(box_numbers) # outputs a list of sorted box numbers\n",
    "\n",
    "    for i in range(len(sorted_box_nums)):\n",
    "        box_num = sorted_box_nums[i]\n",
    "        ind_df = multi_df.loc[:, box_num]  # individual dataframe (box is type 'string')\n",
    "\n",
    "        ind_df = ind_df.dropna(how='all')\n",
    "\n",
    "        start_code_idx = ind_df.index[ind_df.event_code == '0113'].tolist()[0]  # the list will only contain ONE element\n",
    "        end_date_info = ind_df[-2:]  # last two rows will always be end date info\n",
    "\n",
    "        head = ind_df[:start_code_idx]\n",
    "\n",
    "        ind_head = pd.concat([head, end_date_info], axis=0)   # header dictionary requires end date/time info so need to concatenate the top and bottom dfs\n",
    "        ind_head['timestamp'] = ind_head['timestamp'].str.strip()\n",
    "\n",
    "        # # {first column: second column}\n",
    "        ind_header_dict = {row[0]: row[1] for row in ind_head.values}  # .values --> transforms into numpy array\n",
    "\n",
    "        m_head_dict[box_num] = ind_header_dict\n",
    "\n",
    "    return m_head_dict\n"
   ]
  },
  {
   "cell_type": "code",
   "execution_count": 3,
   "metadata": {},
   "outputs": [],
   "source": [
    "test_m_head_dict = return_multi_header_dict(test_multi_df)"
   ]
  },
  {
   "cell_type": "markdown",
   "metadata": {},
   "source": [
    "<a href='#Function List'>Back to List of Functions</a>"
   ]
  },
  {
   "cell_type": "markdown",
   "metadata": {},
   "source": [
    "<a id='return_body_df'></a>\n",
    "\n",
    "**2: return_multi_body_df (multi_df):**\n",
    "\n",
    "- **:multi_df:** multilevel dataframe that we created from \"import_files.py\"\n",
    "- **:returns:** `m_body_df`: multilevel dataframe of the BODY portion of data  \n",
    "\n",
    "*BODY*: FROM the first IR initialization (9070) TO the second to last row of the original dataframe (excluding end date/time)"
   ]
  },
  {
   "cell_type": "code",
   "execution_count": 6,
   "metadata": {},
   "outputs": [],
   "source": [
    "# Will only need the initial \"MultiLevel Dataframe\" to run subsequent codes!!\n",
    "\n",
    "def return_multi_body_df(multi_df, columns):\n",
    "\n",
    "    result = []; box_arr = []\n",
    "    box_numbers = multi_df.columns.levels[0]\n",
    "    sorted_box_nums = natsorted(box_numbers) # outputs a list of sorted box numbers\n",
    "    \n",
    "    for i in range(len(sorted_box_nums)):  # for all the boxes, (outermost index is box number)\n",
    "        box_num = sorted_box_nums[i]\n",
    "        ind_df = multi_df.loc[:, box_num]  # individual dataframe\n",
    "\n",
    "        ind_df = ind_df.dropna(how='all')\n",
    "#         ind_df['event_code'] = ind_df['event_code'].astype('str')  # Changed\n",
    "\n",
    "        # Extracting ACTUAL BODY\n",
    "        header_end_idx = ind_df.loc[ind_df[ind_df.columns[0]] == '9070'].index[0]\n",
    "        body_start_idx = header_end_idx + 1\n",
    "\n",
    "        body = ind_df[body_start_idx:-2].reset_index(drop=True)\n",
    "        body['timestamp'] = pd.to_numeric(body['timestamp'])\n",
    "        body['event_string'] = body['event_code'].map(event_code_dict)\n",
    "\n",
    "        body = body[columns]  # 4 columns\n",
    "\n",
    "        box_arr.append(box_num)\n",
    "        result.append(body)\n",
    "\n",
    "    m_body_df = pd.concat(result, axis=1, keys=box_arr, names=['Box Number', 'Columns'])\n",
    "\n",
    "    return m_body_df\n"
   ]
  },
  {
   "cell_type": "markdown",
   "metadata": {},
   "source": [
    "<a href='#Event Code'>Event Codes</a> (Run this First!!)"
   ]
  },
  {
   "cell_type": "code",
   "execution_count": 7,
   "metadata": {},
   "outputs": [],
   "source": [
    "\n",
    "# Use this for paradigms that have counter values\n",
    "columns = ['event_string', 'event_code', 'timestamp', 'counter']\n",
    "\n",
    "test_m_body_df = return_multi_body_df(test_multi_df, columns)"
   ]
  },
  {
   "cell_type": "markdown",
   "metadata": {},
   "source": [
    "<a href='#Function List'>Back to List of Functions</a>"
   ]
  },
  {
   "cell_type": "markdown",
   "metadata": {},
   "source": [
    "<a id='get_start_end_time'></a>\n",
    "\n",
    "**3. get_start_end_time (m_head_dict):**\n",
    "\n",
    "- **:m_head_dict:** nested dictionary of headers for all boxes\n",
    "- **:returns:** `start_end_time_dict`: dictionary of datetime tuples {box_num: (start_time, end_time)}\n"
   ]
  },
  {
   "cell_type": "code",
   "execution_count": 8,
   "metadata": {},
   "outputs": [],
   "source": [
    "def get_start_end_time(m_head_dict):\n",
    "\n",
    "    start_end_time_dict = {}\n",
    "\n",
    "    box_numbers = list(m_head_dict)   # keys of the header dictionary --> box numbers\n",
    "    for i in range(len(box_numbers)):\n",
    "        box_num = box_numbers[i]\n",
    "        \n",
    "        # Start Datetime\n",
    "        start_datetime = m_head_dict[box_num]['Start Date'] + \" \" + m_head_dict[box_num]['Start Time']\n",
    "        start_datetime = start_datetime.replace(\"-\",\":\")\n",
    "\n",
    "        # End Datetime\n",
    "        end_datetime = m_head_dict[box_num]['End Date']  + \" \" + m_head_dict[box_num]['End Time']\n",
    "        end_datetime = end_datetime.replace(\"-\",\":\")\n",
    "\n",
    "        start_time = datetime.strptime(start_datetime, '%m/%d/%Y %H:%M:%S')\n",
    "        end_time = datetime.strptime(end_datetime, '%m/%d/%Y %H:%M:%S')\n",
    "\n",
    "        start_end_time_dict[box_num] = (start_time, end_time)  # saves it as a tuple of datetimes\n",
    "        # print(start_time, end_time)\n",
    "\n",
    "    return start_end_time_dict\n",
    "    "
   ]
  },
  {
   "cell_type": "code",
   "execution_count": 9,
   "metadata": {},
   "outputs": [],
   "source": [
    "test_start_end_time_dict = get_start_end_time(test_m_head_dict)"
   ]
  },
  {
   "cell_type": "markdown",
   "metadata": {},
   "source": [
    "<a href='#Function List'>Back to List of Functions</a>"
   ]
  },
  {
   "cell_type": "markdown",
   "metadata": {},
   "source": [
    "<a id='return_multi_dt'></a>\n",
    "\n",
    "**4. return_multi_dt_df (m_head_dict, m_body_df, start_end_time_dict):**\n",
    "- **:m_head_dict:** dictionary for all boxes\n",
    "- **:m_body_df:** multilevel dataframe of the BODY\n",
    "- **:start_end_time_dict:** nested dictionary of start/end time tuples\n",
    "- **:returns:** `m_dt_df`: multilevel datetime dataframe\n"
   ]
  },
  {
   "cell_type": "code",
   "execution_count": 10,
   "metadata": {},
   "outputs": [],
   "source": [
    "\n",
    "def return_multi_dt_df(m_head_dict, m_body_df, start_end_time_dict):\n",
    "\n",
    "    result = []; box_arr = list(m_body_df.columns.levels[0])\n",
    "    midx_shape = m_body_df.columns.levshape   # (returns a tuple)\n",
    "    \n",
    "    # # # Exception Handling \n",
    "    if (len(m_head_dict) != midx_shape[0]):   # This indicates the number of boxes\n",
    "        raise ValueError('Number of boxes in dictionary and dataframe does not match')\n",
    "\n",
    "    for i in range(len(box_arr)):  # for all the boxes in box_array\n",
    "        box_num = box_arr[i]    \n",
    "        ind_df = m_body_df.loc[:, box_num]  # individual dataframe / box_num --> class 'string'\n",
    "    \n",
    "        ind_df = ind_df.dropna(how='all')\n",
    "        \n",
    "        start_time = start_end_time_dict[box_num][0]\n",
    "        end_time = start_end_time_dict[box_num][1]\n",
    "        \n",
    "        # # Broadcast new columns \n",
    "        ind_df['datetime_realtime'] = start_time + pd.to_timedelta(pd.to_numeric(ind_df['timestamp']), unit='ms')\n",
    "        ind_df['day'] = ind_df['datetime_realtime'].dt.day\n",
    "        ind_df['hour'] = ind_df['datetime_realtime'].dt.hour  # using the .dt accessor to access datetime object\n",
    "    \n",
    "        # box_arr.append(box_num)\n",
    "        result.append(ind_df)\n",
    "    \n",
    "    m_dt_df = pd.concat(result, axis=1, keys=box_arr, names=['Box Number', 'Columns'])\n",
    "    \n",
    "    return m_dt_df\n",
    "    "
   ]
  },
  {
   "cell_type": "code",
   "execution_count": 11,
   "metadata": {},
   "outputs": [],
   "source": [
    "test_m_dt_df = return_multi_dt_df(test_m_head_dict, test_m_body_df, test_start_end_time_dict)\n",
    "# test_m_dt_df"
   ]
  },
  {
   "cell_type": "markdown",
   "metadata": {},
   "source": [
    "<a href='#Function List'>Back to List of Functions</a>"
   ]
  },
  {
   "cell_type": "markdown",
   "metadata": {},
   "source": [
    "<a id='fill_counter_datetime_col'></a>\n",
    "\n",
    "**5. fill_counter_datetime_col (m_dt_df):**\n",
    "- **:m_dt_df:** multilevel datetime dataframe\n",
    "- **:returns:** `m_dt_df_impute`: multilevel dataframe after datetime imputation (backfilled + ffilled) \n",
    "\n",
    "\n",
    "#### This is a necessary imputation step since counter values don't have timestamps! (and indexing will be impossible without valid timestamps) \n",
    "- Will use ffill if last row in the parsed dataframe is a counter value \n",
    "- Will use bfill if first row in the parsed dataframe is a counter value\n",
    "\n",
    "(without this step, tried to parse the dataframe according to the indices, but that ran into problems as well... -> thought it would be easier to just bfill / ffill the missing datetime values for the counters) \n"
   ]
  },
  {
   "cell_type": "code",
   "execution_count": 12,
   "metadata": {},
   "outputs": [],
   "source": [
    "\n",
    "def fill_counter_datetime_col(m_dt_df):\n",
    "    \n",
    "    result = []; box_arr = list(m_dt_df.columns.levels[0])\n",
    "#     midx_shape = m_dt_df.columns.levshape   # (returns a tuple)\n",
    "    \n",
    "    for i in range(len(box_arr)):  # for all the boxes in box_array\n",
    "        box_num = box_arr[i]    \n",
    "        ind_df = m_dt_df.loc[:, box_num]  # individual dataframe / box_num --> class 'string'\n",
    "    \n",
    "        ind_df = ind_df.dropna(how='all')\n",
    "        \n",
    "        first_row_timestamp = ind_df.iloc[0]['timestamp']  \n",
    "        last_row_timestamp = ind_df.iloc[-1]['timestamp'] \n",
    "        \n",
    "        ind_df_impute = ind_df.copy()\n",
    "\n",
    "        # # Two if statements to ensure columns get filled in every case \n",
    "        # # Even if BOTH first row and last row are NaN values\n",
    "        \n",
    "        if pd.isnull(first_row_timestamp):\n",
    "            ind_df_impute['datetime_filled'] = ind_df_impute.datetime_realtime.fillna(method='bfill')\n",
    "\n",
    "        # # Column updating! \n",
    "        if pd.isnull(last_row_timestamp): \n",
    "            ind_df_impute['datetime_filled'] = ind_df_impute['datetime_filled'].fillna(method='ffill')\n",
    "            \n",
    "        # # If none of the first/last rows are none, just use bfill method\n",
    "        else:\n",
    "            ind_df_impute['datetime_filled'] = ind_df_impute.datetime_realtime.fillna(method='bfill')\n",
    "\n",
    "        result.append(ind_df_impute)\n",
    "    \n",
    "    # box_arr from above (before the for loop)\n",
    "    m_dt_df_imputed = pd.concat(result, axis=1, keys=box_arr, names=['Box Number', 'Columns'])\n",
    "            \n",
    "    return m_dt_df_imputed\n",
    "    "
   ]
  },
  {
   "cell_type": "code",
   "execution_count": 13,
   "metadata": {},
   "outputs": [],
   "source": [
    "test_m_dt_df_imputed = fill_counter_datetime_col(test_m_dt_df)\n",
    "# test_m_dt_df_imputed"
   ]
  },
  {
   "cell_type": "markdown",
   "metadata": {},
   "source": [
    "<a href='#Function List'>Back to List of Functions</a>"
   ]
  },
  {
   "cell_type": "markdown",
   "metadata": {},
   "source": [
    "<a id='return_multi_parsed_dt'></a>\n",
    "\n",
    "### **NOTE:** FUNCTION NOT USED\n",
    "**6. return_multi_parsed_dt_df (m_head_dict, m_dt_df_imputed, start_parsetime, end_parsetime):**\n",
    "- **:m_head_dict:** dictionary for all boxes\n",
    "- **:m_dt_df_imputed:** multilevel datetime dataframe after imputation\n",
    "- **:start_parsetime:** start of parsetime\n",
    "- **:end_parsetime:** end of parsetime\n",
    "- **:returns:** `m_parsed_dt_df`: multilevel parsed datetime dataframe (parsed by start/end times)\n"
   ]
  },
  {
   "cell_type": "code",
   "execution_count": 14,
   "metadata": {},
   "outputs": [],
   "source": [
    "def return_multi_parsed_dt_df(m_head_dict, m_dt_df_imputed, start_parsetime, end_parsetime):\n",
    "    \n",
    "    # # Parse Time Criteria for all files (boxes)\n",
    "    start_dt = datetime.strptime(start_parsetime, '%Y/%m/%d %H:%M')\n",
    "    end_dt = datetime.strptime(end_parsetime, '%Y/%m/%d %H:%M')\n",
    "    \n",
    "    # # Boilerplate for Multilevel Dataframe\n",
    "    result = []; box_arr = list(m_dt_df_imputed.columns.levels[0])\n",
    "\n",
    "    for i in range(len(box_arr)):  \n",
    "        box_num = box_arr[i]\n",
    "        ind_df = m_dt_df_imputed.loc[:, box_num]  # individual dataframe\n",
    "        # No need for conversion to str(box_num) since box_num is already string \n",
    "\n",
    "        ind_df = ind_df.dropna(how='all')\n",
    "        \n",
    "        # 1. Parse by time\n",
    "        # # : Problem --> counter values don't have timestamps, thus need to index the dataframe\n",
    "        # # : Problem solved by imputing datetimes\n",
    "        p_body = ind_df[(ind_df['datetime_filled'] >= start_dt) & (ind_df['datetime_filled'] <= end_dt)]\n",
    "        \n",
    "        result.append(p_body)\n",
    "        \n",
    "    m_parsed_dt_df = pd.concat(result, axis=1, keys=box_arr, names=['Box Number', 'Columns'])\n",
    "        \n",
    "    return m_parsed_dt_df\n",
    "\n"
   ]
  },
  {
   "cell_type": "code",
   "execution_count": 15,
   "metadata": {},
   "outputs": [
    {
     "name": "stdout",
     "output_type": "stream",
     "text": [
      "09/23/2019\n",
      "16-41-18\n"
     ]
    }
   ],
   "source": [
    "print(test_m_head_dict['1']['Start Date'])\n",
    "print(test_m_head_dict['1']['Start Time'])\n"
   ]
  },
  {
   "cell_type": "code",
   "execution_count": 16,
   "metadata": {},
   "outputs": [],
   "source": [
    "\n",
    "start_parsetime = '2019/09/19 18:00'\n",
    "end_parsetime = '2019/09/20 06:00'\n",
    "test_m_parsed_dt_df = return_multi_parsed_dt_df(test_m_head_dict, test_m_dt_df_imputed, start_parsetime, end_parsetime)\n",
    "# test_m_parsed_dt_df\n",
    "\n",
    "# test_m_parsed_dt_df['10'].dropna(how='all')"
   ]
  },
  {
   "cell_type": "markdown",
   "metadata": {},
   "source": [
    "<a href='#Function List'>Back to List of Functions</a>"
   ]
  },
  {
   "cell_type": "markdown",
   "metadata": {},
   "source": [
    "<a id='final wrapper function'></a>\n",
    "\n",
    "### **NOTE:** FUNCTION NOT USED\n",
    "\n",
    "### Wrapper Function (of the above 6 functions)!\n",
    "\n",
    "**7. final_m_header_and_parsed_dt_df (file, start_parsetime, end_parsetime):**\n",
    "- **:file:** name of csv file saved from Pycharm\n",
    "- **:start_parsetime:** start of parsetime\n",
    "- **:end_parsetime:** end of parsetime\n",
    "- **:returns:** a tuple *(`m_head_dict, m_parsed_dt_df`)*   \n",
    "    Note this function returns `m_parsed_dt_df`! (output from last function)\n",
    "    \n",
    "\n",
    "**NOTE:** Unncessary for time series plotting since we want the WHOLE data, not just the  parsed information\n"
   ]
  },
  {
   "cell_type": "code",
   "execution_count": 40,
   "metadata": {},
   "outputs": [],
   "source": [
    "def final_m_header_and_parsed_dt_df(file, columns, start_parsetime, end_parsetime):\n",
    "\n",
    "    # # Reading in multilevel dataframe \n",
    "    multi_df = pd.read_csv(file, header=[0,1], index_col=[0], low_memory=False)\n",
    "    \n",
    "    m_head_dict = return_multi_header_dict(multi_df)\n",
    "    m_body_df = return_multi_body_df(multi_df, columns)\n",
    "    \n",
    "    # # Dictionary of start/end time tuples\n",
    "    m_start_end_time_dict = get_start_end_time(m_head_dict)\n",
    "    \n",
    "    # # Returns dataframe with imputed datetime \n",
    "    m_dt_df = return_multi_dt_df(m_head_dict, m_body_df, m_start_end_time_dict)\n",
    "    m_dt_df_imputed = fill_counter_datetime_col(m_dt_df)\n",
    "    \n",
    "    m_parsed_dt_df = return_multi_parsed_dt_df(m_head_dict, m_dt_df_imputed, start_parsetime, end_parsetime)\n",
    "    \n",
    "    return m_head_dict, m_parsed_dt_df\n"
   ]
  },
  {
   "cell_type": "markdown",
   "metadata": {},
   "source": [
    "No Test Output for this function\n",
    "\n",
    "<a href='#Function List'>Back to List of Functions</a>"
   ]
  },
  {
   "cell_type": "markdown",
   "metadata": {},
   "source": [
    "<a id='data wrangling'></a>\n",
    "___\n",
    "### 2. Initial Data Wrangling "
   ]
  },
  {
   "cell_type": "markdown",
   "metadata": {},
   "source": [
    "**Import Basic Libraries**"
   ]
  },
  {
   "cell_type": "code",
   "execution_count": 18,
   "metadata": {},
   "outputs": [],
   "source": [
    "# import os\n",
    "import numpy as np\n",
    "import pandas as pd\n",
    "from datetime import datetime\n",
    "import matplotlib\n",
    "import matplotlib.pyplot as plt \n",
    "import seaborn as sns"
   ]
  },
  {
   "cell_type": "markdown",
   "metadata": {},
   "source": [
    "<a href='#Event Code'>Event Codes</a> (Run this First!!)"
   ]
  },
  {
   "cell_type": "markdown",
   "metadata": {},
   "source": [
    "## Resampled Frequency Counting\n",
    "\n",
    "#### Need the `m_dt_df_imputed` as final output!!** \n",
    "\n",
    "- (Entire body dataframe with datetime imputed!) "
   ]
  },
  {
   "cell_type": "code",
   "execution_count": 136,
   "metadata": {},
   "outputs": [],
   "source": [
    "file = \"../1003 TIR.csv\" \n",
    "\n",
    "# # Use this column list for paradigms WITH Counters (double ::)\n",
    "columns = ['event_string', 'event_code', 'timestamp', 'counter']  \n",
    "\n",
    "\n",
    "# # Reading in multilevel dataframe \n",
    "multi_df = pd.read_csv(file, header=[0,1], index_col=[0], low_memory=False)\n",
    "\n",
    "m_head_dict = return_multi_header_dict(multi_df)\n",
    "m_body_df = return_multi_body_df(multi_df, columns)\n",
    "\n",
    "# # Dictionary of start/end time tuples\n",
    "m_start_end_time_dict = get_start_end_time(m_head_dict)\n",
    "\n",
    "# # Returns dataframe with imputed datetime \n",
    "m_dt_df = return_multi_dt_df(m_head_dict, m_body_df, m_start_end_time_dict)\n",
    "m_dt_df_imputed = fill_counter_datetime_col(m_dt_df)"
   ]
  },
  {
   "cell_type": "code",
   "execution_count": null,
   "metadata": {},
   "outputs": [],
   "source": []
  },
  {
   "cell_type": "markdown",
   "metadata": {},
   "source": [
    "<a href='#Table of Contents'>Back to Table of Contents</a>"
   ]
  },
  {
   "cell_type": "markdown",
   "metadata": {},
   "source": [
    "<a id='time_series'></a>\n",
    "___\n",
    "### 3. Time Series Metrics\n",
    "\n",
    "**Note: The following codes will only work for event codes you can \"count\" eg. \"7071 / 8271\" etc. The Logic will not work for the values in counter variable. (xx49 / xx59) \n",
    "\n",
    "**Note:** No need for start/end parsetimes!! \n",
    "\n",
    "- to start plotting the data hourly, first start with `m_dt_df_imputed` since this is the dataframe that returns the datetime column \"imputed\"\n",
    "- Next, return only the rows that contain the code of interest (for ex. poke array = ['7071/ ' '8071' / '9071] etc. \n",
    "- Using that new dataframe, make the datetime as the index and resample by 'H' frequency! \n",
    "\n"
   ]
  },
  {
   "cell_type": "code",
   "execution_count": null,
   "metadata": {},
   "outputs": [],
   "source": []
  },
  {
   "cell_type": "markdown",
   "metadata": {},
   "source": [
    "### Function"
   ]
  },
  {
   "cell_type": "markdown",
   "metadata": {},
   "source": [
    "**Logic: Parsing by pokes! (7071, 8071, 9071) / Rewards (7271, 8271, 9271)**\n",
    "\n",
    "References:\n",
    "\n",
    "Using [.isin()](https://pandas.pydata.org/pandas-docs/stable/reference/api/pandas.DataFrame.isin.html) vs [.contains():](https://pandas.pydata.org/pandas-docs/stable/reference/api/pandas.Series.str.contains.html)    \n",
    "[Explanation Here](https://stackoverflow.com/questions/53079487/pandas-what-is-the-difference-isin-and-contains)"
   ]
  },
  {
   "cell_type": "markdown",
   "metadata": {},
   "source": [
    "[Offset Objects for Resampling](https://pandas.pydata.org/pandas-docs/stable/user_guide/timeseries.html#dateoffset-objects)\n",
    "\n",
    "Later put in an argument for resample frequency in the function `hourly_resampled_df` --> thus won't be `hourly` anymore, but just resampled df"
   ]
  },
  {
   "cell_type": "markdown",
   "metadata": {},
   "source": [
    "<a id='hourly_resampled'></a>\n",
    "\n",
    "**1. hourly_resampled_df (m_dt_df_imputed, code_of_interest):**\n",
    "- **:m_dt_df_imputed:** datetime dataframe that WITH imputed datetimes that is NOT parsed\n",
    "- **:code_of_interest:** list of interested event codes to count (7071,8071,9071 --> total pokes)\n",
    "- **:returns:** `final_resampled_df`: resampled dataframe binned by hours on the index and containing box information in columns\n"
   ]
  },
  {
   "cell_type": "code",
   "execution_count": 87,
   "metadata": {},
   "outputs": [],
   "source": [
    "\n",
    "def hourly_resampled_df(m_dt_df_imputed, code_of_interest):\n",
    "    result = []; box_arr = list(m_dt_df_imputed.columns.levels[0])\n",
    "    \n",
    "    for i in range(len(box_arr)):  # for all the boxes in box_array\n",
    "        box_num = box_arr[i]    \n",
    "        ind_df = m_dt_df_imputed.loc[:, box_num]  # individual dataframe / box_num --> class 'string'\n",
    "    \n",
    "        ind_df = ind_df.dropna(how='all')\n",
    "        \n",
    "        code_df = ind_df[ind_df['event_code'].isin(code_of_interest)]\n",
    "        code_df = code_df.set_index('datetime_filled')\n",
    "        \n",
    "        resampled_df = code_df.resample('H')['event_code'].count()    # Change here to modify FREQUENCY (2Hours etc.)\n",
    "        resampled_df.columns = ['count']\n",
    "        \n",
    "        result.append(resampled_df)\n",
    "    \n",
    "    # Need only one column (box number) for this particular dataframe\n",
    "    final_resampled_df = pd.concat(result, axis=1, keys=box_arr, names=['Box Number'])\n",
    "\n",
    "    return final_resampled_df\n",
    "        "
   ]
  },
  {
   "cell_type": "markdown",
   "metadata": {},
   "source": [
    "**TESTESTTEST:**"
   ]
  },
  {
   "cell_type": "code",
   "execution_count": 137,
   "metadata": {},
   "outputs": [
    {
     "data": {
      "text/plain": [
       "Box Number\n",
       "1     32.0\n",
       "2     29.0\n",
       "3     33.0\n",
       "4     24.0\n",
       "5     12.0\n",
       "6     37.0\n",
       "7     35.0\n",
       "8     30.0\n",
       "9     28.0\n",
       "10    27.0\n",
       "dtype: float64"
      ]
     },
     "execution_count": 137,
     "metadata": {},
     "output_type": "execute_result"
    }
   ],
   "source": [
    "reward_array = ['7271','8271','9271']\n",
    "total_rewards_by_hour = hourly_resampled_df(m_dt_df_imputed, reward_array)\n",
    "total_rewards_by_hour.max()"
   ]
  },
  {
   "cell_type": "code",
   "execution_count": 138,
   "metadata": {},
   "outputs": [
    {
     "data": {
      "text/html": [
       "<div>\n",
       "<style scoped>\n",
       "    .dataframe tbody tr th:only-of-type {\n",
       "        vertical-align: middle;\n",
       "    }\n",
       "\n",
       "    .dataframe tbody tr th {\n",
       "        vertical-align: top;\n",
       "    }\n",
       "\n",
       "    .dataframe thead th {\n",
       "        text-align: right;\n",
       "    }\n",
       "</style>\n",
       "<table border=\"1\" class=\"dataframe\">\n",
       "  <thead>\n",
       "    <tr style=\"text-align: right;\">\n",
       "      <th>Box Number</th>\n",
       "      <th>1</th>\n",
       "      <th>2</th>\n",
       "      <th>3</th>\n",
       "      <th>4</th>\n",
       "      <th>5</th>\n",
       "      <th>6</th>\n",
       "      <th>7</th>\n",
       "      <th>8</th>\n",
       "      <th>9</th>\n",
       "      <th>10</th>\n",
       "    </tr>\n",
       "    <tr>\n",
       "      <th>datetime_filled</th>\n",
       "      <th></th>\n",
       "      <th></th>\n",
       "      <th></th>\n",
       "      <th></th>\n",
       "      <th></th>\n",
       "      <th></th>\n",
       "      <th></th>\n",
       "      <th></th>\n",
       "      <th></th>\n",
       "      <th></th>\n",
       "    </tr>\n",
       "  </thead>\n",
       "  <tbody>\n",
       "    <tr>\n",
       "      <th>2019-10-03 10:00:00</th>\n",
       "      <td>14</td>\n",
       "      <td>5.0</td>\n",
       "      <td>14.0</td>\n",
       "      <td>8</td>\n",
       "      <td>11</td>\n",
       "      <td>NaN</td>\n",
       "      <td>7.0</td>\n",
       "      <td>11.0</td>\n",
       "      <td>3.0</td>\n",
       "      <td>1.0</td>\n",
       "    </tr>\n",
       "    <tr>\n",
       "      <th>2019-10-03 11:00:00</th>\n",
       "      <td>9</td>\n",
       "      <td>0.0</td>\n",
       "      <td>2.0</td>\n",
       "      <td>13</td>\n",
       "      <td>11</td>\n",
       "      <td>NaN</td>\n",
       "      <td>0.0</td>\n",
       "      <td>0.0</td>\n",
       "      <td>0.0</td>\n",
       "      <td>0.0</td>\n",
       "    </tr>\n",
       "    <tr>\n",
       "      <th>2019-10-03 12:00:00</th>\n",
       "      <td>0</td>\n",
       "      <td>0.0</td>\n",
       "      <td>2.0</td>\n",
       "      <td>5</td>\n",
       "      <td>5</td>\n",
       "      <td>NaN</td>\n",
       "      <td>1.0</td>\n",
       "      <td>0.0</td>\n",
       "      <td>1.0</td>\n",
       "      <td>0.0</td>\n",
       "    </tr>\n",
       "  </tbody>\n",
       "</table>\n",
       "</div>"
      ],
      "text/plain": [
       "Box Number            1    2     3   4   5   6    7     8    9   10\n",
       "datetime_filled                                                    \n",
       "2019-10-03 10:00:00  14  5.0  14.0   8  11 NaN  7.0  11.0  3.0  1.0\n",
       "2019-10-03 11:00:00   9  0.0   2.0  13  11 NaN  0.0   0.0  0.0  0.0\n",
       "2019-10-03 12:00:00   0  0.0   2.0   5   5 NaN  1.0   0.0  1.0  0.0"
      ]
     },
     "execution_count": 138,
     "metadata": {},
     "output_type": "execute_result"
    }
   ],
   "source": [
    "total_rewards_by_hour.head(3)"
   ]
  },
  {
   "cell_type": "code",
   "execution_count": null,
   "metadata": {},
   "outputs": [],
   "source": []
  },
  {
   "cell_type": "markdown",
   "metadata": {},
   "source": [
    "***Check Start / End Date and Time***"
   ]
  },
  {
   "cell_type": "code",
   "execution_count": 139,
   "metadata": {},
   "outputs": [
    {
     "name": "stdout",
     "output_type": "stream",
     "text": [
      "10/03/2019\n",
      "10/04/2019\n"
     ]
    }
   ],
   "source": [
    "print(m_head_dict['1']['Start Date'])\n",
    "print(m_head_dict['1']['End Date'])"
   ]
  },
  {
   "cell_type": "markdown",
   "metadata": {},
   "source": [
    "#### Plotting the Time Series with matplotlib"
   ]
  },
  {
   "cell_type": "markdown",
   "metadata": {},
   "source": [
    "**Plotting individual graphs**"
   ]
  },
  {
   "cell_type": "code",
   "execution_count": 105,
   "metadata": {},
   "outputs": [],
   "source": [
    "# a = 7.5\n",
    "# fig = total_poke_by_hour.loc[:,'1'].plot.bar(color='C0')\n",
    "# # plt.ylim([0,150]) # Let's not set the ylim since each box has different limits (outliers!)\n",
    "# fig.axvspan(a, a+12, alpha=0.15, color='black')  # shade in the 12 hours! \n",
    "# plt.ylabel(\"Counts\")\n",
    "# plt.title(\"Total Poke Counts for Box 4\")\n",
    "\n",
    "# plt.tight_layout()\n",
    "# plt.show()\n",
    "\n",
    "# # fig = freq_b5['Count'].plot(kind='bar')"
   ]
  },
  {
   "cell_type": "code",
   "execution_count": null,
   "metadata": {},
   "outputs": [],
   "source": []
  },
  {
   "cell_type": "markdown",
   "metadata": {},
   "source": [
    "### Hacker way after figuring out that for loop really doesn't work with saving files..."
   ]
  },
  {
   "cell_type": "code",
   "execution_count": 151,
   "metadata": {},
   "outputs": [
    {
     "data": {
      "image/png": "[encoded data removed]",
      "text/plain": [
       "<Figure size 432x288 with 1 Axes>"
      ]
     },
     "metadata": {
      "needs_background": "light"
     },
     "output_type": "display_data"
    }
   ],
   "source": [
    "a = 7.5   # CHANGE HERE FOR DARK CYCLE START TIME\n",
    "b = a + 24  # CHANGE HERE If file contains data for more than 2 days\n",
    "c = b + 24\n",
    "box_number = '10'\n",
    "\n",
    "# plt.figure(figsize=(14,7))\n",
    "\n",
    "fig = total_rewards_by_hour.loc[:,box_number].plot.bar(color='C0')\n",
    "\n",
    "plt.ylim([0,50]) # Let's not set the ylim since each box has different limits (outliers!)\n",
    "fig.axvspan(a, a+12, alpha=0.15, color='black')  # shade in the 12 hours! \n",
    "# fig.axvspan(b, b+12, alpha=0.15, color='black')\n",
    "# fig.axvspan(c, c+12, alpha=0.15, color='black')\n",
    "plt.ylabel(\"Counts\")\n",
    "plt.title(\"Total Reward Counts for Box \" + box_number)\n",
    "\n",
    "file_name = \"1003 hourly (TIR)/1003 box\"+ box_number +\".png\"\n",
    "\n",
    "plt.tight_layout()\n",
    "plt.savefig(file_name)\n",
    "# plt.show()\n",
    "\n",
    "# fig = freq_b5['Count'].plot(kind='bar')"
   ]
  },
  {
   "cell_type": "code",
   "execution_count": null,
   "metadata": {},
   "outputs": [],
   "source": []
  },
  {
   "cell_type": "code",
   "execution_count": null,
   "metadata": {},
   "outputs": [],
   "source": []
  },
  {
   "cell_type": "markdown",
   "metadata": {},
   "source": [
    "<a id='Event Code'></a>\n",
    "___\n",
    "### Appendix:\n",
    "\n",
    "***Event Codes***"
   ]
  },
  {
   "cell_type": "code",
   "execution_count": 5,
   "metadata": {},
   "outputs": [],
   "source": [
    "\n",
    "event_code_dict = {'7071' :'L_Poke_Valid_IN',  '7171' :'L_led_Valid_ON',  '7271' :'L_sol_Valid_ON',\n",
    "                   '7070' :'L_Poke_Valid_OUT', '7170' :'L_led_Valid_OFF', '7270' :'L_sol_Valid_OFF',\n",
    "                   '8071' :'M_Poke_Valid_IN',  '8171' :'M_led_Valid_ON',  '8271' :'M_sol_Valid_ON',\n",
    "                   '8070' :'M_Poke_Valid_OUT', '8170' :'M_led_Valid_OFF', '8270' :'M_sol_Valid_OFF',\n",
    "                   '9071' :'R_Poke_Valid_IN',  '9171' :'R_led_Valid_ON',  '9271' :'R_sol_Valid_ON',\n",
    "                   '9070' :'R_Poke_Valid_OUT', '9170' :'R_led_Valid_OFF', '9270' :'R_sol_Valid_OFF',\n",
    "\n",
    "                   '7160' :'L_led_Invalid_OFF',\n",
    "                   '8160' :'M_led_Invalid_OFF',\n",
    "                   '9160' :'R_led_Invalid_OFF',\n",
    "\n",
    "                   '7519' :'L_iw',  '7529' :'L_tw',  '7539' :'L_vw', '7559' :'L_delay_w',\n",
    "                   '8519' :'M_iw',  '8529' :'M_tw',  '8539' :'M_vw', '8559' :'M_delay_w',\n",
    "                   '9519' :'R_iw',  '9529' :'R_tw',  '9539' :'R_vw', '9559' :'R_delay_w',\n",
    "\n",
    "                   '7540' :'Left Omission', '8540' :'Middle Omission', '9540' :'Right Omission',\n",
    "\n",
    "                   '5520' :'Trial_Window_End',\n",
    "                   '5521' :'Trial_Window_Start',\n",
    "\n",
    "                   '0114' :'END'}\n",
    "\n",
    "\n"
   ]
  },
  {
   "cell_type": "markdown",
   "metadata": {},
   "source": [
    "<a href='#data wrangling'>Back to Initial Data Wrangling</a>"
   ]
  },
  {
   "cell_type": "markdown",
   "metadata": {},
   "source": [
    "<a href='#return_body_df'>Back to return-body-df</a>"
   ]
  },
  {
   "cell_type": "markdown",
   "metadata": {},
   "source": [
    "<a href='#Table of Contents'>Back to Table of Contents</a>"
   ]
  },
  {
   "cell_type": "code",
   "execution_count": null,
   "metadata": {},
   "outputs": [],
   "source": []
  }
 ],
 "metadata": {
  "kernelspec": {
   "display_name": "Python 3",
   "language": "python",
   "name": "python3"
  },
  "language_info": {
   "codemirror_mode": {
    "name": "ipython",
    "version": 3
   },
   "file_extension": ".py",
   "mimetype": "text/x-python",
   "name": "python",
   "nbconvert_exporter": "python",
   "pygments_lexer": "ipython3",
   "version": "3.6.8"
  }
 },
 "nbformat": 4,
 "nbformat_minor": 2
}
