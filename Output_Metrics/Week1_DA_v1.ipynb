{
 "cells": [
  {
   "cell_type": "markdown",
   "metadata": {},
   "source": [
    "# Arduino Week 1 Data Analysis Jupyter Notebook\n",
    "\n",
    "Author: Jun Ho Lee  \n",
    "Last Update: 09/23/2019\n",
    "\n",
    "**This code analyzes week 1 paradigm data (Port Habituation / Continuous Cue / Random Forced Choice)** \n",
    "- These paradigms are the ones with only single ':' as a delimiter\n",
    "- Does NOT contain counter values\n",
    "- Does NOT analyze hourly frequencies (resampled data)"
   ]
  },
  {
   "cell_type": "markdown",
   "metadata": {},
   "source": [
    "____\n",
    "<a id='Goals'></a>\n",
    "\n",
    "### General Objective:\n",
    "Streamline the Data Analysis Workflow by using both **1. Pycharm** (GUI interactivity) and **2. Jupyter** (better dataframe interactivity) \n",
    "\n",
    "**Pipeline (Daily):** \n",
    "1. Concatenate daily data into a Multilevel Dataframe (using Pycharm)\n",
    "2. Read in the multilevel dataframe with .read_csv() (Using Jupyter) \n",
    "3. Use custom functions to parse out metrics of interest (Using Jupyter)\n",
    "4. Save the aggregated metrics to a csv file \n",
    "5. Plot daily data to gather information 'on the fly'\n",
    "\n",
    "**Pipeline (After End of Paradigm / Experiment):** \n",
    "1. Use custom functions to aggregate daily metric data over a time series (by each subject)\n",
    "2. Use custom plotting functions to plot data over time\n",
    "\n",
    "\n",
    "**References: Error Handling Docs**\n",
    "1. [Built-in Exceptions](https://docs.python.org/3/library/exceptions.html)\n",
    "2. [Errors and Exceptions](https://docs.python.org/3/tutorial/errors.html)\n",
    "3. [Manually Raising an Error in Python](https://stackoverflow.com/questions/2052390/manually-raising-throwing-an-exception-in-python)\n",
    "4. [Hierarchical Indexing Documentation](https://pandas.pydata.org/pandas-docs/stable/user_guide/advanced.html)\n",
    "\n",
    "\n",
    "### Important Note:\n",
    "\n",
    "> Do **NOT** save or modify the original csv file!!! \n",
    "Modifying the csv file will lead to truncation of leading zeros in the file, which will mess up the analysis! \n"
   ]
  },
  {
   "cell_type": "markdown",
   "metadata": {},
   "source": [
    "<a id='Table of Contents'></a>\n",
    "___\n",
    "* * * * * * * * * \n",
    "\n",
    "0. <a href='#Goals'>Objectives and Pipeline</a>\n",
    "\n",
    "## Table of Contents\n",
    "\n",
    "\n",
    "1. <a href='#Function List'>List of Functions</a>\n",
    "\n",
    "2. <a href='#data wrangling'>Initial Data Wrangling</a>\n",
    "\n",
    "3. <a href='#metric output'>Metric Output</a>\n",
    "\n",
    "3. <a href='#metric checkpoint'>Save Metric Output to CSV (Checkpoint)</a>\n",
    "\n",
    "\n",
    "\n",
    "**Appendix:**  \n",
    "1. <a href='#Event Code'>Event Codes</a> (Run this First!!)"
   ]
  },
  {
   "cell_type": "markdown",
   "metadata": {},
   "source": [
    "<a id='Function List'></a>\n",
    "___\n",
    "    \n",
    "### 1. List of Functions\n",
    "\n",
    "*A. <a href='#data extraction'>Data Extraction and Parsing</a>*\n",
    "1. <a href='#return_header_dict'>return-multi-header-dict</a>\n",
    "2. <a href='#return_body_df'>return-multi-body-df</a>\n",
    "3. <a href='#get_start_end_time'>get-start-end-time</a>\n",
    "4. <a href='#return_multi_dt'>return-multi-dt-df</a> \n",
    "5. <a href='#fill_counter_datetime_col'>fill-counter-datetime-col</a> \n",
    "6. <a href='#return_multi_parsed_dt'>return-multi-parsed-dt-df</a>\n",
    "7. <a href='#final wrapper function'>final-m-header-and-parsed-dt-df</a>\n",
    "\n",
    "\n",
    "*B. <a href='#metric calculation'>Metric Calculations</a>*\n",
    "1. <a href='#counts_during_window'>counts-during-window</a>\n",
    "2. <a href='#count_events'>count-events</a>\n",
    "\n"
   ]
  },
  {
   "cell_type": "markdown",
   "metadata": {},
   "source": [
    "### *For Function Testing Purposes*\n",
    "\n",
    "###### Import Basic Libraries"
   ]
  },
  {
   "cell_type": "code",
   "execution_count": 4,
   "metadata": {},
   "outputs": [],
   "source": [
    "import numpy as np\n",
    "import pandas as pd\n",
    "from natsort import natsorted, ns\n",
    "from datetime import datetime\n",
    "# import matplotlib.pyplot as plt\n",
    "# import seaborn as sns\n",
    "\n",
    "file = \"../0923 RFC.csv\" \n",
    "test_multi_df = pd.read_csv(file, header=[0,1], index_col=[0])\n",
    "\n",
    "\n",
    "# # To test out the effect of saving on a csv file \n",
    "# file1 = \"0903 w_delay.csv\" \n",
    "# test1 = pd.read_csv(file1, header=[0,1], index_col=[0])"
   ]
  },
  {
   "cell_type": "code",
   "execution_count": 5,
   "metadata": {},
   "outputs": [],
   "source": [
    "# df_test1 = test1['6']\n",
    "# df_test1.head(10)\n",
    "# test1.info()"
   ]
  },
  {
   "cell_type": "markdown",
   "metadata": {},
   "source": [
    "<a id='data extraction'></a>\n",
    "___\n",
    "#### A. Data Extraction and Parsing\n"
   ]
  },
  {
   "cell_type": "markdown",
   "metadata": {},
   "source": [
    "<a id='return_header_dict'></a>\n",
    "\n",
    "**1: return_multi_header_dict (multi_df)**\n",
    "\n",
    "- :**multi_df:** multilevel dataframe that we created from \"import_files.py\"\n",
    "- **:return:** `m_head_dict`: nested dictionary of headers $\\rightarrow$ {box number(keys): {header info(values)}}"
   ]
  },
  {
   "cell_type": "code",
   "execution_count": 6,
   "metadata": {},
   "outputs": [],
   "source": [
    "# # Will only need the initial \"MultiLevel Dataframe\" to run subsequent codes!!\n",
    "def return_multi_header_dict(multi_df):\n",
    "    \n",
    "    m_head_dict = {}\n",
    "    box_numbers = multi_df.columns.levels[0]  # Returns a \"Frozen List\" \n",
    "    sorted_box_nums = natsorted(box_numbers) # outputs a list of sorted box numbers\n",
    "\n",
    "    for i in range(len(sorted_box_nums)):\n",
    "        box_num = sorted_box_nums[i]\n",
    "        ind_df = multi_df.loc[:, box_num]  # individual dataframe (box is type 'string')\n",
    "\n",
    "        ind_df = ind_df.dropna(how='all')\n",
    "\n",
    "        start_code_idx = ind_df.index[ind_df.event_code == '0113'].tolist()[0]  # the list will only contain ONE element\n",
    "        end_date_info = ind_df[-2:]  # last two rows will always be end date info\n",
    "\n",
    "        head = ind_df[:start_code_idx]\n",
    "\n",
    "        ind_head = pd.concat([head, end_date_info], axis=0)   # header dictionary requires end date/time info so need to concatenate the top and bottom dfs\n",
    "        ind_head['timestamp'] = ind_head['timestamp'].str.strip()\n",
    "\n",
    "        # # {first column: second column}\n",
    "        ind_header_dict = {row[0]: row[1] for row in ind_head.values}  # .values --> transforms into numpy array\n",
    "\n",
    "        m_head_dict[box_num] = ind_header_dict\n",
    "\n",
    "    return m_head_dict\n"
   ]
  },
  {
   "cell_type": "code",
   "execution_count": 7,
   "metadata": {},
   "outputs": [],
   "source": [
    "test_m_head_dict = return_multi_header_dict(test_multi_df)"
   ]
  },
  {
   "cell_type": "markdown",
   "metadata": {},
   "source": [
    "<a href='#Function List'>Back to List of Functions</a>"
   ]
  },
  {
   "cell_type": "code",
   "execution_count": 8,
   "metadata": {},
   "outputs": [],
   "source": [
    "# test_multi_df\n",
    "# pd.DataFrame.from_dict(test_m_head_dict, orient='index')"
   ]
  },
  {
   "cell_type": "markdown",
   "metadata": {},
   "source": [
    "<a id='return_body_df'></a>\n",
    "\n",
    "**2: return_multi_body_df (multi_df):**\n",
    "\n",
    "- **:multi_df:** multilevel dataframe that we created from \"import_files.py\"\n",
    "- **:returns:** `m_body_df`: multilevel dataframe of the BODY portion of data  \n",
    "\n",
    "*BODY*: FROM the first IR initialization (9070) TO the second to last row of the original dataframe (excluding end date/time)"
   ]
  },
  {
   "cell_type": "code",
   "execution_count": 11,
   "metadata": {},
   "outputs": [],
   "source": [
    "# Will only need the initial \"MultiLevel Dataframe\" to run subsequent codes!!\n",
    "\n",
    "def return_multi_body_df(multi_df, columns):\n",
    "\n",
    "    result = []; box_arr = []\n",
    "    box_numbers = multi_df.columns.levels[0]\n",
    "    sorted_box_nums = natsorted(box_numbers) # outputs a list of sorted box numbers\n",
    "    \n",
    "    for i in range(len(sorted_box_nums)):  # for all the boxes, (outermost index is box number)\n",
    "        box_num = sorted_box_nums[i]\n",
    "        ind_df = multi_df.loc[:, box_num]  # individual dataframe\n",
    "\n",
    "        ind_df = ind_df.dropna(how='all')\n",
    "#         ind_df['event_code'] = ind_df['event_code'].astype('str')  # Changed\n",
    "\n",
    "        # Extracting ACTUAL BODY\n",
    "        header_end_idx = ind_df.loc[ind_df[ind_df.columns[0]] == '9070'].index[0]\n",
    "        body_start_idx = header_end_idx + 1\n",
    "\n",
    "        body = ind_df[body_start_idx:-2].reset_index(drop=True)\n",
    "        body.loc[:,'timestamp'] = pd.to_numeric(body['timestamp'])\n",
    "        body['event_string'] = body['event_code'].map(event_code_dict)\n",
    "\n",
    "        body = body[columns]  # 4 columns or 3 columns\n",
    "\n",
    "        box_arr.append(box_num)\n",
    "        result.append(body)\n",
    "\n",
    "    m_body_df = pd.concat(result, axis=1, keys=box_arr, names=['Box Number', 'Columns'])\n",
    "\n",
    "    return m_body_df\n"
   ]
  },
  {
   "cell_type": "markdown",
   "metadata": {},
   "source": [
    "<a href='#Event Code'>Event Codes</a> (Run this First!!)"
   ]
  },
  {
   "cell_type": "code",
   "execution_count": 12,
   "metadata": {},
   "outputs": [],
   "source": [
    "# Use this for Port Habituation + Continuous Cue + RFC  (paradigms that don't have counter columns) - single : \n",
    "columns = ['event_string', 'event_code', 'timestamp']   # Including event_string is up to user's choice! \n",
    "# columns = ['event_code', 'timestamp']  \n",
    "\n",
    "# Use this for TIR (paradigms that have counter values)  - double :: \n",
    "# columns = ['event_string', 'event_code', 'timestamp', 'counter'] \n",
    "# columns = ['event_code', 'timestamp', 'counter'] \n",
    "\n",
    "test_m_body_df = return_multi_body_df(test_multi_df, columns)"
   ]
  },
  {
   "cell_type": "code",
   "execution_count": 13,
   "metadata": {},
   "outputs": [],
   "source": [
    "# test_m_body_df"
   ]
  },
  {
   "cell_type": "markdown",
   "metadata": {},
   "source": [
    "<a href='#Function List'>Back to List of Functions</a>"
   ]
  },
  {
   "cell_type": "markdown",
   "metadata": {},
   "source": [
    "<a id='get_start_end_time'></a>\n",
    "\n",
    "**3. get_start_end_time (m_head_dict):**\n",
    "\n",
    "- **:m_head_dict:** nested dictionary of headers for all boxes\n",
    "- **:returns:** `start_end_time_dict`: dictionary of datetime tuples {box_num: (start_time, end_time)}\n"
   ]
  },
  {
   "cell_type": "code",
   "execution_count": 14,
   "metadata": {},
   "outputs": [],
   "source": [
    "def get_start_end_time(m_head_dict):\n",
    "\n",
    "    start_end_time_dict = {}\n",
    "\n",
    "    box_numbers = list(m_head_dict)   # keys of the header dictionary --> box numbers\n",
    "    for i in range(len(box_numbers)):\n",
    "        box_num = box_numbers[i]\n",
    "        \n",
    "        # Start Datetime\n",
    "        start_datetime = m_head_dict[box_num]['Start Date'] + \" \" + m_head_dict[box_num]['Start Time']\n",
    "        start_datetime = start_datetime.replace(\"-\",\":\")\n",
    "\n",
    "        # End Datetime\n",
    "        end_datetime = m_head_dict[box_num]['End Date']  + \" \" + m_head_dict[box_num]['End Time']\n",
    "        end_datetime = end_datetime.replace(\"-\",\":\")\n",
    "\n",
    "        start_time = datetime.strptime(start_datetime, '%m/%d/%Y %H:%M:%S')\n",
    "        end_time = datetime.strptime(end_datetime, '%m/%d/%Y %H:%M:%S')\n",
    "\n",
    "        start_end_time_dict[box_num] = (start_time, end_time)  # saves it as a tuple of datetimes\n",
    "        # print(start_time, end_time)\n",
    "\n",
    "    return start_end_time_dict\n",
    "    "
   ]
  },
  {
   "cell_type": "code",
   "execution_count": 15,
   "metadata": {},
   "outputs": [],
   "source": [
    "test_start_end_time_dict = get_start_end_time(test_m_head_dict)"
   ]
  },
  {
   "cell_type": "markdown",
   "metadata": {},
   "source": [
    "<a href='#Function List'>Back to List of Functions</a>"
   ]
  },
  {
   "cell_type": "markdown",
   "metadata": {},
   "source": [
    "<a id='return_multi_dt'></a>\n",
    "\n",
    "**4. return_multi_dt_df (m_head_dict, m_body_df, start_end_time_dict):**\n",
    "- **:m_head_dict:** dictionary for all boxes\n",
    "- **:m_body_df:** multilevel dataframe of the BODY\n",
    "- **:start_end_time_dict:** nested dictionary of start/end time tuples\n",
    "- **:returns:** `m_dt_df`: multilevel datetime dataframe\n"
   ]
  },
  {
   "cell_type": "code",
   "execution_count": 16,
   "metadata": {},
   "outputs": [],
   "source": [
    "\n",
    "def return_multi_dt_df(m_head_dict, m_body_df, start_end_time_dict):\n",
    "\n",
    "    result = []; box_arr = list(m_body_df.columns.levels[0])\n",
    "    midx_shape = m_body_df.columns.levshape   # (returns a tuple)\n",
    "    \n",
    "    # # # Exception Handling \n",
    "    if (len(m_head_dict) != midx_shape[0]):   # This indicates the number of boxes\n",
    "        raise ValueError('Number of boxes in dictionary and dataframe does not match')\n",
    "\n",
    "    for i in range(len(box_arr)):  # for all the boxes in box_array\n",
    "        box_num = box_arr[i]    \n",
    "        ind_df = m_body_df.loc[:, box_num]  # individual dataframe / box_num --> class 'string'\n",
    "    \n",
    "        ind_df = ind_df.dropna(how='all')\n",
    "        \n",
    "        start_time = start_end_time_dict[box_num][0]\n",
    "        end_time = start_end_time_dict[box_num][1]\n",
    "        \n",
    "        # # Broadcast new columns \n",
    "        ind_df['datetime_realtime'] = start_time + pd.to_timedelta(pd.to_numeric(ind_df['timestamp']), unit='ms')\n",
    "        ind_df['day'] = ind_df['datetime_realtime'].dt.day\n",
    "        ind_df['hour'] = ind_df['datetime_realtime'].dt.hour  # using the .dt accessor to access datetime object\n",
    "    \n",
    "        # box_arr.append(box_num)\n",
    "        result.append(ind_df)\n",
    "    \n",
    "    m_dt_df = pd.concat(result, axis=1, keys=box_arr, names=['Box Number', 'Columns'])\n",
    "    \n",
    "    return m_dt_df\n",
    "    "
   ]
  },
  {
   "cell_type": "code",
   "execution_count": 17,
   "metadata": {},
   "outputs": [],
   "source": [
    "test_m_dt_df = return_multi_dt_df(test_m_head_dict, test_m_body_df, test_start_end_time_dict)\n",
    "# test_m_dt_df"
   ]
  },
  {
   "cell_type": "markdown",
   "metadata": {},
   "source": [
    "<a href='#Function List'>Back to List of Functions</a>"
   ]
  },
  {
   "cell_type": "markdown",
   "metadata": {},
   "source": [
    "<a id='fill_counter_datetime_col'></a>\n",
    "\n",
    "**5. fill_counter_datetime_col (m_dt_df):**\n",
    "- **:m_dt_df:** multilevel datetime dataframe\n",
    "- **:returns:** `m_dt_df_impute`: multilevel dataframe after datetime imputation (backfilled + ffilled) \n",
    "\n",
    "\n",
    "#### This is a necessary imputation step since counter values don't have timestamps! (and indexing will be impossible without valid timestamps) \n",
    "- Will use ffill if last row in the parsed dataframe is a counter value \n",
    "- Will use bfill if first row in the parsed dataframe is a counter value\n",
    "\n",
    "(without this step, tried to parse the dataframe according to the indices, but that ran into problems as well... -> thought it would be easier to just bfill / ffill the missing datetime values for the counters) \n"
   ]
  },
  {
   "cell_type": "code",
   "execution_count": 18,
   "metadata": {},
   "outputs": [],
   "source": [
    "\n",
    "def fill_counter_datetime_col(m_dt_df):\n",
    "    \n",
    "    result = []; box_arr = list(m_dt_df.columns.levels[0])\n",
    "#     midx_shape = m_dt_df.columns.levshape   # (returns a tuple)\n",
    "    \n",
    "    for i in range(len(box_arr)):  # for all the boxes in box_array\n",
    "        box_num = box_arr[i]    \n",
    "        ind_df = m_dt_df.loc[:, box_num]  # individual dataframe / box_num --> class 'string'\n",
    "    \n",
    "        ind_df = ind_df.dropna(how='all')\n",
    "        \n",
    "        first_row_timestamp = ind_df.iloc[0]['timestamp']  \n",
    "        last_row_timestamp = ind_df.iloc[-1]['timestamp'] \n",
    "        \n",
    "        ind_df_impute = ind_df.copy()\n",
    "\n",
    "        # # Two if statements to ensure columns get filled in every case \n",
    "        # # Even if BOTH first row and last row are NaN values\n",
    "        \n",
    "        if pd.isnull(first_row_timestamp):\n",
    "            ind_df_impute['datetime_filled'] = ind_df_impute.datetime_realtime.fillna(method='bfill')\n",
    "\n",
    "        # # Column updating! \n",
    "        if pd.isnull(last_row_timestamp): \n",
    "            ind_df_impute['datetime_filled'] = ind_df_impute['datetime_filled'].fillna(method='ffill')\n",
    "            \n",
    "        # # If none of the first/last rows are none, just use bfill method\n",
    "        else:\n",
    "            ind_df_impute['datetime_filled'] = ind_df_impute.datetime_realtime.fillna(method='bfill')\n",
    "\n",
    "        result.append(ind_df_impute)\n",
    "    \n",
    "    # box_arr from above (before the for loop)\n",
    "    m_dt_df_imputed = pd.concat(result, axis=1, keys=box_arr, names=['Box Number', 'Columns'])\n",
    "            \n",
    "    return m_dt_df_imputed\n",
    "    "
   ]
  },
  {
   "cell_type": "code",
   "execution_count": 19,
   "metadata": {},
   "outputs": [],
   "source": [
    "test_m_dt_df_imputed = fill_counter_datetime_col(test_m_dt_df)\n",
    "# test_m_dt_df_imputed"
   ]
  },
  {
   "cell_type": "markdown",
   "metadata": {},
   "source": [
    "<a href='#Function List'>Back to List of Functions</a>"
   ]
  },
  {
   "cell_type": "markdown",
   "metadata": {},
   "source": [
    "<a id='return_multi_parsed_dt'></a>\n",
    "\n",
    "**6. return_multi_parsed_dt_df (m_head_dict, m_dt_df_imputed, start_parsetime, end_parsetime):**\n",
    "- **:m_head_dict:** dictionary for all boxes\n",
    "- **:m_dt_df_imputed:** multilevel datetime dataframe after imputation\n",
    "- **:start_parsetime:** start of parsetime\n",
    "- **:end_parsetime:** end of parsetime\n",
    "- **:returns:** `m_parsed_dt_df`: multilevel parsed datetime dataframe (parsed by start/end times)\n"
   ]
  },
  {
   "cell_type": "code",
   "execution_count": 20,
   "metadata": {},
   "outputs": [],
   "source": [
    "def return_multi_parsed_dt_df(m_head_dict, m_dt_df_imputed, start_parsetime, end_parsetime):\n",
    "    \n",
    "    # # Parse Time Criteria for all files (boxes)\n",
    "    start_dt = datetime.strptime(start_parsetime, '%Y/%m/%d %H:%M')\n",
    "    end_dt = datetime.strptime(end_parsetime, '%Y/%m/%d %H:%M')\n",
    "    \n",
    "    # # Boilerplate for Multilevel Dataframe\n",
    "    result = []; box_arr = list(m_dt_df_imputed.columns.levels[0])\n",
    "\n",
    "    for i in range(len(box_arr)):  \n",
    "        box_num = box_arr[i]\n",
    "        ind_df = m_dt_df_imputed.loc[:, box_num]  # individual dataframe\n",
    "        # No need for conversion to str(box_num) since box_num is already string \n",
    "\n",
    "        ind_df = ind_df.dropna(how='all')\n",
    "        \n",
    "        # 1. Parse by time\n",
    "        # # : Problem --> counter values don't have timestamps, thus need to index the dataframe\n",
    "        # # : Problem solved by imputing datetimes\n",
    "        p_body = ind_df[(ind_df['datetime_filled'] >= start_dt) & (ind_df['datetime_filled'] <= end_dt)]\n",
    "        \n",
    "        result.append(p_body)\n",
    "        \n",
    "    m_parsed_dt_df = pd.concat(result, axis=1, keys=box_arr, names=['Box Number', 'Columns'])\n",
    "        \n",
    "    return m_parsed_dt_df\n",
    "\n"
   ]
  },
  {
   "cell_type": "code",
   "execution_count": 21,
   "metadata": {},
   "outputs": [
    {
     "name": "stdout",
     "output_type": "stream",
     "text": [
      "09/23/2019\n",
      "10-01-18\n"
     ]
    }
   ],
   "source": [
    "print(test_m_head_dict['1']['Start Date'])\n",
    "print(test_m_head_dict['1']['Start Time'])\n"
   ]
  },
  {
   "cell_type": "code",
   "execution_count": 22,
   "metadata": {},
   "outputs": [],
   "source": [
    "\n",
    "start_parsetime = '2019/09/20 18:00'\n",
    "end_parsetime = '2019/09/21 06:00'\n",
    "test_m_parsed_dt_df = return_multi_parsed_dt_df(test_m_head_dict, test_m_dt_df_imputed, start_parsetime, end_parsetime)\n",
    "\n",
    "# test_m_parsed_dt_df\n",
    "\n",
    "# test_m_parsed_dt_df['10'].dropna(how='all')"
   ]
  },
  {
   "cell_type": "markdown",
   "metadata": {},
   "source": [
    "<a href='#Function List'>Back to List of Functions</a>"
   ]
  },
  {
   "cell_type": "markdown",
   "metadata": {},
   "source": [
    "<a id='final wrapper function'></a>\n",
    "\n",
    "### Wrapper Function (of the above 6 functions)!\n",
    "\n",
    "**7. final_m_header_and_parsed_dt_df (file, start_parsetime, end_parsetime):**\n",
    "- **:file:** name of csv file saved from Pycharm\n",
    "- **:start_parsetime:** start of parsetime\n",
    "- **:end_parsetime:** end of parsetime\n",
    "- **:returns:** a tuple *(`m_head_dict, m_parsed_dt_df`)*   \n",
    "    Note this function returns `m_parsed_dt_df`! (output from last function)\n"
   ]
  },
  {
   "cell_type": "code",
   "execution_count": 23,
   "metadata": {},
   "outputs": [],
   "source": [
    "def final_m_header_and_parsed_dt_df(file, columns, start_parsetime, end_parsetime):\n",
    "\n",
    "    # # Reading in multilevel dataframe \n",
    "    multi_df = pd.read_csv(file, header=[0,1], index_col=[0])\n",
    "    \n",
    "    m_head_dict = return_multi_header_dict(multi_df)\n",
    "    m_body_df = return_multi_body_df(multi_df, columns)\n",
    "    \n",
    "    # # Dictinoary of start/end time tuples\n",
    "    m_start_end_time_dict = get_start_end_time(m_head_dict)\n",
    "    \n",
    "    # # Returns dataframe with imputed datetime \n",
    "    m_dt_df = return_multi_dt_df(m_head_dict, m_body_df, m_start_end_time_dict)\n",
    "    m_dt_df_imputed = fill_counter_datetime_col(m_dt_df)\n",
    "    \n",
    "    m_parsed_dt_df = return_multi_parsed_dt_df(m_head_dict, m_dt_df_imputed, start_parsetime, end_parsetime)\n",
    "    \n",
    "    return m_head_dict, m_parsed_dt_df\n"
   ]
  },
  {
   "cell_type": "markdown",
   "metadata": {},
   "source": [
    "No Test Output for this function\n",
    "\n",
    "<a href='#Function List'>Back to List of Functions</a>"
   ]
  },
  {
   "cell_type": "markdown",
   "metadata": {},
   "source": [
    "<a id='metric calculation'></a>\n",
    "___\n",
    "#### B. Metric Calculations\n"
   ]
  },
  {
   "cell_type": "markdown",
   "metadata": {},
   "source": [
    "<a id='counts_during_window'></a>\n",
    "\n",
    "### FUNCTION NOT USED\n",
    "\n",
    "**1: counts_during_window (m_parsed_dt_df, start_parsetime, window_of_interest):**\n",
    "- **:m_parsed_dt_df:** multilevel dataframe PARSED by inputted time window\n",
    "- **:start_parsetime:** start of parsetime $\\rightarrow$ date for metrics gets extracted from here! \n",
    "- **:window_of_interest:** list of window counters event codes\n",
    "- **:returns:** `m_window_counter_df`: multilevel window counter dataframe with metric code as index"
   ]
  },
  {
   "cell_type": "code",
   "execution_count": 24,
   "metadata": {},
   "outputs": [],
   "source": [
    "\n",
    "def counts_during_window(m_parsed_dt_df, start_parsetime, window_of_interest):\n",
    "\n",
    "    result = []; box_arr = list(m_parsed_dt_df.columns.levels[0])\n",
    "    # No need to check for ValueError (length of boxes in dict and dataframe since it's already been checked once above)\n",
    "\n",
    "    for i in range(len(box_arr)):  # for all the boxes, (outermost index is box number)\n",
    "        box_num = box_arr[i]\n",
    "        ind_df = m_parsed_dt_df.loc[:, box_num]  # individual dataframe\n",
    "        \n",
    "        # individual dataframe!! \n",
    "        ind_df = ind_df.dropna(how='all')\n",
    "        \n",
    "#         ind_df['event_code'] = ind_df['event_code'].astype('str')  # CHANGED to string dtype (for event_code )\n",
    "        \n",
    "        window_df = ind_df[ind_df.event_code.isin(window_of_interest)]\n",
    "        final_df = window_df[['event_code','counter']]\n",
    "        \n",
    "        # Pivot the counter dataframe (so that L/M/R becomes columns) \n",
    "        # Replace np.nan with empty strings\n",
    "        pivoted = final_df.pivot(index=None, columns='event_code', values='counter')\n",
    "        pivoted.replace(np.nan, '')\n",
    "        \n",
    "        L_count = pivoted[window_of_interest[0]].sum()\n",
    "        M_count = pivoted[window_of_interest[1]].sum()\n",
    "        R_count = pivoted[window_of_interest[2]].sum()\n",
    "        T_count = L_count + M_count + R_count\n",
    "\n",
    "        # date \n",
    "        m_date = start_parsetime[5:10]  # Use parsetime value to extract dates! (since each file can have data for multiple days )\n",
    "        # Metric Code: will become the name of index (for dataframe)\n",
    "        metric_code = m_date + \" code: oo\" + window_of_interest[0][-2:]  # last two digits of counter_code\n",
    "\n",
    "        # make it into a dataframe so that L/M/R is in the column!! \n",
    "        # (pass L/M/R with double brackets [[]])\n",
    "        # Shape is (1, 4)\n",
    "        window_counter_df = pd.DataFrame([[L_count, M_count, R_count, T_count]], index=[metric_code], columns=['Left','Middle','Right','Total'])\n",
    "        result.append(window_counter_df)\n",
    "    \n",
    "    m_window_counter_df = pd.concat(result, axis=1, keys=box_arr, names=['Box Number', 'Columns'])\n",
    "    \n",
    "    return m_window_counter_df"
   ]
  },
  {
   "cell_type": "code",
   "execution_count": 25,
   "metadata": {},
   "outputs": [],
   "source": [
    "# window = ['7529', '8529', '9529']\n",
    "# # counts_during_window(test_m_parsed_dt_df, start_parsetime, window)\n"
   ]
  },
  {
   "cell_type": "markdown",
   "metadata": {},
   "source": [
    "<a href='#Function List'>Back to List of Functions</a>"
   ]
  },
  {
   "cell_type": "markdown",
   "metadata": {},
   "source": [
    "<a id='count_events'></a>\n",
    "\n",
    "**2: count_events (m_parsed_dt_df, start_parsetime, code_of_interest):**\n",
    "- **:m_parsed_dt_df:** multilevel dataframe PARSED by inputted time window\n",
    "- **:start_parsetime:** start of parsetime $\\rightarrow$ date for metrics gets extracted from here! \n",
    "- **:code_of_interest:** list of event codes to count\n",
    "- **:returns:** `m_event_counter_df`: multilevel event counter dataframe with event code as index"
   ]
  },
  {
   "cell_type": "code",
   "execution_count": 26,
   "metadata": {},
   "outputs": [],
   "source": [
    "\n",
    "def count_events(m_parsed_dt_df, start_parsetime, code_of_interest):\n",
    "    result = []; box_arr = list(m_parsed_dt_df.columns.levels[0])\n",
    "    # No need to check for ValueError (length of boxes in dict and dataframe since it's already been checked once above)\n",
    "\n",
    "    for i in range(len(box_arr)):  # for all the boxes, (outermost index is box number)\n",
    "        box_num = box_arr[i]\n",
    "        ind_df = m_parsed_dt_df.loc[:, box_num]  # individual dataframe\n",
    "        \n",
    "        # individual dataframe!! \n",
    "        ind_df = ind_df.dropna(how='all')\n",
    "        \n",
    "        # filtered by the event codes in the array: \n",
    "        filtered = ind_df[ind_df.event_code.isin(code_of_interest)]\n",
    "        \n",
    "        # # Use (length of the index array at which dataframe evals to true) to count # of event occurences\n",
    "        # # This method will be more robust (logic similar to np.where()) and generalizable \n",
    "        left = len(filtered[filtered.event_code == code_of_interest[0]].index)\n",
    "        middle = len(filtered[filtered.event_code == code_of_interest[1]].index)\n",
    "        right = len(filtered[filtered.event_code == code_of_interest[2]].index)\n",
    "        total = left + middle + right\n",
    "        \n",
    "        # date \n",
    "        m_date = start_parsetime[5:10]  # Use parsetime value to extract dates! (since each file can have data for multiple days )\n",
    "        # Metric Code: will become the name of index (for dataframe)\n",
    "        metric_code = m_date + \" event_cts: x\" + code_of_interest[0][-3:]  # last three digits of event_code\n",
    "        \n",
    "        event_counter_df = pd.DataFrame([[left, middle, right, total]], index=[metric_code], columns=['Left','Middle','Right', 'Total'])\n",
    "        result.append(event_counter_df)\n",
    "            \n",
    "    m_event_counter_df = pd.concat(result, axis=1, keys=box_arr, names=['Box Number', 'Columns'])\n",
    "    \n",
    "    return m_event_counter_df\n",
    "    "
   ]
  },
  {
   "cell_type": "code",
   "execution_count": 27,
   "metadata": {},
   "outputs": [
    {
     "data": {
      "text/html": [
       "<div>\n",
       "<style scoped>\n",
       "    .dataframe tbody tr th:only-of-type {\n",
       "        vertical-align: middle;\n",
       "    }\n",
       "\n",
       "    .dataframe tbody tr th {\n",
       "        vertical-align: top;\n",
       "    }\n",
       "\n",
       "    .dataframe thead tr th {\n",
       "        text-align: left;\n",
       "    }\n",
       "</style>\n",
       "<table border=\"1\" class=\"dataframe\">\n",
       "  <thead>\n",
       "    <tr>\n",
       "      <th>Box Number</th>\n",
       "      <th colspan=\"4\" halign=\"left\">1</th>\n",
       "      <th colspan=\"4\" halign=\"left\">2</th>\n",
       "      <th colspan=\"2\" halign=\"left\">3</th>\n",
       "      <th>...</th>\n",
       "      <th colspan=\"2\" halign=\"left\">8</th>\n",
       "      <th colspan=\"4\" halign=\"left\">9</th>\n",
       "      <th colspan=\"4\" halign=\"left\">10</th>\n",
       "    </tr>\n",
       "    <tr>\n",
       "      <th>Columns</th>\n",
       "      <th>Left</th>\n",
       "      <th>Middle</th>\n",
       "      <th>Right</th>\n",
       "      <th>Total</th>\n",
       "      <th>Left</th>\n",
       "      <th>Middle</th>\n",
       "      <th>Right</th>\n",
       "      <th>Total</th>\n",
       "      <th>Left</th>\n",
       "      <th>Middle</th>\n",
       "      <th>...</th>\n",
       "      <th>Right</th>\n",
       "      <th>Total</th>\n",
       "      <th>Left</th>\n",
       "      <th>Middle</th>\n",
       "      <th>Right</th>\n",
       "      <th>Total</th>\n",
       "      <th>Left</th>\n",
       "      <th>Middle</th>\n",
       "      <th>Right</th>\n",
       "      <th>Total</th>\n",
       "    </tr>\n",
       "  </thead>\n",
       "  <tbody>\n",
       "    <tr>\n",
       "      <th>09/20 event_cts: x540</th>\n",
       "      <td>0</td>\n",
       "      <td>0</td>\n",
       "      <td>0</td>\n",
       "      <td>0</td>\n",
       "      <td>0</td>\n",
       "      <td>0</td>\n",
       "      <td>0</td>\n",
       "      <td>0</td>\n",
       "      <td>0</td>\n",
       "      <td>0</td>\n",
       "      <td>...</td>\n",
       "      <td>0</td>\n",
       "      <td>0</td>\n",
       "      <td>0</td>\n",
       "      <td>0</td>\n",
       "      <td>0</td>\n",
       "      <td>0</td>\n",
       "      <td>0</td>\n",
       "      <td>0</td>\n",
       "      <td>0</td>\n",
       "      <td>0</td>\n",
       "    </tr>\n",
       "  </tbody>\n",
       "</table>\n",
       "<p>1 rows × 40 columns</p>\n",
       "</div>"
      ],
      "text/plain": [
       "Box Number               1                       2                       3  \\\n",
       "Columns               Left Middle Right Total Left Middle Right Total Left   \n",
       "09/20 event_cts: x540    0      0     0     0    0      0     0     0    0   \n",
       "\n",
       "Box Number                    ...     8          9                      10  \\\n",
       "Columns               Middle  ... Right Total Left Middle Right Total Left   \n",
       "09/20 event_cts: x540      0  ...     0     0    0      0     0     0    0   \n",
       "\n",
       "Box Number                                \n",
       "Columns               Middle Right Total  \n",
       "09/20 event_cts: x540      0     0     0  \n",
       "\n",
       "[1 rows x 40 columns]"
      ]
     },
     "execution_count": 27,
     "metadata": {},
     "output_type": "execute_result"
    }
   ],
   "source": [
    "# # Omission Trial Counts\n",
    "omission_trials = ['7540','8540','9540']\n",
    "count_events(test_m_parsed_dt_df, start_parsetime, omission_trials)\n"
   ]
  },
  {
   "cell_type": "markdown",
   "metadata": {},
   "source": [
    "<a href='#Function List'>Back to List of Functions</a>"
   ]
  },
  {
   "cell_type": "markdown",
   "metadata": {},
   "source": [
    "<a href='#Table of Contents'>Back to Table of Contents</a>"
   ]
  },
  {
   "cell_type": "markdown",
   "metadata": {},
   "source": [
    "<a id='data wrangling'></a>\n",
    "___\n",
    "### 2. Initial Data Wrangling "
   ]
  },
  {
   "cell_type": "markdown",
   "metadata": {},
   "source": [
    "**Import Basic Libraries**"
   ]
  },
  {
   "cell_type": "code",
   "execution_count": 28,
   "metadata": {},
   "outputs": [],
   "source": [
    "# import os\n",
    "import numpy as np\n",
    "import pandas as pd\n",
    "from datetime import datetime\n",
    "import matplotlib.pyplot as plt \n",
    "import seaborn as sns"
   ]
  },
  {
   "cell_type": "markdown",
   "metadata": {},
   "source": [
    "<a href='#Event Code'>Event Codes</a> (Run this First!!)"
   ]
  },
  {
   "cell_type": "markdown",
   "metadata": {},
   "source": [
    "**Run the final Wrapper Function**"
   ]
  },
  {
   "cell_type": "markdown",
   "metadata": {},
   "source": [
    "<a href='#Table of Contents'>Back to Table of Contents</a>"
   ]
  },
  {
   "cell_type": "code",
   "execution_count": 92,
   "metadata": {},
   "outputs": [],
   "source": [
    "# Use this for Port Habituation + Continuous Cue + RFC  (paradigms that don't have counter columns) - single : \n",
    "columns = ['event_string', 'event_code', 'timestamp']   # Including event_string is up to user's choice! \n",
    "\n",
    "\n",
    "file = \"../0923 TIR.csv\"      # Change Here! \n",
    "\n",
    "test_multi_df = pd.read_csv(file, header=[0,1], index_col=[0])\n",
    "m_head_dict = return_multi_header_dict(test_multi_df)\n",
    " "
   ]
  },
  {
   "cell_type": "code",
   "execution_count": 93,
   "metadata": {},
   "outputs": [
    {
     "name": "stdout",
     "output_type": "stream",
     "text": [
      "09/21/2019\n",
      "14-40-17\n",
      "09/23/2019\n",
      "09-27-40\n"
     ]
    }
   ],
   "source": [
    "print(m_head_dict['1']['Start Date'])\n",
    "print(m_head_dict['1']['Start Time'])\n",
    "print(m_head_dict['1']['End Date'])\n",
    "print(m_head_dict['1']['End Time'])"
   ]
  },
  {
   "cell_type": "code",
   "execution_count": 101,
   "metadata": {},
   "outputs": [],
   "source": [
    "# # # Arguments \n",
    "\n",
    "# Use this for Port Habituation + Continuous Cue + RFC  (paradigms that don't have counter columns) - single : \n",
    "columns = ['event_string', 'event_code', 'timestamp']   # Including event_string is up to user's choice! \n",
    "\n",
    "\n",
    "file = \"../0921-0922 RFC.csv\"      # Change Here! \n",
    " \n",
    "start_parsetime = '2019/09/22 15:00'    # Change Here! \n",
    "end_parsetime = '2019/09/23 09:00'      # Change Here! \n",
    "\n",
    "\n",
    "# # Final Function \n",
    "(m_head_dict, m_parsed_dt_df) = final_m_header_and_parsed_dt_df(file, columns, start_parsetime, end_parsetime)\n",
    " \n"
   ]
  },
  {
   "cell_type": "code",
   "execution_count": 95,
   "metadata": {},
   "outputs": [],
   "source": [
    "# m_parsed_dt_df"
   ]
  },
  {
   "cell_type": "markdown",
   "metadata": {},
   "source": [
    "<a href='#final wrapper function'>To Final Wrapper Function</a>"
   ]
  },
  {
   "cell_type": "markdown",
   "metadata": {},
   "source": [
    "<a id='metric output'></a>\n",
    "___\n",
    "### 3. Metric Outputs"
   ]
  },
  {
   "cell_type": "code",
   "execution_count": 102,
   "metadata": {},
   "outputs": [
    {
     "data": {
      "text/html": [
       "<div>\n",
       "<style scoped>\n",
       "    .dataframe tbody tr th:only-of-type {\n",
       "        vertical-align: middle;\n",
       "    }\n",
       "\n",
       "    .dataframe tbody tr th {\n",
       "        vertical-align: top;\n",
       "    }\n",
       "\n",
       "    .dataframe thead tr th {\n",
       "        text-align: left;\n",
       "    }\n",
       "</style>\n",
       "<table border=\"1\" class=\"dataframe\">\n",
       "  <thead>\n",
       "    <tr>\n",
       "      <th>Box Number</th>\n",
       "      <th colspan=\"4\" halign=\"left\">1</th>\n",
       "      <th colspan=\"4\" halign=\"left\">2</th>\n",
       "      <th colspan=\"4\" halign=\"left\">3</th>\n",
       "      <th colspan=\"4\" halign=\"left\">4</th>\n",
       "      <th colspan=\"4\" halign=\"left\">5</th>\n",
       "      <th colspan=\"4\" halign=\"left\">6</th>\n",
       "      <th colspan=\"4\" halign=\"left\">7</th>\n",
       "      <th colspan=\"4\" halign=\"left\">8</th>\n",
       "      <th colspan=\"4\" halign=\"left\">9</th>\n",
       "      <th colspan=\"4\" halign=\"left\">10</th>\n",
       "    </tr>\n",
       "    <tr>\n",
       "      <th>Columns</th>\n",
       "      <th>Left</th>\n",
       "      <th>Middle</th>\n",
       "      <th>Right</th>\n",
       "      <th>Total</th>\n",
       "      <th>Left</th>\n",
       "      <th>Middle</th>\n",
       "      <th>Right</th>\n",
       "      <th>Total</th>\n",
       "      <th>Left</th>\n",
       "      <th>Middle</th>\n",
       "      <th>Right</th>\n",
       "      <th>Total</th>\n",
       "      <th>Left</th>\n",
       "      <th>Middle</th>\n",
       "      <th>Right</th>\n",
       "      <th>Total</th>\n",
       "      <th>Left</th>\n",
       "      <th>Middle</th>\n",
       "      <th>Right</th>\n",
       "      <th>Total</th>\n",
       "      <th>Left</th>\n",
       "      <th>Middle</th>\n",
       "      <th>Right</th>\n",
       "      <th>Total</th>\n",
       "      <th>Left</th>\n",
       "      <th>Middle</th>\n",
       "      <th>Right</th>\n",
       "      <th>Total</th>\n",
       "      <th>Left</th>\n",
       "      <th>Middle</th>\n",
       "      <th>Right</th>\n",
       "      <th>Total</th>\n",
       "      <th>Left</th>\n",
       "      <th>Middle</th>\n",
       "      <th>Right</th>\n",
       "      <th>Total</th>\n",
       "      <th>Left</th>\n",
       "      <th>Middle</th>\n",
       "      <th>Right</th>\n",
       "      <th>Total</th>\n",
       "    </tr>\n",
       "  </thead>\n",
       "  <tbody>\n",
       "    <tr>\n",
       "      <th>09/22 event_cts: x071</th>\n",
       "      <td>198</td>\n",
       "      <td>371</td>\n",
       "      <td>211</td>\n",
       "      <td>780</td>\n",
       "      <td>118</td>\n",
       "      <td>119</td>\n",
       "      <td>97</td>\n",
       "      <td>334</td>\n",
       "      <td>105</td>\n",
       "      <td>119</td>\n",
       "      <td>148</td>\n",
       "      <td>372</td>\n",
       "      <td>393</td>\n",
       "      <td>137</td>\n",
       "      <td>137</td>\n",
       "      <td>667</td>\n",
       "      <td>258</td>\n",
       "      <td>99</td>\n",
       "      <td>112</td>\n",
       "      <td>469</td>\n",
       "      <td>355</td>\n",
       "      <td>423</td>\n",
       "      <td>312</td>\n",
       "      <td>1090</td>\n",
       "      <td>323</td>\n",
       "      <td>312</td>\n",
       "      <td>240</td>\n",
       "      <td>875</td>\n",
       "      <td>204</td>\n",
       "      <td>286</td>\n",
       "      <td>211</td>\n",
       "      <td>701</td>\n",
       "      <td>239</td>\n",
       "      <td>283</td>\n",
       "      <td>212</td>\n",
       "      <td>734</td>\n",
       "      <td>173</td>\n",
       "      <td>264</td>\n",
       "      <td>171</td>\n",
       "      <td>608</td>\n",
       "    </tr>\n",
       "  </tbody>\n",
       "</table>\n",
       "</div>"
      ],
      "text/plain": [
       "Box Number               1                       2                       3  \\\n",
       "Columns               Left Middle Right Total Left Middle Right Total Left   \n",
       "09/22 event_cts: x071  198    371   211   780  118    119    97   334  105   \n",
       "\n",
       "Box Number                                  4                       5         \\\n",
       "Columns               Middle Right Total Left Middle Right Total Left Middle   \n",
       "09/22 event_cts: x071    119   148   372  393    137   137   667  258     99   \n",
       "\n",
       "Box Number                           6                       7               \\\n",
       "Columns               Right Total Left Middle Right Total Left Middle Right   \n",
       "09/22 event_cts: x071   112   469  355    423   312  1090  323    312   240   \n",
       "\n",
       "Box Number                     8                       9                     \\\n",
       "Columns               Total Left Middle Right Total Left Middle Right Total   \n",
       "09/22 event_cts: x071   875  204    286   211   701  239    283   212   734   \n",
       "\n",
       "Box Number              10                     \n",
       "Columns               Left Middle Right Total  \n",
       "09/22 event_cts: x071  173    264   171   608  "
      ]
     },
     "execution_count": 102,
     "metadata": {},
     "output_type": "execute_result"
    }
   ],
   "source": [
    "# # Total Poke Counts\n",
    "total_pokes = ['7071','8071','9071']\n",
    "total_poke_count = count_events(m_parsed_dt_df, start_parsetime, total_pokes)\n",
    "total_poke_count"
   ]
  },
  {
   "cell_type": "code",
   "execution_count": 103,
   "metadata": {},
   "outputs": [
    {
     "data": {
      "text/html": [
       "<div>\n",
       "<style scoped>\n",
       "    .dataframe tbody tr th:only-of-type {\n",
       "        vertical-align: middle;\n",
       "    }\n",
       "\n",
       "    .dataframe tbody tr th {\n",
       "        vertical-align: top;\n",
       "    }\n",
       "\n",
       "    .dataframe thead tr th {\n",
       "        text-align: left;\n",
       "    }\n",
       "</style>\n",
       "<table border=\"1\" class=\"dataframe\">\n",
       "  <thead>\n",
       "    <tr>\n",
       "      <th>Box Number</th>\n",
       "      <th colspan=\"4\" halign=\"left\">1</th>\n",
       "      <th colspan=\"4\" halign=\"left\">2</th>\n",
       "      <th colspan=\"4\" halign=\"left\">3</th>\n",
       "      <th colspan=\"4\" halign=\"left\">4</th>\n",
       "      <th colspan=\"4\" halign=\"left\">5</th>\n",
       "      <th colspan=\"4\" halign=\"left\">6</th>\n",
       "      <th colspan=\"4\" halign=\"left\">7</th>\n",
       "      <th colspan=\"4\" halign=\"left\">8</th>\n",
       "      <th colspan=\"4\" halign=\"left\">9</th>\n",
       "      <th colspan=\"4\" halign=\"left\">10</th>\n",
       "    </tr>\n",
       "    <tr>\n",
       "      <th>Columns</th>\n",
       "      <th>Left</th>\n",
       "      <th>Middle</th>\n",
       "      <th>Right</th>\n",
       "      <th>Total</th>\n",
       "      <th>Left</th>\n",
       "      <th>Middle</th>\n",
       "      <th>Right</th>\n",
       "      <th>Total</th>\n",
       "      <th>Left</th>\n",
       "      <th>Middle</th>\n",
       "      <th>Right</th>\n",
       "      <th>Total</th>\n",
       "      <th>Left</th>\n",
       "      <th>Middle</th>\n",
       "      <th>Right</th>\n",
       "      <th>Total</th>\n",
       "      <th>Left</th>\n",
       "      <th>Middle</th>\n",
       "      <th>Right</th>\n",
       "      <th>Total</th>\n",
       "      <th>Left</th>\n",
       "      <th>Middle</th>\n",
       "      <th>Right</th>\n",
       "      <th>Total</th>\n",
       "      <th>Left</th>\n",
       "      <th>Middle</th>\n",
       "      <th>Right</th>\n",
       "      <th>Total</th>\n",
       "      <th>Left</th>\n",
       "      <th>Middle</th>\n",
       "      <th>Right</th>\n",
       "      <th>Total</th>\n",
       "      <th>Left</th>\n",
       "      <th>Middle</th>\n",
       "      <th>Right</th>\n",
       "      <th>Total</th>\n",
       "      <th>Left</th>\n",
       "      <th>Middle</th>\n",
       "      <th>Right</th>\n",
       "      <th>Total</th>\n",
       "    </tr>\n",
       "  </thead>\n",
       "  <tbody>\n",
       "    <tr>\n",
       "      <th>09/22 event_cts: x271</th>\n",
       "      <td>78</td>\n",
       "      <td>87</td>\n",
       "      <td>84</td>\n",
       "      <td>249</td>\n",
       "      <td>78</td>\n",
       "      <td>81</td>\n",
       "      <td>80</td>\n",
       "      <td>239</td>\n",
       "      <td>101</td>\n",
       "      <td>104</td>\n",
       "      <td>97</td>\n",
       "      <td>302</td>\n",
       "      <td>76</td>\n",
       "      <td>68</td>\n",
       "      <td>62</td>\n",
       "      <td>206</td>\n",
       "      <td>84</td>\n",
       "      <td>82</td>\n",
       "      <td>80</td>\n",
       "      <td>246</td>\n",
       "      <td>113</td>\n",
       "      <td>115</td>\n",
       "      <td>117</td>\n",
       "      <td>345</td>\n",
       "      <td>114</td>\n",
       "      <td>105</td>\n",
       "      <td>115</td>\n",
       "      <td>334</td>\n",
       "      <td>84</td>\n",
       "      <td>88</td>\n",
       "      <td>81</td>\n",
       "      <td>253</td>\n",
       "      <td>76</td>\n",
       "      <td>85</td>\n",
       "      <td>81</td>\n",
       "      <td>242</td>\n",
       "      <td>121</td>\n",
       "      <td>137</td>\n",
       "      <td>133</td>\n",
       "      <td>391</td>\n",
       "    </tr>\n",
       "  </tbody>\n",
       "</table>\n",
       "</div>"
      ],
      "text/plain": [
       "Box Number               1                       2                       3  \\\n",
       "Columns               Left Middle Right Total Left Middle Right Total Left   \n",
       "09/22 event_cts: x271   78     87    84   249   78     81    80   239  101   \n",
       "\n",
       "Box Number                                  4                       5         \\\n",
       "Columns               Middle Right Total Left Middle Right Total Left Middle   \n",
       "09/22 event_cts: x271    104    97   302   76     68    62   206   84     82   \n",
       "\n",
       "Box Number                           6                       7               \\\n",
       "Columns               Right Total Left Middle Right Total Left Middle Right   \n",
       "09/22 event_cts: x271    80   246  113    115   117   345  114    105   115   \n",
       "\n",
       "Box Number                     8                       9                     \\\n",
       "Columns               Total Left Middle Right Total Left Middle Right Total   \n",
       "09/22 event_cts: x271   334   84     88    81   253   76     85    81   242   \n",
       "\n",
       "Box Number              10                     \n",
       "Columns               Left Middle Right Total  \n",
       "09/22 event_cts: x271  121    137   133   391  "
      ]
     },
     "execution_count": 103,
     "metadata": {},
     "output_type": "execute_result"
    }
   ],
   "source": [
    "# # Reward Counts\n",
    "reward_trials = ['7271','8271','9271']  # Solenoid Counts\n",
    "reward_count = count_events(m_parsed_dt_df, start_parsetime, reward_trials)\n",
    "reward_count"
   ]
  },
  {
   "cell_type": "code",
   "execution_count": 104,
   "metadata": {},
   "outputs": [
    {
     "data": {
      "text/html": [
       "<div>\n",
       "<style scoped>\n",
       "    .dataframe tbody tr th:only-of-type {\n",
       "        vertical-align: middle;\n",
       "    }\n",
       "\n",
       "    .dataframe tbody tr th {\n",
       "        vertical-align: top;\n",
       "    }\n",
       "\n",
       "    .dataframe thead tr th {\n",
       "        text-align: left;\n",
       "    }\n",
       "</style>\n",
       "<table border=\"1\" class=\"dataframe\">\n",
       "  <thead>\n",
       "    <tr>\n",
       "      <th>Box Number</th>\n",
       "      <th colspan=\"4\" halign=\"left\">1</th>\n",
       "      <th colspan=\"4\" halign=\"left\">2</th>\n",
       "      <th colspan=\"4\" halign=\"left\">3</th>\n",
       "      <th colspan=\"4\" halign=\"left\">4</th>\n",
       "      <th colspan=\"4\" halign=\"left\">5</th>\n",
       "      <th colspan=\"4\" halign=\"left\">6</th>\n",
       "      <th colspan=\"4\" halign=\"left\">7</th>\n",
       "      <th colspan=\"4\" halign=\"left\">8</th>\n",
       "      <th colspan=\"4\" halign=\"left\">9</th>\n",
       "      <th colspan=\"4\" halign=\"left\">10</th>\n",
       "    </tr>\n",
       "    <tr>\n",
       "      <th>Columns</th>\n",
       "      <th>Left</th>\n",
       "      <th>Middle</th>\n",
       "      <th>Right</th>\n",
       "      <th>Total</th>\n",
       "      <th>Left</th>\n",
       "      <th>Middle</th>\n",
       "      <th>Right</th>\n",
       "      <th>Total</th>\n",
       "      <th>Left</th>\n",
       "      <th>Middle</th>\n",
       "      <th>Right</th>\n",
       "      <th>Total</th>\n",
       "      <th>Left</th>\n",
       "      <th>Middle</th>\n",
       "      <th>Right</th>\n",
       "      <th>Total</th>\n",
       "      <th>Left</th>\n",
       "      <th>Middle</th>\n",
       "      <th>Right</th>\n",
       "      <th>Total</th>\n",
       "      <th>Left</th>\n",
       "      <th>Middle</th>\n",
       "      <th>Right</th>\n",
       "      <th>Total</th>\n",
       "      <th>Left</th>\n",
       "      <th>Middle</th>\n",
       "      <th>Right</th>\n",
       "      <th>Total</th>\n",
       "      <th>Left</th>\n",
       "      <th>Middle</th>\n",
       "      <th>Right</th>\n",
       "      <th>Total</th>\n",
       "      <th>Left</th>\n",
       "      <th>Middle</th>\n",
       "      <th>Right</th>\n",
       "      <th>Total</th>\n",
       "      <th>Left</th>\n",
       "      <th>Middle</th>\n",
       "      <th>Right</th>\n",
       "      <th>Total</th>\n",
       "    </tr>\n",
       "  </thead>\n",
       "  <tbody>\n",
       "    <tr>\n",
       "      <th>09/22 event_cts: x171</th>\n",
       "      <td>78</td>\n",
       "      <td>87</td>\n",
       "      <td>84</td>\n",
       "      <td>249</td>\n",
       "      <td>78</td>\n",
       "      <td>80</td>\n",
       "      <td>81</td>\n",
       "      <td>239</td>\n",
       "      <td>100</td>\n",
       "      <td>105</td>\n",
       "      <td>97</td>\n",
       "      <td>302</td>\n",
       "      <td>77</td>\n",
       "      <td>68</td>\n",
       "      <td>61</td>\n",
       "      <td>206</td>\n",
       "      <td>84</td>\n",
       "      <td>82</td>\n",
       "      <td>80</td>\n",
       "      <td>246</td>\n",
       "      <td>113</td>\n",
       "      <td>115</td>\n",
       "      <td>117</td>\n",
       "      <td>345</td>\n",
       "      <td>115</td>\n",
       "      <td>104</td>\n",
       "      <td>115</td>\n",
       "      <td>334</td>\n",
       "      <td>85</td>\n",
       "      <td>88</td>\n",
       "      <td>80</td>\n",
       "      <td>253</td>\n",
       "      <td>76</td>\n",
       "      <td>85</td>\n",
       "      <td>81</td>\n",
       "      <td>242</td>\n",
       "      <td>122</td>\n",
       "      <td>136</td>\n",
       "      <td>133</td>\n",
       "      <td>391</td>\n",
       "    </tr>\n",
       "  </tbody>\n",
       "</table>\n",
       "</div>"
      ],
      "text/plain": [
       "Box Number               1                       2                       3  \\\n",
       "Columns               Left Middle Right Total Left Middle Right Total Left   \n",
       "09/22 event_cts: x171   78     87    84   249   78     80    81   239  100   \n",
       "\n",
       "Box Number                                  4                       5         \\\n",
       "Columns               Middle Right Total Left Middle Right Total Left Middle   \n",
       "09/22 event_cts: x171    105    97   302   77     68    61   206   84     82   \n",
       "\n",
       "Box Number                           6                       7               \\\n",
       "Columns               Right Total Left Middle Right Total Left Middle Right   \n",
       "09/22 event_cts: x171    80   246  113    115   117   345  115    104   115   \n",
       "\n",
       "Box Number                     8                       9                     \\\n",
       "Columns               Total Left Middle Right Total Left Middle Right Total   \n",
       "09/22 event_cts: x171   334   85     88    80   253   76     85    81   242   \n",
       "\n",
       "Box Number              10                     \n",
       "Columns               Left Middle Right Total  \n",
       "09/22 event_cts: x171  122    136   133   391  "
      ]
     },
     "execution_count": 104,
     "metadata": {},
     "output_type": "execute_result"
    }
   ],
   "source": [
    "# # LED on Counts\n",
    "led_trials = ['7171','8171','9171']  # Solenoid Counts\n",
    "led_count = count_events(m_parsed_dt_df, start_parsetime, led_trials)\n",
    "led_count"
   ]
  },
  {
   "cell_type": "code",
   "execution_count": null,
   "metadata": {},
   "outputs": [],
   "source": []
  },
  {
   "cell_type": "markdown",
   "metadata": {},
   "source": [
    "<a href='#Table of Contents'>Back to Table of Contents</a>"
   ]
  },
  {
   "cell_type": "code",
   "execution_count": null,
   "metadata": {},
   "outputs": [],
   "source": []
  },
  {
   "cell_type": "markdown",
   "metadata": {},
   "source": [
    "<a id='metric checkpoint'></a>\n",
    "___\n",
    "### 4. Save Metric Output to CSV (Checkpoint)"
   ]
  },
  {
   "cell_type": "markdown",
   "metadata": {},
   "source": [
    "#### Concatenated Metric Output"
   ]
  },
  {
   "cell_type": "code",
   "execution_count": 105,
   "metadata": {},
   "outputs": [
    {
     "data": {
      "text/html": [
       "<div>\n",
       "<style scoped>\n",
       "    .dataframe tbody tr th:only-of-type {\n",
       "        vertical-align: middle;\n",
       "    }\n",
       "\n",
       "    .dataframe tbody tr th {\n",
       "        vertical-align: top;\n",
       "    }\n",
       "\n",
       "    .dataframe thead tr th {\n",
       "        text-align: left;\n",
       "    }\n",
       "</style>\n",
       "<table border=\"1\" class=\"dataframe\">\n",
       "  <thead>\n",
       "    <tr>\n",
       "      <th>Box Number</th>\n",
       "      <th colspan=\"4\" halign=\"left\">1</th>\n",
       "      <th colspan=\"4\" halign=\"left\">2</th>\n",
       "      <th colspan=\"4\" halign=\"left\">3</th>\n",
       "      <th colspan=\"4\" halign=\"left\">4</th>\n",
       "      <th colspan=\"4\" halign=\"left\">5</th>\n",
       "      <th colspan=\"4\" halign=\"left\">6</th>\n",
       "      <th colspan=\"4\" halign=\"left\">7</th>\n",
       "      <th colspan=\"4\" halign=\"left\">8</th>\n",
       "      <th colspan=\"4\" halign=\"left\">9</th>\n",
       "      <th colspan=\"4\" halign=\"left\">10</th>\n",
       "    </tr>\n",
       "    <tr>\n",
       "      <th>Columns</th>\n",
       "      <th>Left</th>\n",
       "      <th>Middle</th>\n",
       "      <th>Right</th>\n",
       "      <th>Total</th>\n",
       "      <th>Left</th>\n",
       "      <th>Middle</th>\n",
       "      <th>Right</th>\n",
       "      <th>Total</th>\n",
       "      <th>Left</th>\n",
       "      <th>Middle</th>\n",
       "      <th>Right</th>\n",
       "      <th>Total</th>\n",
       "      <th>Left</th>\n",
       "      <th>Middle</th>\n",
       "      <th>Right</th>\n",
       "      <th>Total</th>\n",
       "      <th>Left</th>\n",
       "      <th>Middle</th>\n",
       "      <th>Right</th>\n",
       "      <th>Total</th>\n",
       "      <th>Left</th>\n",
       "      <th>Middle</th>\n",
       "      <th>Right</th>\n",
       "      <th>Total</th>\n",
       "      <th>Left</th>\n",
       "      <th>Middle</th>\n",
       "      <th>Right</th>\n",
       "      <th>Total</th>\n",
       "      <th>Left</th>\n",
       "      <th>Middle</th>\n",
       "      <th>Right</th>\n",
       "      <th>Total</th>\n",
       "      <th>Left</th>\n",
       "      <th>Middle</th>\n",
       "      <th>Right</th>\n",
       "      <th>Total</th>\n",
       "      <th>Left</th>\n",
       "      <th>Middle</th>\n",
       "      <th>Right</th>\n",
       "      <th>Total</th>\n",
       "    </tr>\n",
       "  </thead>\n",
       "  <tbody>\n",
       "    <tr>\n",
       "      <th>09/22 event_cts: x071</th>\n",
       "      <td>198</td>\n",
       "      <td>371</td>\n",
       "      <td>211</td>\n",
       "      <td>780</td>\n",
       "      <td>118</td>\n",
       "      <td>119</td>\n",
       "      <td>97</td>\n",
       "      <td>334</td>\n",
       "      <td>105</td>\n",
       "      <td>119</td>\n",
       "      <td>148</td>\n",
       "      <td>372</td>\n",
       "      <td>393</td>\n",
       "      <td>137</td>\n",
       "      <td>137</td>\n",
       "      <td>667</td>\n",
       "      <td>258</td>\n",
       "      <td>99</td>\n",
       "      <td>112</td>\n",
       "      <td>469</td>\n",
       "      <td>355</td>\n",
       "      <td>423</td>\n",
       "      <td>312</td>\n",
       "      <td>1090</td>\n",
       "      <td>323</td>\n",
       "      <td>312</td>\n",
       "      <td>240</td>\n",
       "      <td>875</td>\n",
       "      <td>204</td>\n",
       "      <td>286</td>\n",
       "      <td>211</td>\n",
       "      <td>701</td>\n",
       "      <td>239</td>\n",
       "      <td>283</td>\n",
       "      <td>212</td>\n",
       "      <td>734</td>\n",
       "      <td>173</td>\n",
       "      <td>264</td>\n",
       "      <td>171</td>\n",
       "      <td>608</td>\n",
       "    </tr>\n",
       "    <tr>\n",
       "      <th>09/22 event_cts: x271</th>\n",
       "      <td>78</td>\n",
       "      <td>87</td>\n",
       "      <td>84</td>\n",
       "      <td>249</td>\n",
       "      <td>78</td>\n",
       "      <td>81</td>\n",
       "      <td>80</td>\n",
       "      <td>239</td>\n",
       "      <td>101</td>\n",
       "      <td>104</td>\n",
       "      <td>97</td>\n",
       "      <td>302</td>\n",
       "      <td>76</td>\n",
       "      <td>68</td>\n",
       "      <td>62</td>\n",
       "      <td>206</td>\n",
       "      <td>84</td>\n",
       "      <td>82</td>\n",
       "      <td>80</td>\n",
       "      <td>246</td>\n",
       "      <td>113</td>\n",
       "      <td>115</td>\n",
       "      <td>117</td>\n",
       "      <td>345</td>\n",
       "      <td>114</td>\n",
       "      <td>105</td>\n",
       "      <td>115</td>\n",
       "      <td>334</td>\n",
       "      <td>84</td>\n",
       "      <td>88</td>\n",
       "      <td>81</td>\n",
       "      <td>253</td>\n",
       "      <td>76</td>\n",
       "      <td>85</td>\n",
       "      <td>81</td>\n",
       "      <td>242</td>\n",
       "      <td>121</td>\n",
       "      <td>137</td>\n",
       "      <td>133</td>\n",
       "      <td>391</td>\n",
       "    </tr>\n",
       "  </tbody>\n",
       "</table>\n",
       "</div>"
      ],
      "text/plain": [
       "Box Number               1                       2                       3  \\\n",
       "Columns               Left Middle Right Total Left Middle Right Total Left   \n",
       "09/22 event_cts: x071  198    371   211   780  118    119    97   334  105   \n",
       "09/22 event_cts: x271   78     87    84   249   78     81    80   239  101   \n",
       "\n",
       "Box Number                                  4                       5         \\\n",
       "Columns               Middle Right Total Left Middle Right Total Left Middle   \n",
       "09/22 event_cts: x071    119   148   372  393    137   137   667  258     99   \n",
       "09/22 event_cts: x271    104    97   302   76     68    62   206   84     82   \n",
       "\n",
       "Box Number                           6                       7               \\\n",
       "Columns               Right Total Left Middle Right Total Left Middle Right   \n",
       "09/22 event_cts: x071   112   469  355    423   312  1090  323    312   240   \n",
       "09/22 event_cts: x271    80   246  113    115   117   345  114    105   115   \n",
       "\n",
       "Box Number                     8                       9                     \\\n",
       "Columns               Total Left Middle Right Total Left Middle Right Total   \n",
       "09/22 event_cts: x071   875  204    286   211   701  239    283   212   734   \n",
       "09/22 event_cts: x271   334   84     88    81   253   76     85    81   242   \n",
       "\n",
       "Box Number              10                     \n",
       "Columns               Left Middle Right Total  \n",
       "09/22 event_cts: x071  173    264   171   608  \n",
       "09/22 event_cts: x271  121    137   133   391  "
      ]
     },
     "execution_count": 105,
     "metadata": {},
     "output_type": "execute_result"
    }
   ],
   "source": [
    "# # Add Metrics / Change the dataframe title as you wish \n",
    "\n",
    "pd.set_option('display.max_columns', 500)\n",
    "rfc = pd.concat([total_poke_count, reward_count])  # 'Total Poke' equals 'reward count'\n",
    "rfc"
   ]
  },
  {
   "cell_type": "code",
   "execution_count": null,
   "metadata": {},
   "outputs": [],
   "source": []
  },
  {
   "cell_type": "markdown",
   "metadata": {},
   "source": [
    "**Save the metrics into the directory - Make sure to check the date in title!!**"
   ]
  },
  {
   "cell_type": "code",
   "execution_count": 106,
   "metadata": {},
   "outputs": [],
   "source": [
    "rfc.to_csv(\"Final_Metrics/23hrs/0922_RFC_15-14.csv\")"
   ]
  },
  {
   "cell_type": "markdown",
   "metadata": {},
   "source": [
    "<a href='#Table of Contents'>Back to Table of Contents</a>"
   ]
  },
  {
   "cell_type": "code",
   "execution_count": null,
   "metadata": {},
   "outputs": [],
   "source": []
  },
  {
   "cell_type": "markdown",
   "metadata": {},
   "source": [
    "<a id='Event Code'></a>\n",
    "___\n",
    "### Appendix:\n",
    "\n",
    "***Event Codes***"
   ]
  },
  {
   "cell_type": "code",
   "execution_count": 10,
   "metadata": {},
   "outputs": [],
   "source": [
    "\n",
    "event_code_dict = {'7071' :'L_Poke_Valid_IN',  '7171' :'L_led_Valid_ON',  '7271' :'L_sol_Valid_ON',\n",
    "                   '7070' :'L_Poke_Valid_OUT', '7170' :'L_led_Valid_OFF', '7270' :'L_sol_Valid_OFF',\n",
    "                   '8071' :'M_Poke_Valid_IN',  '8171' :'M_led_Valid_ON',  '8271' :'M_sol_Valid_ON',\n",
    "                   '8070' :'M_Poke_Valid_OUT', '8170' :'M_led_Valid_OFF', '8270' :'M_sol_Valid_OFF',\n",
    "                   '9071' :'R_Poke_Valid_IN',  '9171' :'R_led_Valid_ON',  '9271' :'R_sol_Valid_ON',\n",
    "                   '9070' :'R_Poke_Valid_OUT', '9170' :'R_led_Valid_OFF', '9270' :'R_sol_Valid_OFF',\n",
    "\n",
    "                   '7160' :'L_led_Invalid_OFF',\n",
    "                   '8160' :'M_led_Invalid_OFF',\n",
    "                   '9160' :'R_led_Invalid_OFF',\n",
    "\n",
    "                   '7519' :'L_iw',  '7529' :'L_tw',  '7539' :'L_vw', '7559' :'L_delay_w',\n",
    "                   '8519' :'M_iw',  '8529' :'M_tw',  '8539' :'M_vw', '8559' :'M_delay_w',\n",
    "                   '9519' :'R_iw',  '9529' :'R_tw',  '9539' :'R_vw', '9559' :'R_delay_w',\n",
    "\n",
    "                   '7540' :'Left Omission', '8540' :'Middle Omission', '9540' :'Right Omission',\n",
    "\n",
    "                   '5520' :'Trial_Window_End',\n",
    "                   '5521' :'Trial_Window_Start',\n",
    "\n",
    "                   '0114' :'END'}\n",
    "\n",
    "\n"
   ]
  },
  {
   "cell_type": "markdown",
   "metadata": {},
   "source": [
    "<a href='#data wrangling'>Back to Initial Data Wrangling</a>"
   ]
  },
  {
   "cell_type": "markdown",
   "metadata": {},
   "source": [
    "<a href='#return_body_df'>Back to return-body-df function</a>"
   ]
  },
  {
   "cell_type": "markdown",
   "metadata": {},
   "source": [
    "<a href='#Table of Contents'>Back to Table of Contents</a>"
   ]
  },
  {
   "cell_type": "markdown",
   "metadata": {},
   "source": [
    "#### End of Notebook"
   ]
  }
 ],
 "metadata": {
  "kernelspec": {
   "display_name": "Python 3",
   "language": "python",
   "name": "python3"
  },
  "language_info": {
   "codemirror_mode": {
    "name": "ipython",
    "version": 3
   },
   "file_extension": ".py",
   "mimetype": "text/x-python",
   "name": "python",
   "nbconvert_exporter": "python",
   "pygments_lexer": "ipython3",
   "version": "3.6.8"
  }
 },
 "nbformat": 4,
 "nbformat_minor": 2
}
